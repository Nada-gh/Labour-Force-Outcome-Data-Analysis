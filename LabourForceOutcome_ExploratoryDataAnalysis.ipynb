{
 "cells": [
  {
   "cell_type": "markdown",
   "metadata": {},
   "source": [
    "## What is the problem, what is the main question we want to answer?"
   ]
  },
  {
   "cell_type": "markdown",
   "metadata": {},
   "source": [
    "### The question is: \"What should my daughter study in college or university to ensure she gets a job?\"/ \"how major fields of study impact labour force outcomes for Canadians?\""
   ]
  },
  {
   "cell_type": "markdown",
   "metadata": {},
   "source": [
    "This question has several dimensions we need to zoom out! Let's break it down.\n",
    "\n",
    "1- Major fields of study.\n",
    "\n",
    "2- Labour force outcome.\n",
    "\n",
    "3- Canadians."
   ]
  },
  {
   "cell_type": "markdown",
   "metadata": {},
   "source": [
    "Those are the main key factors we will try to figure out what kind of connection/ correlation between them. Nevertheless, there should be some other related characteristics that can add some information to answer our question such as the gender. "
   ]
  },
  {
   "cell_type": "markdown",
   "metadata": {},
   "source": [
    "To answer this question, we need to build a knowledge base as a result of analyzing some historical data or past experiences. "
   ]
  },
  {
   "cell_type": "markdown",
   "metadata": {},
   "source": [
    "We can divide our data into two main parts: \n",
    "\n",
    "1- Target variable(s) is the dependent variable that we are looking to evaluate or predict. We have the \"labour force outcome\" as a target variable.\n",
    "\n",
    "2- Features or predictors  are the independent variables that can impact the target variable. "
   ]
  },
  {
   "cell_type": "markdown",
   "metadata": {},
   "source": [
    "What metrics we can use to evaluate the labour force outcome?"
   ]
  },
  {
   "cell_type": "markdown",
   "metadata": {},
   "source": [
    "Labour Force Outcome represents the already-employed people and the people who are looking for a job, excluding those people who are jobless and not willing to get a job or not actively looking for a job (e.g., housewives, retirees, etc). So several metrics can be used to study the labour force outcome, for example: employment rate, unemployment rate, salaries and wages. "
   ]
  },
  {
   "cell_type": "markdown",
   "metadata": {},
   "source": [
    "#### What data that can answer our question?"
   ]
  },
  {
   "cell_type": "markdown",
   "metadata": {},
   "source": [
    "After sometime of searching for a good data (up to date, large enough to solve the problem, and covers the main features of our interest), I decided to go with a data set offered by Statistics Canada.\n",
    "\n",
    "https://www12.statcan.gc.ca/census-recensement/2016/dp-pd/dt-td/Rp-eng.cfm?TABID=4&LANG=E&A=R&APATH=3&DETAIL=0&DIM=0&FL=A&FREE=0&GC=01&GL=-1&GID=1354588&GK=1&GRP=1&O=D&PID=111847&PRID=10&PTYPE=109445&S=0&SHOWALL=0&SUB=0&Temporal=2017&THEME=124&VID=0&VNAMEE=&VNAMEF=&D1=0&D2=0&D3=0&D4=0&D5=0&D6=0"
   ]
  },
  {
   "cell_type": "markdown",
   "metadata": {},
   "source": [
    "Let's dive in!"
   ]
  },
  {
   "cell_type": "code",
   "execution_count": 297,
   "metadata": {},
   "outputs": [],
   "source": [
    "## Importing the required libraries\n",
    "import pandas as pd\n",
    "import numpy as np\n",
    "from pathlib import Path\n",
    "import warnings\n",
    "warnings.filterwarnings('ignore')\n",
    "\n",
    "##Plotting Libraries\n",
    "import seaborn as sns\n",
    "import matplotlib.pyplot as plt\n",
    "%matplotlib inline\n",
    "plt.style.use('bmh')\n",
    "import dexplot as dxp\n"
   ]
  },
  {
   "cell_type": "markdown",
   "metadata": {},
   "source": [
    "## Reading Data"
   ]
  },
  {
   "cell_type": "code",
   "execution_count": 300,
   "metadata": {},
   "outputs": [
    {
     "data": {
      "text/plain": [
       "WindowsPath('C:/Users/KBrig/Labour-Force-Outcome-Data-Analysis/LabourForceOutcome_data.csv')"
      ]
     },
     "execution_count": 300,
     "metadata": {},
     "output_type": "execute_result"
    }
   ],
   "source": [
    "Data_dir = Path('C:/Users/KBrig/Labour-Force-Outcome-Data-Analysis/LabourForceOutcome_data.csv')\n",
    "Data_dir"
   ]
  },
  {
   "cell_type": "code",
   "execution_count": 301,
   "metadata": {},
   "outputs": [],
   "source": [
    "Tot_data = pd.read_csv(Data_dir)"
   ]
  },
  {
   "cell_type": "markdown",
   "metadata": {},
   "source": [
    "How does our data look like?"
   ]
  },
  {
   "cell_type": "code",
   "execution_count": 302,
   "metadata": {},
   "outputs": [
    {
     "data": {
      "text/html": [
       "<div>\n",
       "<style scoped>\n",
       "    .dataframe tbody tr th:only-of-type {\n",
       "        vertical-align: middle;\n",
       "    }\n",
       "\n",
       "    .dataframe tbody tr th {\n",
       "        vertical-align: top;\n",
       "    }\n",
       "\n",
       "    .dataframe thead th {\n",
       "        text-align: right;\n",
       "    }\n",
       "</style>\n",
       "<table border=\"1\" class=\"dataframe\">\n",
       "  <thead>\n",
       "    <tr style=\"text-align: right;\">\n",
       "      <th></th>\n",
       "      <th>CENSUS_YEAR</th>\n",
       "      <th>GEO_CODE (POR)</th>\n",
       "      <th>GEO_LEVEL</th>\n",
       "      <th>GEO_NAME</th>\n",
       "      <th>GNR</th>\n",
       "      <th>DATA_QUALITY_FLAG</th>\n",
       "      <th>ALT_GEO_CODE</th>\n",
       "      <th>DIM: Highest certificate, diploma or degree (11)</th>\n",
       "      <th>Member ID: Highest certificate, diploma or degree (11)</th>\n",
       "      <th>Notes: Highest certificate, diploma or degree (11)</th>\n",
       "      <th>...</th>\n",
       "      <th>Member ID: Major field of study - Classification of Instructional Programs (CIP) 2016 (43)</th>\n",
       "      <th>Notes: Major field of study - Classification of Instructional Programs (CIP) 2016 (43)</th>\n",
       "      <th>Dim: Labour force status (8): Member ID: [1]: Total - Labour force status (Note: 7)</th>\n",
       "      <th>Dim: Labour force status (8): Member ID: [2]: In the labour force</th>\n",
       "      <th>Dim: Labour force status (8): Member ID: [3]: Employed</th>\n",
       "      <th>Dim: Labour force status (8): Member ID: [4]: Unemployed</th>\n",
       "      <th>Dim: Labour force status (8): Member ID: [5]: Not in the labour force</th>\n",
       "      <th>Dim: Labour force status (8): Member ID: [6]: Participation rate</th>\n",
       "      <th>Dim: Labour force status (8): Member ID: [7]: Employment rate</th>\n",
       "      <th>Dim: Labour force status (8): Member ID: [8]: Unemployment rate</th>\n",
       "    </tr>\n",
       "  </thead>\n",
       "  <tbody>\n",
       "    <tr>\n",
       "      <th>0</th>\n",
       "      <td>2016</td>\n",
       "      <td>1</td>\n",
       "      <td>0</td>\n",
       "      <td>Canada</td>\n",
       "      <td>5.1</td>\n",
       "      <td>20000</td>\n",
       "      <td>1</td>\n",
       "      <td>Total - Highest certificate, diploma or degree</td>\n",
       "      <td>1</td>\n",
       "      <td>1.0</td>\n",
       "      <td>...</td>\n",
       "      <td>1</td>\n",
       "      <td>6.0</td>\n",
       "      <td>28643015</td>\n",
       "      <td>18672470</td>\n",
       "      <td>17230035</td>\n",
       "      <td>1442430</td>\n",
       "      <td>9970545</td>\n",
       "      <td>65.2</td>\n",
       "      <td>60.2</td>\n",
       "      <td>7.7</td>\n",
       "    </tr>\n",
       "    <tr>\n",
       "      <th>1</th>\n",
       "      <td>2016</td>\n",
       "      <td>1</td>\n",
       "      <td>0</td>\n",
       "      <td>Canada</td>\n",
       "      <td>5.1</td>\n",
       "      <td>20000</td>\n",
       "      <td>1</td>\n",
       "      <td>Total - Highest certificate, diploma or degree</td>\n",
       "      <td>1</td>\n",
       "      <td>1.0</td>\n",
       "      <td>...</td>\n",
       "      <td>2</td>\n",
       "      <td>NaN</td>\n",
       "      <td>12815975</td>\n",
       "      <td>6825825</td>\n",
       "      <td>6098850</td>\n",
       "      <td>726975</td>\n",
       "      <td>5990155</td>\n",
       "      <td>53.3</td>\n",
       "      <td>47.6</td>\n",
       "      <td>10.7</td>\n",
       "    </tr>\n",
       "    <tr>\n",
       "      <th>2</th>\n",
       "      <td>2016</td>\n",
       "      <td>1</td>\n",
       "      <td>0</td>\n",
       "      <td>Canada</td>\n",
       "      <td>5.1</td>\n",
       "      <td>20000</td>\n",
       "      <td>1</td>\n",
       "      <td>Total - Highest certificate, diploma or degree</td>\n",
       "      <td>1</td>\n",
       "      <td>1.0</td>\n",
       "      <td>...</td>\n",
       "      <td>3</td>\n",
       "      <td>NaN</td>\n",
       "      <td>205930</td>\n",
       "      <td>161910</td>\n",
       "      <td>154270</td>\n",
       "      <td>7635</td>\n",
       "      <td>44020</td>\n",
       "      <td>78.6</td>\n",
       "      <td>74.9</td>\n",
       "      <td>4.7</td>\n",
       "    </tr>\n",
       "  </tbody>\n",
       "</table>\n",
       "<p>3 rows × 27 columns</p>\n",
       "</div>"
      ],
      "text/plain": [
       "   CENSUS_YEAR  GEO_CODE (POR)  GEO_LEVEL GEO_NAME  GNR  DATA_QUALITY_FLAG  \\\n",
       "0         2016               1          0   Canada  5.1              20000   \n",
       "1         2016               1          0   Canada  5.1              20000   \n",
       "2         2016               1          0   Canada  5.1              20000   \n",
       "\n",
       "   ALT_GEO_CODE DIM: Highest certificate, diploma or degree (11)  \\\n",
       "0             1   Total - Highest certificate, diploma or degree   \n",
       "1             1   Total - Highest certificate, diploma or degree   \n",
       "2             1   Total - Highest certificate, diploma or degree   \n",
       "\n",
       "   Member ID: Highest certificate, diploma or degree (11)  \\\n",
       "0                                                  1        \n",
       "1                                                  1        \n",
       "2                                                  1        \n",
       "\n",
       "   Notes: Highest certificate, diploma or degree (11)  \\\n",
       "0                                                1.0    \n",
       "1                                                1.0    \n",
       "2                                                1.0    \n",
       "\n",
       "                                ...                                 \\\n",
       "0                               ...                                  \n",
       "1                               ...                                  \n",
       "2                               ...                                  \n",
       "\n",
       "  Member ID: Major field of study - Classification of Instructional Programs (CIP) 2016 (43)  \\\n",
       "0                                                  1                                           \n",
       "1                                                  2                                           \n",
       "2                                                  3                                           \n",
       "\n",
       "   Notes: Major field of study - Classification of Instructional Programs (CIP) 2016 (43)  \\\n",
       "0                                                6.0                                        \n",
       "1                                                NaN                                        \n",
       "2                                                NaN                                        \n",
       "\n",
       "   Dim: Labour force status (8): Member ID: [1]: Total - Labour force status (Note: 7)  \\\n",
       "0                                           28643015                                     \n",
       "1                                           12815975                                     \n",
       "2                                             205930                                     \n",
       "\n",
       "  Dim: Labour force status (8): Member ID: [2]: In the labour force  \\\n",
       "0                                           18672470                  \n",
       "1                                            6825825                  \n",
       "2                                             161910                  \n",
       "\n",
       "   Dim: Labour force status (8): Member ID: [3]: Employed  \\\n",
       "0                                           17230035        \n",
       "1                                            6098850        \n",
       "2                                             154270        \n",
       "\n",
       "   Dim: Labour force status (8): Member ID: [4]: Unemployed  \\\n",
       "0                                            1442430          \n",
       "1                                             726975          \n",
       "2                                               7635          \n",
       "\n",
       "  Dim: Labour force status (8): Member ID: [5]: Not in the labour force  \\\n",
       "0                                            9970545                      \n",
       "1                                            5990155                      \n",
       "2                                              44020                      \n",
       "\n",
       "   Dim: Labour force status (8): Member ID: [6]: Participation rate  \\\n",
       "0                                               65.2                  \n",
       "1                                               53.3                  \n",
       "2                                               78.6                  \n",
       "\n",
       "   Dim: Labour force status (8): Member ID: [7]: Employment rate  \\\n",
       "0                                               60.2               \n",
       "1                                               47.6               \n",
       "2                                               74.9               \n",
       "\n",
       "   Dim: Labour force status (8): Member ID: [8]: Unemployment rate  \n",
       "0                                                7.7                \n",
       "1                                               10.7                \n",
       "2                                                4.7                \n",
       "\n",
       "[3 rows x 27 columns]"
      ]
     },
     "execution_count": 302,
     "metadata": {},
     "output_type": "execute_result"
    }
   ],
   "source": [
    "Tot_data.head(3)"
   ]
  },
  {
   "cell_type": "markdown",
   "metadata": {},
   "source": [
    "## Data Cleaning"
   ]
  },
  {
   "cell_type": "markdown",
   "metadata": {},
   "source": [
    "## What features/variables do we have here?"
   ]
  },
  {
   "cell_type": "code",
   "execution_count": 303,
   "metadata": {},
   "outputs": [
    {
     "data": {
      "text/plain": [
       "Index(['CENSUS_YEAR', 'GEO_CODE (POR)', 'GEO_LEVEL', 'GEO_NAME', 'GNR',\n",
       "       'DATA_QUALITY_FLAG', 'ALT_GEO_CODE',\n",
       "       'DIM: Highest certificate, diploma or degree (11)',\n",
       "       'Member ID: Highest certificate, diploma or degree (11)',\n",
       "       'Notes: Highest certificate, diploma or degree (11)', 'DIM: Age (9)',\n",
       "       'Member ID: Age (9)', 'Notes: Age (9)', 'DIM: Sex (3)',\n",
       "       'Member ID: Sex (3)', 'Notes: Sex (3)',\n",
       "       'DIM: Major field of study - Classification of Instructional Programs (CIP) 2016 (43)',\n",
       "       'Member ID: Major field of study - Classification of Instructional Programs (CIP) 2016 (43)',\n",
       "       'Notes: Major field of study - Classification of Instructional Programs (CIP) 2016 (43)',\n",
       "       'Dim: Labour force status (8): Member ID: [1]: Total - Labour force status (Note: 7)',\n",
       "       'Dim: Labour force status (8): Member ID: [2]: In the labour force',\n",
       "       'Dim: Labour force status (8): Member ID: [3]: Employed',\n",
       "       'Dim: Labour force status (8): Member ID: [4]: Unemployed',\n",
       "       'Dim: Labour force status (8): Member ID: [5]: Not in the labour force',\n",
       "       'Dim: Labour force status (8): Member ID: [6]: Participation rate',\n",
       "       'Dim: Labour force status (8): Member ID: [7]: Employment rate',\n",
       "       'Dim: Labour force status (8): Member ID: [8]: Unemployment rate'],\n",
       "      dtype='object')"
      ]
     },
     "execution_count": 303,
     "metadata": {},
     "output_type": "execute_result"
    }
   ],
   "source": [
    "Tot_data.columns"
   ]
  },
  {
   "cell_type": "code",
   "execution_count": 304,
   "metadata": {},
   "outputs": [
    {
     "data": {
      "text/plain": [
       "array(['Canada', 'Newfoundland and Labrador', 'Division No. 1',\n",
       "       'Division No. 2', 'Division No. 3', 'Division No. 4',\n",
       "       'Division No. 5', 'Division No. 6', 'Division No. 7',\n",
       "       'Division No. 8', 'Division No. 9', 'Division No. 10',\n",
       "       'Division No. 11', 'Prince Edward Island', 'Kings', 'Queens',\n",
       "       'Prince', 'Nova Scotia', 'Shelburne', 'Yarmouth', 'Digby',\n",
       "       'Annapolis', 'Lunenburg', 'Hants', 'Halifax', 'Colchester',\n",
       "       'Cumberland', 'Pictou', 'Guysborough', 'Antigonish', 'Inverness',\n",
       "       'Richmond', 'Cape Breton', 'Victoria', 'New Brunswick',\n",
       "       'Saint John', 'Charlotte', 'Sunbury', 'Albert', 'Westmorland',\n",
       "       'Kent', 'Northumberland', 'York', 'Carleton', 'Madawaska',\n",
       "       'Restigouche', 'Gloucester', 'Quebec', 'Les Îles-de-la-Madeleine',\n",
       "       'Le Rocher-Percé', 'La Côte-de-Gaspé', 'La Haute-Gaspésie',\n",
       "       'Bonaventure', 'Avignon', 'La Matapédia', 'Matane', 'La Mitis',\n",
       "       'Rimouski-Neigette', 'Les Basques', 'Rivière-du-Loup',\n",
       "       'Témiscouata', 'Kamouraska', 'Charlevoix-Est', 'Charlevoix',\n",
       "       \"L'Islet\", 'Montmagny', 'Bellechasse', \"L'Île-d'Orléans\",\n",
       "       'La Côte-de-Beaupré', 'La Jacques-Cartier', 'Québec', 'Lévis',\n",
       "       'La Nouvelle-Beauce', 'Robert-Cliche', 'Les Etchemins',\n",
       "       'Beauce-Sartigan', 'Le Granit', 'Les Appalaches', \"L'Érable\",\n",
       "       'Lotbinière', 'Portneuf', 'Mékinac', 'Shawinigan', 'Francheville',\n",
       "       'Bécancour', 'Arthabaska', 'Les Sources', 'Le Haut-Saint-François',\n",
       "       'Le Val-Saint-François', 'Sherbrooke', 'Coaticook', 'Memphrémagog',\n",
       "       'Brome-Missisquoi', 'La Haute-Yamaska', 'Acton', 'Drummond',\n",
       "       'Nicolet-Yamaska', 'Maskinongé', \"D'Autray\", 'Pierre-De Saurel',\n",
       "       'Les Maskoutains', 'Rouville', 'Le Haut-Richelieu',\n",
       "       'La Vallée-du-Richelieu', 'Longueuil', \"Marguerite-D'Youville\",\n",
       "       \"L'Assomption\", 'Joliette', 'Matawinie', 'Montcalm', 'Les Moulins',\n",
       "       'Laval', 'Montréal', 'Roussillon', 'Les Jardins-de-Napierville',\n",
       "       'Le Haut-Saint-Laurent', 'Beauharnois-Salaberry',\n",
       "       'Vaudreuil-Soulanges', 'Deux-Montagnes', 'Thérèse-De Blainville',\n",
       "       'Mirabel', 'La Rivière-du-Nord', 'Argenteuil',\n",
       "       \"Les Pays-d'en-Haut\", 'Les Laurentides', 'Antoine-Labelle',\n",
       "       'Papineau', 'Gatineau', \"Les Collines-de-l'Outaouais\",\n",
       "       'La Vallée-de-la-Gatineau', 'Pontiac', 'Témiscamingue',\n",
       "       'Rouyn-Noranda', 'Abitibi-Ouest', 'Abitibi', \"La Vallée-de-l'Or\",\n",
       "       'La Tuque', 'Le Domaine-du-Roy', 'Maria-Chapdelaine',\n",
       "       'Lac-Saint-Jean-Est', 'Le Saguenay-et-son-Fjord',\n",
       "       'La Haute-Côte-Nord', 'Manicouagan', 'Sept-Rivières--Caniapiscau',\n",
       "       'Minganie--Le Golfe-du-Saint-Laurent', 'Nord-du-Québec', 'Ontario',\n",
       "       'Stormont, Dundas and Glengarry', 'Prescott and Russell', 'Ottawa',\n",
       "       'Leeds and Grenville', 'Lanark', 'Frontenac',\n",
       "       'Lennox and Addington', 'Hastings', 'Prince Edward',\n",
       "       'Peterborough', 'Kawartha Lakes', 'Durham', 'Toronto', 'Peel',\n",
       "       'Dufferin', 'Wellington', 'Halton', 'Hamilton', 'Niagara',\n",
       "       'Haldimand-Norfolk', 'Brant', 'Waterloo', 'Perth', 'Oxford',\n",
       "       'Elgin', 'Chatham-Kent', 'Essex', 'Lambton', 'Middlesex', 'Huron',\n",
       "       'Bruce', 'Grey', 'Simcoe', 'Muskoka', 'Haliburton', 'Renfrew',\n",
       "       'Nipissing', 'Parry Sound', 'Manitoulin', 'Sudbury',\n",
       "       'Greater Sudbury / Grand Sudbury', 'Timiskaming', 'Cochrane',\n",
       "       'Algoma', 'Thunder Bay', 'Rainy River', 'Kenora', 'Manitoba',\n",
       "       'Division No. 12', 'Division No. 13', 'Division No. 14',\n",
       "       'Division No. 15', 'Division No. 16', 'Division No. 17',\n",
       "       'Division No. 18', 'Division No. 19', 'Division No. 20',\n",
       "       'Division No. 21', 'Division No. 22', 'Division No. 23',\n",
       "       'Saskatchewan', 'Alberta', 'British Columbia', 'East Kootenay',\n",
       "       'Central Kootenay', 'Kootenay Boundary', 'Okanagan-Similkameen',\n",
       "       'Fraser Valley', 'Greater Vancouver', 'Capital', 'Cowichan Valley',\n",
       "       'Nanaimo', 'Alberni-Clayoquot', 'Strathcona', 'Comox Valley',\n",
       "       'Powell River', 'Sunshine Coast', 'Squamish-Lillooet',\n",
       "       'Thompson-Nicola', 'Central Okanagan', 'North Okanagan',\n",
       "       'Columbia-Shuswap', 'Cariboo', 'Mount Waddington', 'Central Coast',\n",
       "       'Skeena-Queen Charlotte', 'Kitimat-Stikine', 'Bulkley-Nechako',\n",
       "       'Fraser-Fort George', 'Peace River', 'Stikine', 'Northern Rockies',\n",
       "       'Yukon', 'Northwest Territories', 'Region 1', 'Region 2',\n",
       "       'Region 3', 'Region 4', 'Region 5', 'Region 6', 'Nunavut',\n",
       "       'Baffin', 'Keewatin', 'Kitikmeot'], dtype=object)"
      ]
     },
     "execution_count": 304,
     "metadata": {},
     "output_type": "execute_result"
    }
   ],
   "source": [
    "Tot_data.GEO_NAME.unique()"
   ]
  },
  {
   "cell_type": "markdown",
   "metadata": {},
   "source": [
    "I can see that we have various hierarchies of the geographic areas, so it is more logical to compare data of the same category (e.g., Canada only,provinces only, devisions only, regions only,etc). I would start first with the samples that do not specify the geographic area inside Canada(i.e., GEO_NAME='Canada'). Nevertheless, we can later have another part that studies the impact of the geographical differences. "
   ]
  },
  {
   "cell_type": "code",
   "execution_count": 305,
   "metadata": {},
   "outputs": [],
   "source": [
    "Canada_data = Tot_data[Tot_data.GEO_NAME=='Canada']"
   ]
  },
  {
   "cell_type": "code",
   "execution_count": 306,
   "metadata": {},
   "outputs": [
    {
     "data": {
      "text/plain": [
       "(12771, 27)"
      ]
     },
     "execution_count": 306,
     "metadata": {},
     "output_type": "execute_result"
    }
   ],
   "source": [
    "Canada_data.shape"
   ]
  },
  {
   "cell_type": "markdown",
   "metadata": {},
   "source": [
    "We have a total of 12771 samples characterized by 27 features."
   ]
  },
  {
   "cell_type": "markdown",
   "metadata": {},
   "source": [
    "## Missing Data"
   ]
  },
  {
   "cell_type": "code",
   "execution_count": 307,
   "metadata": {},
   "outputs": [
    {
     "data": {
      "text/plain": [
       "CENSUS_YEAR                                                                                       0\n",
       "GEO_CODE (POR)                                                                                    0\n",
       "GEO_LEVEL                                                                                         0\n",
       "GEO_NAME                                                                                          0\n",
       "GNR                                                                                               0\n",
       "DATA_QUALITY_FLAG                                                                                 0\n",
       "ALT_GEO_CODE                                                                                      0\n",
       "DIM: Highest certificate, diploma or degree (11)                                                  0\n",
       "Member ID: Highest certificate, diploma or degree (11)                                            0\n",
       "Notes: Highest certificate, diploma or degree (11)                                             6966\n",
       "DIM: Age (9)                                                                                      0\n",
       "Member ID: Age (9)                                                                                0\n",
       "Notes: Age (9)                                                                                12771\n",
       "DIM: Sex (3)                                                                                      0\n",
       "Member ID: Sex (3)                                                                                0\n",
       "Notes: Sex (3)                                                                                12771\n",
       "DIM: Major field of study - Classification of Instructional Programs (CIP) 2016 (43)              0\n",
       "Member ID: Major field of study - Classification of Instructional Programs (CIP) 2016 (43)        0\n",
       "Notes: Major field of study - Classification of Instructional Programs (CIP) 2016 (43)        12474\n",
       "Dim: Labour force status (8): Member ID: [1]: Total - Labour force status (Note: 7)               0\n",
       "Dim: Labour force status (8): Member ID: [2]: In the labour force                                 0\n",
       "Dim: Labour force status (8): Member ID: [3]: Employed                                            0\n",
       "Dim: Labour force status (8): Member ID: [4]: Unemployed                                          0\n",
       "Dim: Labour force status (8): Member ID: [5]: Not in the labour force                             0\n",
       "Dim: Labour force status (8): Member ID: [6]: Participation rate                                  0\n",
       "Dim: Labour force status (8): Member ID: [7]: Employment rate                                     0\n",
       "Dim: Labour force status (8): Member ID: [8]: Unemployment rate                                   0\n",
       "dtype: int64"
      ]
     },
     "execution_count": 307,
     "metadata": {},
     "output_type": "execute_result"
    }
   ],
   "source": [
    "Canada_data.isnull().sum()"
   ]
  },
  {
   "cell_type": "markdown",
   "metadata": {},
   "source": [
    "Thus, we don't really have missing data. Instead, those missing entires are within the notes section of the data. No harm then!"
   ]
  },
  {
   "cell_type": "markdown",
   "metadata": {},
   "source": [
    "## Census Year"
   ]
  },
  {
   "cell_type": "code",
   "execution_count": 308,
   "metadata": {},
   "outputs": [
    {
     "data": {
      "text/plain": [
       "array([2016], dtype=int64)"
      ]
     },
     "execution_count": 308,
     "metadata": {},
     "output_type": "execute_result"
    }
   ],
   "source": [
    "Canada_data.CENSUS_YEAR.unique()"
   ]
  },
  {
   "cell_type": "markdown",
   "metadata": {},
   "source": [
    "All the data we have are collected in the same year, 2016. "
   ]
  },
  {
   "cell_type": "markdown",
   "metadata": {},
   "source": [
    "## Geographical Features"
   ]
  },
  {
   "cell_type": "code",
   "execution_count": 309,
   "metadata": {},
   "outputs": [],
   "source": [
    "Geo_features = ['GEO_CODE (POR)', 'GEO_LEVEL','ALT_GEO_CODE','GEO_NAME']"
   ]
  },
  {
   "cell_type": "code",
   "execution_count": 310,
   "metadata": {},
   "outputs": [
    {
     "name": "stdout",
     "output_type": "stream",
     "text": [
      "[1]\n",
      "[0]\n",
      "[1]\n",
      "['Canada']\n"
     ]
    }
   ],
   "source": [
    "for col in Geo_features:\n",
    "    print(Canada_data[col].unique())"
   ]
  },
  {
   "cell_type": "markdown",
   "metadata": {},
   "source": [
    "The three variables represents the geographic area. "
   ]
  },
  {
   "cell_type": "markdown",
   "metadata": {},
   "source": [
    "## GNR"
   ]
  },
  {
   "cell_type": "code",
   "execution_count": 311,
   "metadata": {},
   "outputs": [
    {
     "data": {
      "text/plain": [
       "array([5.1])"
      ]
     },
     "execution_count": 311,
     "metadata": {},
     "output_type": "execute_result"
    }
   ],
   "source": [
    "Canada_data.GNR.unique()"
   ]
  },
  {
   "cell_type": "markdown",
   "metadata": {},
   "source": [
    "## Data Quality Flag"
   ]
  },
  {
   "cell_type": "code",
   "execution_count": 312,
   "metadata": {},
   "outputs": [
    {
     "data": {
      "text/plain": [
       "array([20000], dtype=int64)"
      ]
     },
     "execution_count": 312,
     "metadata": {},
     "output_type": "execute_result"
    }
   ],
   "source": [
    "Canada_data.DATA_QUALITY_FLAG.unique()"
   ]
  },
  {
   "cell_type": "markdown",
   "metadata": {},
   "source": [
    "## Highest certificate, diploma or degree"
   ]
  },
  {
   "cell_type": "code",
   "execution_count": 313,
   "metadata": {},
   "outputs": [],
   "source": [
    "EducationalLevels_features = ['DIM: Highest certificate, diploma or degree (11)','Member ID: Highest certificate, diploma or degree (11)','Notes: Highest certificate, diploma or degree (11)']"
   ]
  },
  {
   "cell_type": "code",
   "execution_count": 314,
   "metadata": {},
   "outputs": [
    {
     "name": "stdout",
     "output_type": "stream",
     "text": [
      "['Total - Highest certificate, diploma or degree'\n",
      " 'No certificate, diploma or degree'\n",
      " 'Secondary (high) school diploma or equivalency certificate'\n",
      " 'Apprenticeship or trades certificate or diploma'\n",
      " 'Trades certificate or diploma other than Certificate of Apprenticeship or Certificate of Qualification'\n",
      " 'Certificate of Apprenticeship or Certificate of Qualification'\n",
      " 'College, CEGEP or other non-university certificate or diploma'\n",
      " 'University certificate or diploma below bachelor level'\n",
      " 'University certificate, diploma or degree at bachelor level or above'\n",
      " \"Bachelor's degree\"\n",
      " 'University certificate, diploma or degree above bachelor level']\n",
      "[ 1  2  3  4  5  6  7  8  9 10 11]\n",
      "[ 1. nan  2.  3.  4.  5.]\n"
     ]
    }
   ],
   "source": [
    "for col in EducationalLevels_features:\n",
    "    print(Canada_data[col].unique())"
   ]
  },
  {
   "cell_type": "markdown",
   "metadata": {},
   "source": [
    "We are interested in only those graduates from a collage or university!\n",
    "\n",
    "- College, CEGEP or other non-university certificate or diploma.\n",
    "\n",
    "- University certificate or diploma below bachelor level.\n",
    "\n",
    "- University certificate, diploma or degree at bachelor level or above.\n",
    "\n",
    "- Bachelor's degree.\n",
    "\n",
    "- University certificate, diploma or degree above bachelor level.\n"
   ]
  },
  {
   "cell_type": "code",
   "execution_count": 315,
   "metadata": {},
   "outputs": [],
   "source": [
    "Degrees_of_interest = [7,8,9,10,11]"
   ]
  },
  {
   "cell_type": "code",
   "execution_count": 316,
   "metadata": {},
   "outputs": [
    {
     "data": {
      "text/html": [
       "<div>\n",
       "<style scoped>\n",
       "    .dataframe tbody tr th:only-of-type {\n",
       "        vertical-align: middle;\n",
       "    }\n",
       "\n",
       "    .dataframe tbody tr th {\n",
       "        vertical-align: top;\n",
       "    }\n",
       "\n",
       "    .dataframe thead th {\n",
       "        text-align: right;\n",
       "    }\n",
       "</style>\n",
       "<table border=\"1\" class=\"dataframe\">\n",
       "  <thead>\n",
       "    <tr style=\"text-align: right;\">\n",
       "      <th></th>\n",
       "      <th>CENSUS_YEAR</th>\n",
       "      <th>GEO_CODE (POR)</th>\n",
       "      <th>GEO_LEVEL</th>\n",
       "      <th>GEO_NAME</th>\n",
       "      <th>GNR</th>\n",
       "      <th>DATA_QUALITY_FLAG</th>\n",
       "      <th>ALT_GEO_CODE</th>\n",
       "      <th>DIM: Highest certificate, diploma or degree (11)</th>\n",
       "      <th>Member ID: Highest certificate, diploma or degree (11)</th>\n",
       "      <th>Notes: Highest certificate, diploma or degree (11)</th>\n",
       "      <th>...</th>\n",
       "      <th>Member ID: Major field of study - Classification of Instructional Programs (CIP) 2016 (43)</th>\n",
       "      <th>Notes: Major field of study - Classification of Instructional Programs (CIP) 2016 (43)</th>\n",
       "      <th>Dim: Labour force status (8): Member ID: [1]: Total - Labour force status (Note: 7)</th>\n",
       "      <th>Dim: Labour force status (8): Member ID: [2]: In the labour force</th>\n",
       "      <th>Dim: Labour force status (8): Member ID: [3]: Employed</th>\n",
       "      <th>Dim: Labour force status (8): Member ID: [4]: Unemployed</th>\n",
       "      <th>Dim: Labour force status (8): Member ID: [5]: Not in the labour force</th>\n",
       "      <th>Dim: Labour force status (8): Member ID: [6]: Participation rate</th>\n",
       "      <th>Dim: Labour force status (8): Member ID: [7]: Employment rate</th>\n",
       "      <th>Dim: Labour force status (8): Member ID: [8]: Unemployment rate</th>\n",
       "    </tr>\n",
       "  </thead>\n",
       "  <tbody>\n",
       "    <tr>\n",
       "      <th>6966</th>\n",
       "      <td>2016</td>\n",
       "      <td>1</td>\n",
       "      <td>0</td>\n",
       "      <td>Canada</td>\n",
       "      <td>5.1</td>\n",
       "      <td>20000</td>\n",
       "      <td>1</td>\n",
       "      <td>College, CEGEP or other non-university certifi...</td>\n",
       "      <td>7</td>\n",
       "      <td>NaN</td>\n",
       "      <td>...</td>\n",
       "      <td>1</td>\n",
       "      <td>6.0</td>\n",
       "      <td>5553830</td>\n",
       "      <td>4125605</td>\n",
       "      <td>3877850</td>\n",
       "      <td>247755</td>\n",
       "      <td>1428220</td>\n",
       "      <td>74.3</td>\n",
       "      <td>69.8</td>\n",
       "      <td>6.0</td>\n",
       "    </tr>\n",
       "    <tr>\n",
       "      <th>6967</th>\n",
       "      <td>2016</td>\n",
       "      <td>1</td>\n",
       "      <td>0</td>\n",
       "      <td>Canada</td>\n",
       "      <td>5.1</td>\n",
       "      <td>20000</td>\n",
       "      <td>1</td>\n",
       "      <td>College, CEGEP or other non-university certifi...</td>\n",
       "      <td>7</td>\n",
       "      <td>NaN</td>\n",
       "      <td>...</td>\n",
       "      <td>2</td>\n",
       "      <td>NaN</td>\n",
       "      <td>0</td>\n",
       "      <td>0</td>\n",
       "      <td>0</td>\n",
       "      <td>0</td>\n",
       "      <td>0</td>\n",
       "      <td>0.0</td>\n",
       "      <td>0.0</td>\n",
       "      <td>0.0</td>\n",
       "    </tr>\n",
       "    <tr>\n",
       "      <th>6968</th>\n",
       "      <td>2016</td>\n",
       "      <td>1</td>\n",
       "      <td>0</td>\n",
       "      <td>Canada</td>\n",
       "      <td>5.1</td>\n",
       "      <td>20000</td>\n",
       "      <td>1</td>\n",
       "      <td>College, CEGEP or other non-university certifi...</td>\n",
       "      <td>7</td>\n",
       "      <td>NaN</td>\n",
       "      <td>...</td>\n",
       "      <td>3</td>\n",
       "      <td>NaN</td>\n",
       "      <td>80560</td>\n",
       "      <td>64960</td>\n",
       "      <td>62125</td>\n",
       "      <td>2835</td>\n",
       "      <td>15600</td>\n",
       "      <td>80.6</td>\n",
       "      <td>77.1</td>\n",
       "      <td>4.4</td>\n",
       "    </tr>\n",
       "  </tbody>\n",
       "</table>\n",
       "<p>3 rows × 27 columns</p>\n",
       "</div>"
      ],
      "text/plain": [
       "      CENSUS_YEAR  GEO_CODE (POR)  GEO_LEVEL GEO_NAME  GNR  DATA_QUALITY_FLAG  \\\n",
       "6966         2016               1          0   Canada  5.1              20000   \n",
       "6967         2016               1          0   Canada  5.1              20000   \n",
       "6968         2016               1          0   Canada  5.1              20000   \n",
       "\n",
       "      ALT_GEO_CODE   DIM: Highest certificate, diploma or degree (11)  \\\n",
       "6966             1  College, CEGEP or other non-university certifi...   \n",
       "6967             1  College, CEGEP or other non-university certifi...   \n",
       "6968             1  College, CEGEP or other non-university certifi...   \n",
       "\n",
       "      Member ID: Highest certificate, diploma or degree (11)  \\\n",
       "6966                                                  7        \n",
       "6967                                                  7        \n",
       "6968                                                  7        \n",
       "\n",
       "      Notes: Highest certificate, diploma or degree (11)  \\\n",
       "6966                                                NaN    \n",
       "6967                                                NaN    \n",
       "6968                                                NaN    \n",
       "\n",
       "                                   ...                                 \\\n",
       "6966                               ...                                  \n",
       "6967                               ...                                  \n",
       "6968                               ...                                  \n",
       "\n",
       "     Member ID: Major field of study - Classification of Instructional Programs (CIP) 2016 (43)  \\\n",
       "6966                                                  1                                           \n",
       "6967                                                  2                                           \n",
       "6968                                                  3                                           \n",
       "\n",
       "      Notes: Major field of study - Classification of Instructional Programs (CIP) 2016 (43)  \\\n",
       "6966                                                6.0                                        \n",
       "6967                                                NaN                                        \n",
       "6968                                                NaN                                        \n",
       "\n",
       "      Dim: Labour force status (8): Member ID: [1]: Total - Labour force status (Note: 7)  \\\n",
       "6966                                            5553830                                     \n",
       "6967                                                  0                                     \n",
       "6968                                              80560                                     \n",
       "\n",
       "     Dim: Labour force status (8): Member ID: [2]: In the labour force  \\\n",
       "6966                                            4125605                  \n",
       "6967                                                  0                  \n",
       "6968                                              64960                  \n",
       "\n",
       "      Dim: Labour force status (8): Member ID: [3]: Employed  \\\n",
       "6966                                            3877850        \n",
       "6967                                                  0        \n",
       "6968                                              62125        \n",
       "\n",
       "      Dim: Labour force status (8): Member ID: [4]: Unemployed  \\\n",
       "6966                                             247755          \n",
       "6967                                                  0          \n",
       "6968                                               2835          \n",
       "\n",
       "     Dim: Labour force status (8): Member ID: [5]: Not in the labour force  \\\n",
       "6966                                            1428220                      \n",
       "6967                                                  0                      \n",
       "6968                                              15600                      \n",
       "\n",
       "      Dim: Labour force status (8): Member ID: [6]: Participation rate  \\\n",
       "6966                                               74.3                  \n",
       "6967                                                0.0                  \n",
       "6968                                               80.6                  \n",
       "\n",
       "      Dim: Labour force status (8): Member ID: [7]: Employment rate  \\\n",
       "6966                                               69.8               \n",
       "6967                                                0.0               \n",
       "6968                                               77.1               \n",
       "\n",
       "      Dim: Labour force status (8): Member ID: [8]: Unemployment rate  \n",
       "6966                                                6.0                \n",
       "6967                                                0.0                \n",
       "6968                                                4.4                \n",
       "\n",
       "[3 rows x 27 columns]"
      ]
     },
     "execution_count": 316,
     "metadata": {},
     "output_type": "execute_result"
    }
   ],
   "source": [
    "## select only rows with the passed educational lavels \n",
    "Canada_data[Canada_data['Member ID: Highest certificate, diploma or degree (11)'].isin(Degrees_of_interest)].head(3)"
   ]
  },
  {
   "cell_type": "markdown",
   "metadata": {},
   "source": [
    "## Age"
   ]
  },
  {
   "cell_type": "markdown",
   "metadata": {},
   "source": [
    "'Age' refers to the age of a person (or subject) of interest at last birthday (or relative to a specified, well-defined reference date)."
   ]
  },
  {
   "cell_type": "code",
   "execution_count": 358,
   "metadata": {},
   "outputs": [],
   "source": [
    "Age_features =['DIM: Age (9)','Member ID: Age (9)','Notes: Age (9)']"
   ]
  },
  {
   "cell_type": "code",
   "execution_count": 318,
   "metadata": {},
   "outputs": [
    {
     "name": "stdout",
     "output_type": "stream",
     "text": [
      "['Total - Age' '15 to 24 years' '25 to 64 years' '25 to 54 years'\n",
      " '25 to 34 years' '35 to 44 years' '45 to 54 years' '55 to 64 years'\n",
      " '65 years and over']\n",
      "[1 2 3 4 5 6 7 8 9]\n",
      "[nan]\n"
     ]
    }
   ],
   "source": [
    "for col in Age_features:\n",
    "    print(Canada_data[col].unique())"
   ]
  },
  {
   "cell_type": "markdown",
   "metadata": {},
   "source": [
    "We can filter the age groups to the only ones that may add a value to our analysis."
   ]
  },
  {
   "cell_type": "code",
   "execution_count": 321,
   "metadata": {},
   "outputs": [
    {
     "data": {
      "text/plain": [
       "array([2, 3, 4, 5, 6, 7, 8, 9], dtype=int64)"
      ]
     },
     "execution_count": 321,
     "metadata": {},
     "output_type": "execute_result"
    }
   ],
   "source": [
    "Canada_data['Member ID: Age (9)'].unique()[1:]"
   ]
  },
  {
   "cell_type": "code",
   "execution_count": 322,
   "metadata": {},
   "outputs": [],
   "source": [
    "SelectedAgeGroups= [2, 3, 4, 5, 6, 7, 8, 9]"
   ]
  },
  {
   "cell_type": "markdown",
   "metadata": {},
   "source": [
    "That is only what we need from the available groups of ages."
   ]
  },
  {
   "cell_type": "markdown",
   "metadata": {},
   "source": [
    "## Sex"
   ]
  },
  {
   "cell_type": "code",
   "execution_count": 250,
   "metadata": {},
   "outputs": [],
   "source": [
    "Sex_features = ['DIM: Sex (3)','Member ID: Sex (3)', 'Notes: Sex (3)']"
   ]
  },
  {
   "cell_type": "code",
   "execution_count": 251,
   "metadata": {},
   "outputs": [
    {
     "name": "stdout",
     "output_type": "stream",
     "text": [
      "['Total - Sex' 'Male' 'Female']\n",
      "[1 2 3]\n",
      "[nan]\n"
     ]
    }
   ],
   "source": [
    "for col in Sex_features:\n",
    "    print(Canada_data[col].unique())"
   ]
  },
  {
   "cell_type": "code",
   "execution_count": 252,
   "metadata": {},
   "outputs": [
    {
     "data": {
      "text/html": [
       "<div>\n",
       "<style scoped>\n",
       "    .dataframe tbody tr th:only-of-type {\n",
       "        vertical-align: middle;\n",
       "    }\n",
       "\n",
       "    .dataframe tbody tr th {\n",
       "        vertical-align: top;\n",
       "    }\n",
       "\n",
       "    .dataframe thead th {\n",
       "        text-align: right;\n",
       "    }\n",
       "</style>\n",
       "<table border=\"1\" class=\"dataframe\">\n",
       "  <thead>\n",
       "    <tr style=\"text-align: right;\">\n",
       "      <th></th>\n",
       "      <th>CENSUS_YEAR</th>\n",
       "      <th>GEO_CODE (POR)</th>\n",
       "      <th>GEO_LEVEL</th>\n",
       "      <th>GEO_NAME</th>\n",
       "      <th>GNR</th>\n",
       "      <th>DATA_QUALITY_FLAG</th>\n",
       "      <th>ALT_GEO_CODE</th>\n",
       "      <th>DIM: Highest certificate, diploma or degree (11)</th>\n",
       "      <th>Member ID: Highest certificate, diploma or degree (11)</th>\n",
       "      <th>Notes: Highest certificate, diploma or degree (11)</th>\n",
       "      <th>...</th>\n",
       "      <th>Member ID: Major field of study - Classification of Instructional Programs (CIP) 2016 (43)</th>\n",
       "      <th>Notes: Major field of study - Classification of Instructional Programs (CIP) 2016 (43)</th>\n",
       "      <th>Dim: Labour force status (8): Member ID: [1]: Total - Labour force status (Note: 7)</th>\n",
       "      <th>Dim: Labour force status (8): Member ID: [2]: In the labour force</th>\n",
       "      <th>Dim: Labour force status (8): Member ID: [3]: Employed</th>\n",
       "      <th>Dim: Labour force status (8): Member ID: [4]: Unemployed</th>\n",
       "      <th>Dim: Labour force status (8): Member ID: [5]: Not in the labour force</th>\n",
       "      <th>Dim: Labour force status (8): Member ID: [6]: Participation rate</th>\n",
       "      <th>Dim: Labour force status (8): Member ID: [7]: Employment rate</th>\n",
       "      <th>Dim: Labour force status (8): Member ID: [8]: Unemployment rate</th>\n",
       "    </tr>\n",
       "  </thead>\n",
       "  <tbody>\n",
       "    <tr>\n",
       "      <th>43</th>\n",
       "      <td>2016</td>\n",
       "      <td>1</td>\n",
       "      <td>0</td>\n",
       "      <td>Canada</td>\n",
       "      <td>5.1</td>\n",
       "      <td>20000</td>\n",
       "      <td>1</td>\n",
       "      <td>Total - Highest certificate, diploma or degree</td>\n",
       "      <td>1</td>\n",
       "      <td>1.0</td>\n",
       "      <td>...</td>\n",
       "      <td>1</td>\n",
       "      <td>6.0</td>\n",
       "      <td>13990430</td>\n",
       "      <td>9731825</td>\n",
       "      <td>8923545</td>\n",
       "      <td>808285</td>\n",
       "      <td>4258605</td>\n",
       "      <td>69.6</td>\n",
       "      <td>63.8</td>\n",
       "      <td>8.3</td>\n",
       "    </tr>\n",
       "    <tr>\n",
       "      <th>44</th>\n",
       "      <td>2016</td>\n",
       "      <td>1</td>\n",
       "      <td>0</td>\n",
       "      <td>Canada</td>\n",
       "      <td>5.1</td>\n",
       "      <td>20000</td>\n",
       "      <td>1</td>\n",
       "      <td>Total - Highest certificate, diploma or degree</td>\n",
       "      <td>1</td>\n",
       "      <td>1.0</td>\n",
       "      <td>...</td>\n",
       "      <td>2</td>\n",
       "      <td>NaN</td>\n",
       "      <td>6354625</td>\n",
       "      <td>3841265</td>\n",
       "      <td>3413835</td>\n",
       "      <td>427430</td>\n",
       "      <td>2513360</td>\n",
       "      <td>60.4</td>\n",
       "      <td>53.7</td>\n",
       "      <td>11.1</td>\n",
       "    </tr>\n",
       "    <tr>\n",
       "      <th>45</th>\n",
       "      <td>2016</td>\n",
       "      <td>1</td>\n",
       "      <td>0</td>\n",
       "      <td>Canada</td>\n",
       "      <td>5.1</td>\n",
       "      <td>20000</td>\n",
       "      <td>1</td>\n",
       "      <td>Total - Highest certificate, diploma or degree</td>\n",
       "      <td>1</td>\n",
       "      <td>1.0</td>\n",
       "      <td>...</td>\n",
       "      <td>3</td>\n",
       "      <td>NaN</td>\n",
       "      <td>127925</td>\n",
       "      <td>101735</td>\n",
       "      <td>97545</td>\n",
       "      <td>4190</td>\n",
       "      <td>26190</td>\n",
       "      <td>79.5</td>\n",
       "      <td>76.3</td>\n",
       "      <td>4.1</td>\n",
       "    </tr>\n",
       "    <tr>\n",
       "      <th>46</th>\n",
       "      <td>2016</td>\n",
       "      <td>1</td>\n",
       "      <td>0</td>\n",
       "      <td>Canada</td>\n",
       "      <td>5.1</td>\n",
       "      <td>20000</td>\n",
       "      <td>1</td>\n",
       "      <td>Total - Highest certificate, diploma or degree</td>\n",
       "      <td>1</td>\n",
       "      <td>1.0</td>\n",
       "      <td>...</td>\n",
       "      <td>4</td>\n",
       "      <td>NaN</td>\n",
       "      <td>91115</td>\n",
       "      <td>71495</td>\n",
       "      <td>65230</td>\n",
       "      <td>6265</td>\n",
       "      <td>19625</td>\n",
       "      <td>78.5</td>\n",
       "      <td>71.6</td>\n",
       "      <td>8.8</td>\n",
       "    </tr>\n",
       "    <tr>\n",
       "      <th>47</th>\n",
       "      <td>2016</td>\n",
       "      <td>1</td>\n",
       "      <td>0</td>\n",
       "      <td>Canada</td>\n",
       "      <td>5.1</td>\n",
       "      <td>20000</td>\n",
       "      <td>1</td>\n",
       "      <td>Total - Highest certificate, diploma or degree</td>\n",
       "      <td>1</td>\n",
       "      <td>1.0</td>\n",
       "      <td>...</td>\n",
       "      <td>5</td>\n",
       "      <td>NaN</td>\n",
       "      <td>72880</td>\n",
       "      <td>59195</td>\n",
       "      <td>56150</td>\n",
       "      <td>3040</td>\n",
       "      <td>13685</td>\n",
       "      <td>81.2</td>\n",
       "      <td>77.0</td>\n",
       "      <td>5.1</td>\n",
       "    </tr>\n",
       "  </tbody>\n",
       "</table>\n",
       "<p>5 rows × 27 columns</p>\n",
       "</div>"
      ],
      "text/plain": [
       "    CENSUS_YEAR  GEO_CODE (POR)  GEO_LEVEL GEO_NAME  GNR  DATA_QUALITY_FLAG  \\\n",
       "43         2016               1          0   Canada  5.1              20000   \n",
       "44         2016               1          0   Canada  5.1              20000   \n",
       "45         2016               1          0   Canada  5.1              20000   \n",
       "46         2016               1          0   Canada  5.1              20000   \n",
       "47         2016               1          0   Canada  5.1              20000   \n",
       "\n",
       "    ALT_GEO_CODE DIM: Highest certificate, diploma or degree (11)  \\\n",
       "43             1   Total - Highest certificate, diploma or degree   \n",
       "44             1   Total - Highest certificate, diploma or degree   \n",
       "45             1   Total - Highest certificate, diploma or degree   \n",
       "46             1   Total - Highest certificate, diploma or degree   \n",
       "47             1   Total - Highest certificate, diploma or degree   \n",
       "\n",
       "    Member ID: Highest certificate, diploma or degree (11)  \\\n",
       "43                                                  1        \n",
       "44                                                  1        \n",
       "45                                                  1        \n",
       "46                                                  1        \n",
       "47                                                  1        \n",
       "\n",
       "    Notes: Highest certificate, diploma or degree (11)  \\\n",
       "43                                                1.0    \n",
       "44                                                1.0    \n",
       "45                                                1.0    \n",
       "46                                                1.0    \n",
       "47                                                1.0    \n",
       "\n",
       "                                 ...                                 \\\n",
       "43                               ...                                  \n",
       "44                               ...                                  \n",
       "45                               ...                                  \n",
       "46                               ...                                  \n",
       "47                               ...                                  \n",
       "\n",
       "   Member ID: Major field of study - Classification of Instructional Programs (CIP) 2016 (43)  \\\n",
       "43                                                  1                                           \n",
       "44                                                  2                                           \n",
       "45                                                  3                                           \n",
       "46                                                  4                                           \n",
       "47                                                  5                                           \n",
       "\n",
       "    Notes: Major field of study - Classification of Instructional Programs (CIP) 2016 (43)  \\\n",
       "43                                                6.0                                        \n",
       "44                                                NaN                                        \n",
       "45                                                NaN                                        \n",
       "46                                                NaN                                        \n",
       "47                                                NaN                                        \n",
       "\n",
       "    Dim: Labour force status (8): Member ID: [1]: Total - Labour force status (Note: 7)  \\\n",
       "43                                           13990430                                     \n",
       "44                                            6354625                                     \n",
       "45                                             127925                                     \n",
       "46                                              91115                                     \n",
       "47                                              72880                                     \n",
       "\n",
       "   Dim: Labour force status (8): Member ID: [2]: In the labour force  \\\n",
       "43                                            9731825                  \n",
       "44                                            3841265                  \n",
       "45                                             101735                  \n",
       "46                                              71495                  \n",
       "47                                              59195                  \n",
       "\n",
       "    Dim: Labour force status (8): Member ID: [3]: Employed  \\\n",
       "43                                            8923545        \n",
       "44                                            3413835        \n",
       "45                                              97545        \n",
       "46                                              65230        \n",
       "47                                              56150        \n",
       "\n",
       "    Dim: Labour force status (8): Member ID: [4]: Unemployed  \\\n",
       "43                                             808285          \n",
       "44                                             427430          \n",
       "45                                               4190          \n",
       "46                                               6265          \n",
       "47                                               3040          \n",
       "\n",
       "   Dim: Labour force status (8): Member ID: [5]: Not in the labour force  \\\n",
       "43                                            4258605                      \n",
       "44                                            2513360                      \n",
       "45                                              26190                      \n",
       "46                                              19625                      \n",
       "47                                              13685                      \n",
       "\n",
       "    Dim: Labour force status (8): Member ID: [6]: Participation rate  \\\n",
       "43                                               69.6                  \n",
       "44                                               60.4                  \n",
       "45                                               79.5                  \n",
       "46                                               78.5                  \n",
       "47                                               81.2                  \n",
       "\n",
       "    Dim: Labour force status (8): Member ID: [7]: Employment rate  \\\n",
       "43                                               63.8               \n",
       "44                                               53.7               \n",
       "45                                               76.3               \n",
       "46                                               71.6               \n",
       "47                                               77.0               \n",
       "\n",
       "    Dim: Labour force status (8): Member ID: [8]: Unemployment rate  \n",
       "43                                                8.3                \n",
       "44                                               11.1                \n",
       "45                                                4.1                \n",
       "46                                                8.8                \n",
       "47                                                5.1                \n",
       "\n",
       "[5 rows x 27 columns]"
      ]
     },
     "execution_count": 252,
     "metadata": {},
     "output_type": "execute_result"
    }
   ],
   "source": [
    "Canada_data[(Canada_data['Member ID: Sex (3)']==2) | (Canada_data['Member ID: Sex (3)']==3)].head()\n"
   ]
  },
  {
   "cell_type": "markdown",
   "metadata": {},
   "source": [
    "## Major Field of Study"
   ]
  },
  {
   "cell_type": "code",
   "execution_count": 323,
   "metadata": {},
   "outputs": [],
   "source": [
    "StudyField_features = ['DIM: Major field of study - Classification of Instructional Programs (CIP) 2016 (43)','Member ID: Major field of study - Classification of Instructional Programs (CIP) 2016 (43)','Notes: Major field of study - Classification of Instructional Programs (CIP) 2016 (43)']"
   ]
  },
  {
   "cell_type": "code",
   "execution_count": 324,
   "metadata": {},
   "outputs": [
    {
     "name": "stdout",
     "output_type": "stream",
     "text": [
      "['Total - Major field of study - Classification of Instructional Programs (CIP) 2016'\n",
      " 'No postsecondary certificate, diploma or degree'\n",
      " '01. Agriculture, agriculture operations and related sciences'\n",
      " '03. Natural resources and conservation'\n",
      " '04. Architecture and related services'\n",
      " '05. Area, ethnic, cultural, gender, and group studies'\n",
      " '09. Communication, journalism and related programs'\n",
      " '10. Communications technologies/technicians and support services'\n",
      " '11. Computer and information sciences and support services'\n",
      " '12. Personal and culinary services' '13. Education' '14. Engineering'\n",
      " '15. Engineering technologies and engineering-related fields'\n",
      " '16. Aboriginal and foreign languages, literatures and linguistics'\n",
      " '19. Family and consumer sciences/human sciences'\n",
      " '22. Legal professions and studies'\n",
      " '23. English language and literature/letters'\n",
      " '24. Liberal arts and sciences, general studies and humanities'\n",
      " '25. Library science' '26. Biological and biomedical sciences'\n",
      " '27. Mathematics and statistics'\n",
      " '28. Military science, leadership and operational art'\n",
      " '29. Military technologies and applied sciences'\n",
      " '30. Multidisciplinary/interdisciplinary studies'\n",
      " '31. Parks, recreation, leisure and fitness studies'\n",
      " '38. Philosophy and religious studies'\n",
      " '39. Theology and religious vocations' '40. Physical sciences'\n",
      " '41. Science technologies/technicians' '42. Psychology'\n",
      " '43. Security and protective services'\n",
      " '44. Public administration and social service professions'\n",
      " '45. Social sciences' '46. Construction trades'\n",
      " '47. Mechanic and repair technologies/technicians'\n",
      " '48. Precision production' '49. Transportation and materials moving'\n",
      " '50. Visual and performing arts'\n",
      " '51. Health professions and related programs'\n",
      " '52. Business, management, marketing and related support services'\n",
      " '54. History' '55. French language and literature/letters'\n",
      " '60. Dental, medical and veterinary residency programs']\n",
      "[ 1  2  3  4  5  6  7  8  9 10 11 12 13 14 15 16 17 18 19 20 21 22 23 24\n",
      " 25 26 27 28 29 30 31 32 33 34 35 36 37 38 39 40 41 42 43]\n",
      "[ 6. nan]\n"
     ]
    }
   ],
   "source": [
    "for col in StudyField_features:\n",
    "    print(Canada_data[col].unique())"
   ]
  },
  {
   "cell_type": "markdown",
   "metadata": {},
   "source": [
    "## Labour Force Outcome"
   ]
  },
  {
   "cell_type": "code",
   "execution_count": 325,
   "metadata": {},
   "outputs": [],
   "source": [
    "LabourFeatures = ['Dim: Labour force status (8): Member ID: [1]: Total - Labour force status (Note: 7)','Dim: Labour force status (8): Member ID: [2]: In the labour force','Dim: Labour force status (8): Member ID: [3]: Employed','Dim: Labour force status (8): Member ID: [4]: Unemployed','Dim: Labour force status (8): Member ID: [5]: Not in the labour force','Dim: Labour force status (8): Member ID: [6]: Participation rate','Dim: Labour force status (8): Member ID: [7]: Employment rate','Dim: Labour force status (8): Member ID: [8]: Unemployment rate']"
   ]
  },
  {
   "cell_type": "code",
   "execution_count": 326,
   "metadata": {},
   "outputs": [
    {
     "name": "stdout",
     "output_type": "stream",
     "text": [
      "Dim: Labour force status (8): Member ID: [1]: Total - Labour force status (Note: 7) [28643015 12815975   205930   133120   114315]\n",
      "Dim: Labour force status (8): Member ID: [2]: In the labour force [18672470  6825825   161910   107035    93250]\n",
      "Dim: Labour force status (8): Member ID: [3]: Employed [17230035  6098850   154270    97935    87810]\n",
      "Dim: Labour force status (8): Member ID: [4]: Unemployed [1442430  726975    7635    9100    5445]\n",
      "Dim: Labour force status (8): Member ID: [5]: Not in the labour force [9970545 5990155   44020   26085   21065]\n",
      "Dim: Labour force status (8): Member ID: [6]: Participation rate [65.2 53.3 78.6 80.4 81.6]\n",
      "Dim: Labour force status (8): Member ID: [7]: Employment rate [60.2 47.6 74.9 73.6 76.8]\n",
      "Dim: Labour force status (8): Member ID: [8]: Unemployment rate [ 7.7 10.7  4.7  8.5  5.8]\n"
     ]
    }
   ],
   "source": [
    "for col in LabourFeatures:\n",
    "    print(col, Canada_data[col].unique()[:5])"
   ]
  },
  {
   "cell_type": "markdown",
   "metadata": {},
   "source": [
    "### Going back to our main question we would answer: how major fields of study impact labour force outcomes for Canadians?"
   ]
  },
  {
   "cell_type": "markdown",
   "metadata": {},
   "source": [
    "As we can see from the previous analysis, we have groups of features that every group represents one variable or feature. Thus, we can reduce the features to only the unique ones we need for our analysis. \n",
    "\n",
    "Also, for some categorical data, we are interested in only some categories (e.g., the educational level). "
   ]
  },
  {
   "cell_type": "markdown",
   "metadata": {},
   "source": [
    "1- Select only the educational levels of interest."
   ]
  },
  {
   "cell_type": "code",
   "execution_count": 327,
   "metadata": {},
   "outputs": [],
   "source": [
    "Canada_data_final = Canada_data[Canada_data['Member ID: Highest certificate, diploma or degree (11)'].isin(Degrees_of_interest)]"
   ]
  },
  {
   "cell_type": "code",
   "execution_count": 328,
   "metadata": {},
   "outputs": [
    {
     "data": {
      "text/plain": [
       "6966    College, CEGEP or other non-university certifi...\n",
       "6967    College, CEGEP or other non-university certifi...\n",
       "6968    College, CEGEP or other non-university certifi...\n",
       "6969    College, CEGEP or other non-university certifi...\n",
       "6970    College, CEGEP or other non-university certifi...\n",
       "Name: DIM: Highest certificate, diploma or degree (11), dtype: object"
      ]
     },
     "execution_count": 328,
     "metadata": {},
     "output_type": "execute_result"
    }
   ],
   "source": [
    "Canada_data_final['DIM: Highest certificate, diploma or degree (11)'].head()"
   ]
  },
  {
   "cell_type": "markdown",
   "metadata": {},
   "source": [
    "2- Filter only the required fields of study."
   ]
  },
  {
   "cell_type": "code",
   "execution_count": 257,
   "metadata": {},
   "outputs": [],
   "source": [
    "SelectedStudyFields_features= [3,4,5,6,7,8,9, 10, 11, 12, 13, 14, 15, 16, 17, 18, 19, 20, 21, 22, 23, 24, 25, 26, 27, 28, 29, 30, 31, 32, 33, 34, 35, 36, 37, 38, 39,40, 41,42,43]"
   ]
  },
  {
   "cell_type": "code",
   "execution_count": 329,
   "metadata": {},
   "outputs": [],
   "source": [
    "Canada_data_final = Canada_data_final[Canada_data_final['Member ID: Major field of study - Classification of Instructional Programs (CIP) 2016 (43)'].isin(SelectedStudyFields_features)]"
   ]
  },
  {
   "cell_type": "markdown",
   "metadata": {},
   "source": [
    "3- Filter the age groups. "
   ]
  },
  {
   "cell_type": "code",
   "execution_count": 330,
   "metadata": {},
   "outputs": [],
   "source": [
    "Canada_data_final = Canada_data_final[Canada_data_final['Member ID: Age (9)'].isin(SelectedAgeGroups)]\n",
    "\n"
   ]
  },
  {
   "cell_type": "markdown",
   "metadata": {},
   "source": [
    "4- Filter sex with only Male or Female."
   ]
  },
  {
   "cell_type": "code",
   "execution_count": 331,
   "metadata": {},
   "outputs": [],
   "source": [
    "Canada_data_final = Canada_data_final[(Canada_data_final['Member ID: Sex (3)']==2) | (Canada_data_final['Member ID: Sex (3)']==3)]"
   ]
  },
  {
   "cell_type": "code",
   "execution_count": 332,
   "metadata": {},
   "outputs": [
    {
     "data": {
      "text/plain": [
       "array([2, 3], dtype=int64)"
      ]
     },
     "execution_count": 332,
     "metadata": {},
     "output_type": "execute_result"
    }
   ],
   "source": [
    "Canada_data_final['Member ID: Sex (3)'].unique()"
   ]
  },
  {
   "cell_type": "markdown",
   "metadata": {},
   "source": [
    "Labour Force Outcome is an elastic term that can be represented by several metrics. For our particular data, we have few variables that reflects (directly or implicitly) the status of the labour force outcome as following:\n",
    "\n",
    "1- In the labour force\n",
    "\n",
    "2- Not in the labour force \n",
    "\n",
    "3- Employment rate  \n",
    "\n",
    "4- Unemployment rate\n",
    "\n",
    "3- Employed\n",
    "\n",
    "4- Unemployed                                          \n",
    "                           \n",
    "5- Participation rate                                  \n"
   ]
  },
  {
   "cell_type": "code",
   "execution_count": 362,
   "metadata": {},
   "outputs": [
    {
     "data": {
      "text/html": [
       "<div>\n",
       "<style scoped>\n",
       "    .dataframe tbody tr th:only-of-type {\n",
       "        vertical-align: middle;\n",
       "    }\n",
       "\n",
       "    .dataframe tbody tr th {\n",
       "        vertical-align: top;\n",
       "    }\n",
       "\n",
       "    .dataframe thead th {\n",
       "        text-align: right;\n",
       "    }\n",
       "</style>\n",
       "<table border=\"1\" class=\"dataframe\">\n",
       "  <thead>\n",
       "    <tr style=\"text-align: right;\">\n",
       "      <th></th>\n",
       "      <th>Dim: Labour force status (8): Member ID: [1]: Total - Labour force status (Note: 7)</th>\n",
       "      <th>Dim: Labour force status (8): Member ID: [2]: In the labour force</th>\n",
       "      <th>Dim: Labour force status (8): Member ID: [3]: Employed</th>\n",
       "      <th>Dim: Labour force status (8): Member ID: [4]: Unemployed</th>\n",
       "      <th>Dim: Labour force status (8): Member ID: [5]: Not in the labour force</th>\n",
       "      <th>Dim: Labour force status (8): Member ID: [6]: Participation rate</th>\n",
       "      <th>Dim: Labour force status (8): Member ID: [7]: Employment rate</th>\n",
       "      <th>Dim: Labour force status (8): Member ID: [8]: Unemployment rate</th>\n",
       "    </tr>\n",
       "  </thead>\n",
       "  <tbody>\n",
       "    <tr>\n",
       "      <th>count</th>\n",
       "      <td>3280.000000</td>\n",
       "      <td>3280.000000</td>\n",
       "      <td>3280.000000</td>\n",
       "      <td>3280.000000</td>\n",
       "      <td>3280.000000</td>\n",
       "      <td>3280.000000</td>\n",
       "      <td>3280.000000</td>\n",
       "      <td>3280.000000</td>\n",
       "    </tr>\n",
       "    <tr>\n",
       "      <th>mean</th>\n",
       "      <td>14576.006098</td>\n",
       "      <td>12128.448171</td>\n",
       "      <td>11493.175305</td>\n",
       "      <td>635.292683</td>\n",
       "      <td>2447.551829</td>\n",
       "      <td>67.595305</td>\n",
       "      <td>63.140091</td>\n",
       "      <td>5.887988</td>\n",
       "    </tr>\n",
       "    <tr>\n",
       "      <th>std</th>\n",
       "      <td>44357.654732</td>\n",
       "      <td>38590.981210</td>\n",
       "      <td>36755.912660</td>\n",
       "      <td>1899.963978</td>\n",
       "      <td>8039.284738</td>\n",
       "      <td>32.002412</td>\n",
       "      <td>30.239070</td>\n",
       "      <td>5.404247</td>\n",
       "    </tr>\n",
       "    <tr>\n",
       "      <th>min</th>\n",
       "      <td>0.000000</td>\n",
       "      <td>0.000000</td>\n",
       "      <td>0.000000</td>\n",
       "      <td>0.000000</td>\n",
       "      <td>0.000000</td>\n",
       "      <td>0.000000</td>\n",
       "      <td>0.000000</td>\n",
       "      <td>0.000000</td>\n",
       "    </tr>\n",
       "    <tr>\n",
       "      <th>25%</th>\n",
       "      <td>300.000000</td>\n",
       "      <td>185.000000</td>\n",
       "      <td>170.000000</td>\n",
       "      <td>10.000000</td>\n",
       "      <td>60.000000</td>\n",
       "      <td>62.700000</td>\n",
       "      <td>56.675000</td>\n",
       "      <td>3.200000</td>\n",
       "    </tr>\n",
       "    <tr>\n",
       "      <th>50%</th>\n",
       "      <td>2247.500000</td>\n",
       "      <td>1540.000000</td>\n",
       "      <td>1440.000000</td>\n",
       "      <td>95.000000</td>\n",
       "      <td>385.000000</td>\n",
       "      <td>82.500000</td>\n",
       "      <td>76.100000</td>\n",
       "      <td>5.300000</td>\n",
       "    </tr>\n",
       "    <tr>\n",
       "      <th>75%</th>\n",
       "      <td>10043.750000</td>\n",
       "      <td>7955.000000</td>\n",
       "      <td>7422.500000</td>\n",
       "      <td>450.000000</td>\n",
       "      <td>1735.000000</td>\n",
       "      <td>89.400000</td>\n",
       "      <td>84.300000</td>\n",
       "      <td>7.300000</td>\n",
       "    </tr>\n",
       "    <tr>\n",
       "      <th>max</th>\n",
       "      <td>772045.000000</td>\n",
       "      <td>627705.000000</td>\n",
       "      <td>593050.000000</td>\n",
       "      <td>34655.000000</td>\n",
       "      <td>153605.000000</td>\n",
       "      <td>100.000000</td>\n",
       "      <td>100.000000</td>\n",
       "      <td>100.000000</td>\n",
       "    </tr>\n",
       "  </tbody>\n",
       "</table>\n",
       "</div>"
      ],
      "text/plain": [
       "       Dim: Labour force status (8): Member ID: [1]: Total - Labour force status (Note: 7)  \\\n",
       "count                                        3280.000000                                     \n",
       "mean                                        14576.006098                                     \n",
       "std                                         44357.654732                                     \n",
       "min                                             0.000000                                     \n",
       "25%                                           300.000000                                     \n",
       "50%                                          2247.500000                                     \n",
       "75%                                         10043.750000                                     \n",
       "max                                        772045.000000                                     \n",
       "\n",
       "       Dim: Labour force status (8): Member ID: [2]: In the labour force  \\\n",
       "count                                        3280.000000                   \n",
       "mean                                        12128.448171                   \n",
       "std                                         38590.981210                   \n",
       "min                                             0.000000                   \n",
       "25%                                           185.000000                   \n",
       "50%                                          1540.000000                   \n",
       "75%                                          7955.000000                   \n",
       "max                                        627705.000000                   \n",
       "\n",
       "       Dim: Labour force status (8): Member ID: [3]: Employed  \\\n",
       "count                                        3280.000000        \n",
       "mean                                        11493.175305        \n",
       "std                                         36755.912660        \n",
       "min                                             0.000000        \n",
       "25%                                           170.000000        \n",
       "50%                                          1440.000000        \n",
       "75%                                          7422.500000        \n",
       "max                                        593050.000000        \n",
       "\n",
       "       Dim: Labour force status (8): Member ID: [4]: Unemployed  \\\n",
       "count                                        3280.000000          \n",
       "mean                                          635.292683          \n",
       "std                                          1899.963978          \n",
       "min                                             0.000000          \n",
       "25%                                            10.000000          \n",
       "50%                                            95.000000          \n",
       "75%                                           450.000000          \n",
       "max                                         34655.000000          \n",
       "\n",
       "       Dim: Labour force status (8): Member ID: [5]: Not in the labour force  \\\n",
       "count                                        3280.000000                       \n",
       "mean                                         2447.551829                       \n",
       "std                                          8039.284738                       \n",
       "min                                             0.000000                       \n",
       "25%                                            60.000000                       \n",
       "50%                                           385.000000                       \n",
       "75%                                          1735.000000                       \n",
       "max                                        153605.000000                       \n",
       "\n",
       "       Dim: Labour force status (8): Member ID: [6]: Participation rate  \\\n",
       "count                                        3280.000000                  \n",
       "mean                                           67.595305                  \n",
       "std                                            32.002412                  \n",
       "min                                             0.000000                  \n",
       "25%                                            62.700000                  \n",
       "50%                                            82.500000                  \n",
       "75%                                            89.400000                  \n",
       "max                                           100.000000                  \n",
       "\n",
       "       Dim: Labour force status (8): Member ID: [7]: Employment rate  \\\n",
       "count                                        3280.000000               \n",
       "mean                                           63.140091               \n",
       "std                                            30.239070               \n",
       "min                                             0.000000               \n",
       "25%                                            56.675000               \n",
       "50%                                            76.100000               \n",
       "75%                                            84.300000               \n",
       "max                                           100.000000               \n",
       "\n",
       "       Dim: Labour force status (8): Member ID: [8]: Unemployment rate  \n",
       "count                                        3280.000000                \n",
       "mean                                            5.887988                \n",
       "std                                             5.404247                \n",
       "min                                             0.000000                \n",
       "25%                                             3.200000                \n",
       "50%                                             5.300000                \n",
       "75%                                             7.300000                \n",
       "max                                           100.000000                "
      ]
     },
     "execution_count": 362,
     "metadata": {},
     "output_type": "execute_result"
    }
   ],
   "source": [
    "LaborData = Canada_data_final[LabourFeatures]\n",
    "LaborData.describe()"
   ]
  },
  {
   "cell_type": "markdown",
   "metadata": {},
   "source": [
    "How strong these features, which are characterizing the labour force outcome, are correlated with each other?"
   ]
  },
  {
   "cell_type": "code",
   "execution_count": 363,
   "metadata": {},
   "outputs": [],
   "source": [
    "LaborForce_corr= LaborData.corr()"
   ]
  },
  {
   "cell_type": "code",
   "execution_count": 364,
   "metadata": {},
   "outputs": [
    {
     "data": {
      "image/png": "[encoded data removed]",
      "text/plain": [
       "<Figure size 1296x1296 with 2 Axes>"
      ]
     },
     "metadata": {
      "needs_background": "light"
     },
     "output_type": "display_data"
    }
   ],
   "source": [
    "plt.figure(figsize=(18, 18))\n",
    "sns.heatmap(LaborForce_corr, cmap='viridis', vmax=1.0, vmin=-1.0, linewidths=0.1, annot=True, annot_kws={\"size\": 8}, square=True);"
   ]
  },
  {
   "cell_type": "markdown",
   "metadata": {},
   "source": [
    "### Which labour-related features impact the total labour force status the most \" stronger correlation values\"?"
   ]
  },
  {
   "cell_type": "code",
   "execution_count": 365,
   "metadata": {},
   "outputs": [
    {
     "data": {
      "text/plain": [
       "Dim: Labour force status (8): Member ID: [1]: Total - Labour force status (Note: 7)    1.000000\n",
       "Dim: Labour force status (8): Member ID: [2]: In the labour force                      0.990836\n",
       "Dim: Labour force status (8): Member ID: [3]: Employed                                 0.990641\n",
       "Dim: Labour force status (8): Member ID: [4]: Unemployed                               0.960767\n",
       "Dim: Labour force status (8): Member ID: [5]: Not in the labour force                  0.761298\n",
       "Name: Dim: Labour force status (8): Member ID: [1]: Total - Labour force status (Note: 7), dtype: float64"
      ]
     },
     "execution_count": 365,
     "metadata": {},
     "output_type": "execute_result"
    }
   ],
   "source": [
    "LaborForce_corr['Dim: Labour force status (8): Member ID: [1]: Total - Labour force status (Note: 7)'][abs(LaborForce_corr['Dim: Labour force status (8): Member ID: [1]: Total - Labour force status (Note: 7)']) > 0.5]"
   ]
  },
  {
   "cell_type": "code",
   "execution_count": null,
   "metadata": {},
   "outputs": [],
   "source": [
    "Thus, "
   ]
  },
  {
   "cell_type": "markdown",
   "metadata": {},
   "source": [
    "### Let's check the distribution of the employment rate for Canadian graduates at the given year without considering any of the given factors."
   ]
  },
  {
   "cell_type": "code",
   "execution_count": 192,
   "metadata": {},
   "outputs": [
    {
     "name": "stdout",
     "output_type": "stream",
     "text": [
      "Average: 71.708780\n"
     ]
    },
    {
     "data": {
      "image/png": "[encoded data removed]",
      "text/plain": [
       "<Figure size 432x288 with 1 Axes>"
      ]
     },
     "metadata": {
      "needs_background": "light"
     },
     "output_type": "display_data"
    }
   ],
   "source": [
    "from scipy import stats\n",
    "sns.distplot(Canada_data_final['Dim: Labour force status (8): Member ID: [7]: Employment rate']);\n",
    "#skewness and kurtosis\n",
    "print(\"Average: %f\" % Canada_data_final['Dim: Labour force status (8): Member ID: [7]: Employment rate'].mean())"
   ]
  },
  {
   "cell_type": "markdown",
   "metadata": {},
   "source": [
    "As we see in the plot, we have the larger portion of our samples are concentrated around %72 of the employment rate among the Canadian graduates from a collage or university. However, we can't ignore that there are some outliers reflecting some degree of unemployment. Let's check it out."
   ]
  },
  {
   "cell_type": "markdown",
   "metadata": {},
   "source": [
    "### Is there particular fields of study that contribute much stronger in the employment patterns than other fields?"
   ]
  },
  {
   "cell_type": "code",
   "execution_count": 278,
   "metadata": {},
   "outputs": [],
   "source": [
    "results = [(i, Canada_data_final[Canada_data_final['DIM: Major field of study - Classification of Instructional Programs (CIP) 2016 (43)']==i]['Dim: Labour force status (8): Member ID: [7]: Employment rate'].mean()) for i in (Canada_data_final['DIM: Major field of study - Classification of Instructional Programs (CIP) 2016 (43)'].unique())]"
   ]
  },
  {
   "cell_type": "code",
   "execution_count": 294,
   "metadata": {},
   "outputs": [
    {
     "name": "stdout",
     "output_type": "stream",
     "text": [
      "Major Field of Study                                                 Average Employment Rate\n",
      "-----------------------------------------------------------------  -------------------------\n",
      "01. Agriculture, agriculture operations and related sciences                           86.13\n",
      "03. Natural resources and conservation                                                 82.75\n",
      "04. Architecture and related services                                                  83.15\n",
      "05. Area, ethnic, cultural, gender, and group studies                                  77.6\n",
      "09. Communication, journalism and related programs                                     86.71\n",
      "10. Communications technologies/technicians and support services                       86.12\n",
      "11. Computer and information sciences and support services                             79.6\n",
      "12. Personal and culinary services                                                     16.41\n",
      "13. Education                                                                          88.18\n",
      "14. Engineering                                                                        63.47\n",
      "15. Engineering technologies and engineering-related fields                            53.17\n",
      "16. Aboriginal and foreign languages, literatures and linguistics                      74.91\n",
      "19. Family and consumer sciences/human sciences                                        84.08\n",
      "22. Legal professions and studies                                                      81.06\n",
      "23. English language and literature/letters                                            74.74\n",
      "24. Liberal arts and sciences, general studies and humanities                          77.46\n",
      "25. Library science                                                                    81.65\n",
      "26. Biological and biomedical sciences                                                 76.5\n",
      "27. Mathematics and statistics                                                         76.43\n",
      "28. Military science, leadership and operational art                                   62.8\n",
      "29. Military technologies and applied sciences                                         24.92\n",
      "30. Multidisciplinary/interdisciplinary studies                                        75.97\n",
      "31. Parks, recreation, leisure and fitness studies                                     84.93\n",
      "38. Philosophy and religious studies                                                   74.07\n",
      "39. Theology and religious vocations                                                   73.52\n",
      "40. Physical sciences                                                                  76.51\n",
      "41. Science technologies/technicians                                                   64.79\n",
      "42. Psychology                                                                         79.84\n",
      "43. Security and protective services                                                   88.96\n",
      "44. Public administration and social service professions                               85.33\n",
      "45. Social sciences                                                                    81.71\n",
      "46. Construction trades                                                                16.11\n",
      "47. Mechanic and repair technologies/technicians                                       16.98\n",
      "48. Precision production                                                               75.92\n",
      "49. Transportation and materials moving                                                80.34\n",
      "50. Visual and performing arts                                                         82.9\n",
      "51. Health professions and related programs                                            84.29\n",
      "52. Business, management, marketing and related support services                       84.77\n",
      "54. History                                                                            81.6\n",
      "55. French language and literature/letters                                             79.22\n",
      "60. Dental, medical and veterinary residency programs                                  34.46\n"
     ]
    }
   ],
   "source": [
    "from tabulate import tabulate\n",
    "print(tabulate(results, headers=[\"Major Field of Study\", \"Average Employment Rate\"]))"
   ]
  },
  {
   "cell_type": "code",
   "execution_count": 342,
   "metadata": {},
   "outputs": [],
   "source": [
    "#DF1 = Canada_data_final[['DIM: Major field of study - Classification of Instructional Programs (CIP) 2016 (43)','Dim: Labour force status (8): Member ID: [7]: Employment rate']]\n",
    "#DF2= DF1.groupby('DIM: Major field of study - Classification of Instructional Programs (CIP) 2016 (43)')['Dim: Labour force status (8): Member ID: [7]: Employment rate'].mean().reset_index()"
   ]
  },
  {
   "cell_type": "code",
   "execution_count": null,
   "metadata": {},
   "outputs": [],
   "source": []
  },
  {
   "cell_type": "code",
   "execution_count": null,
   "metadata": {},
   "outputs": [],
   "source": []
  },
  {
   "cell_type": "code",
   "execution_count": null,
   "metadata": {},
   "outputs": [],
   "source": []
  },
  {
   "cell_type": "code",
   "execution_count": null,
   "metadata": {},
   "outputs": [],
   "source": []
  },
  {
   "cell_type": "markdown",
   "metadata": {},
   "source": [
    "### Employment rate vs. the highest educational level/degree"
   ]
  },
  {
   "cell_type": "code",
   "execution_count": 290,
   "metadata": {},
   "outputs": [],
   "source": [
    "results2 = [(i, Canada_data_final[Canada_data_final['DIM: Highest certificate, diploma or degree (11)']==i]['Dim: Labour force status (8): Member ID: [7]: Employment rate'].mean()) for i in (Canada_data_final['DIM: Highest certificate, diploma or degree (11)'].unique())]"
   ]
  },
  {
   "cell_type": "code",
   "execution_count": 291,
   "metadata": {},
   "outputs": [
    {
     "name": "stdout",
     "output_type": "stream",
     "text": [
      "Highest Degree                                                          Average Deployment Rate\n",
      "--------------------------------------------------------------------  -------------------------\n",
      "College, CEGEP or other non-university certificate or diploma                           75.0195\n",
      "University certificate or diploma below bachelor level                                  64.6854\n",
      "University certificate, diploma or degree at bachelor level or above                    74.9756\n",
      "Bachelor's degree                                                                       71.1012\n",
      "University certificate, diploma or degree above bachelor level                          72.7622\n"
     ]
    }
   ],
   "source": [
    "print(tabulate(results2, headers=[\"Highest Degree\", \"Average Deployment Rate\"]))"
   ]
  },
  {
   "cell_type": "code",
   "execution_count": 296,
   "metadata": {},
   "outputs": [],
   "source": [
    "#Canada_data_final.groupby('DIM: Highest certificate, diploma or degree (11)')['Dim: Labour force status (8): Member ID: [7]: Employment rate'].mean()"
   ]
  },
  {
   "cell_type": "markdown",
   "metadata": {},
   "source": [
    "#### First, what is the impact of the gender differences on the rate of employment/unemployment for Canadian graduates?"
   ]
  },
  {
   "cell_type": "markdown",
   "metadata": {},
   "source": [
    "What is the percentage of employees in women/men data? "
   ]
  },
  {
   "cell_type": "code",
   "execution_count": 203,
   "metadata": {},
   "outputs": [
    {
     "name": "stdout",
     "output_type": "stream",
     "text": [
      "Average employment rate for women who have graduated from a collage or university is: 68.466829\n",
      "Average employment rate for men who have graduated from a collage or university is: 74.950732\n"
     ]
    }
   ],
   "source": [
    "print(\"Average employment rate for women who have graduated from a collage or university is: %f\" % Canada_data_final[Canada_data_final['DIM: Sex (3)']=='Female']['Dim: Labour force status (8): Member ID: [7]: Employment rate'].mean())\n",
    "print(\"Average employment rate for men who have graduated from a collage or university is: %f\" % Canada_data_final[Canada_data_final['DIM: Sex (3)']=='Male']['Dim: Labour force status (8): Member ID: [7]: Employment rate'].mean())"
   ]
  },
  {
   "cell_type": "markdown",
   "metadata": {},
   "source": [
    "Flipping the coin to the other face, what is the percentage of having women/men in the total number of employees in our data?"
   ]
  },
  {
   "cell_type": "code",
   "execution_count": 206,
   "metadata": {},
   "outputs": [
    {
     "data": {
      "text/plain": [
       "<matplotlib.axes._subplots.AxesSubplot at 0x1f00352cd30>"
      ]
     },
     "execution_count": 206,
     "metadata": {},
     "output_type": "execute_result"
    },
    {
     "data": {
      "image/png": "[encoded data removed]",
      "text/plain": [
       "<Figure size 432x288 with 1 Axes>"
      ]
     },
     "metadata": {
      "needs_background": "light"
     },
     "output_type": "display_data"
    }
   ],
   "source": [
    "sns.boxplot(y=Canada_data_final['Dim: Labour force status (8): Member ID: [7]: Employment rate'], x= Canada_data_final['DIM: Sex (3)'],showmeans=True)\n"
   ]
  },
  {
   "cell_type": "markdown",
   "metadata": {},
   "source": [
    "So as we can see from the previous plot, the percentage of  "
   ]
  },
  {
   "cell_type": "markdown",
   "metadata": {},
   "source": [
    "### Let's see first how can the gender differences impact the choice of the major field of study? "
   ]
  },
  {
   "cell_type": "code",
   "execution_count": null,
   "metadata": {},
   "outputs": [],
   "source": [
    "Canada_data_final[Canada_data_final['']]"
   ]
  },
  {
   "cell_type": "code",
   "execution_count": null,
   "metadata": {},
   "outputs": [],
   "source": []
  },
  {
   "cell_type": "code",
   "execution_count": null,
   "metadata": {},
   "outputs": [],
   "source": []
  },
  {
   "cell_type": "code",
   "execution_count": null,
   "metadata": {},
   "outputs": [],
   "source": []
  }
 ],
 "metadata": {
  "kernelspec": {
   "display_name": "Python 3",
   "language": "python",
   "name": "python3"
  },
  "language_info": {
   "codemirror_mode": {
    "name": "ipython",
    "version": 3
   },
   "file_extension": ".py",
   "mimetype": "text/x-python",
   "name": "python",
   "nbconvert_exporter": "python",
   "pygments_lexer": "ipython3",
   "version": "3.7.1"
  }
 },
 "nbformat": 4,
 "nbformat_minor": 2
}
