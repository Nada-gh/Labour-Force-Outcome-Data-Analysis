{
 "cells": [
  {
   "cell_type": "markdown",
   "metadata": {},
   "source": [
    "## What is the problem, what is the main question we want to answer?"
   ]
  },
  {
   "cell_type": "markdown",
   "metadata": {},
   "source": [
    "### The question is: \"What should my daughter study in college or university to ensure she gets a job?\"/ \"how major fields of study impact labour force outcomes for Canadians?\""
   ]
  },
  {
   "cell_type": "markdown",
   "metadata": {},
   "source": [
    "This question has several dimensions we need to zoom out! Let's break it down.\n",
    "\n",
    "1- Major fields of study.\n",
    "\n",
    "2- Labour force outcome.\n",
    "\n",
    "3- Canadians."
   ]
  },
  {
   "cell_type": "markdown",
   "metadata": {},
   "source": [
    "Those are the main key factors we will try to figure out what kind of connection/ correlation between them. Nevertheless, there should be some other related characteristics that can add some information to answer our question such as the gender. "
   ]
  },
  {
   "cell_type": "markdown",
   "metadata": {},
   "source": [
    "To answer this question, we need to build a knowledge base as a result of analyzing some historical data or past experiences. "
   ]
  },
  {
   "cell_type": "markdown",
   "metadata": {},
   "source": [
    "We can divide our data into two main parts: \n",
    "\n",
    "1- Target variable(s) is the dependent variable that we are looking to evaluate or predict. We have the \"labour force outcome\" as a target variable.\n",
    "\n",
    "2- Features or predictors  are the independent variables that can impact the target variable. "
   ]
  },
  {
   "cell_type": "markdown",
   "metadata": {},
   "source": [
    "What metrics we can use to evaluate the labour force outcome?"
   ]
  },
  {
   "cell_type": "markdown",
   "metadata": {},
   "source": [
    "Labour Force Outcome represents the already-employed people and the people who are looking for a job, excluding those people who are jobless and not willing to get a job or not actively looking for a job (e.g., housewives, retirees, etc). So several metrics can be used to study the labour force outcome, for example: employment rate, unemployment rate, salaries and wages. "
   ]
  },
  {
   "cell_type": "markdown",
   "metadata": {},
   "source": [
    "#### What data that can answer our question?"
   ]
  },
  {
   "cell_type": "markdown",
   "metadata": {},
   "source": [
    "After sometime of searching for a good data (up to date, large enough to solve the problem, and covers the main features of our interest), I decided to go with a data set offered by Statistics Canada.\n",
    "\n",
    "https://www12.statcan.gc.ca/census-recensement/2016/dp-pd/dt-td/Rp-eng.cfm?TABID=4&LANG=E&A=R&APATH=3&DETAIL=0&DIM=0&FL=A&FREE=0&GC=01&GL=-1&GID=1354588&GK=1&GRP=1&O=D&PID=111847&PRID=10&PTYPE=109445&S=0&SHOWALL=0&SUB=0&Temporal=2017&THEME=124&VID=0&VNAMEE=&VNAMEF=&D1=0&D2=0&D3=0&D4=0&D5=0&D6=0"
   ]
  },
  {
   "cell_type": "markdown",
   "metadata": {},
   "source": [
    "Let's dive in!"
   ]
  },
  {
   "cell_type": "code",
   "execution_count": 297,
   "metadata": {},
   "outputs": [],
   "source": [
    "## Importing the required libraries\n",
    "import pandas as pd\n",
    "import numpy as np\n",
    "from pathlib import Path\n",
    "import warnings\n",
    "warnings.filterwarnings('ignore')\n",
    "\n",
    "##Plotting Libraries\n",
    "import seaborn as sns\n",
    "import matplotlib.pyplot as plt\n",
    "%matplotlib inline\n",
    "plt.style.use('bmh')\n",
    "import dexplot as dxp\n"
   ]
  },
  {
   "cell_type": "markdown",
   "metadata": {},
   "source": [
    "## Reading Data"
   ]
  },
  {
   "cell_type": "code",
   "execution_count": 300,
   "metadata": {},
   "outputs": [
    {
     "data": {
      "text/plain": [
       "WindowsPath('C:/Users/KBrig/Labour-Force-Outcome-Data-Analysis/LabourForceOutcome_data.csv')"
      ]
     },
     "execution_count": 300,
     "metadata": {},
     "output_type": "execute_result"
    }
   ],
   "source": [
    "Data_dir = Path('C:/Users/KBrig/Labour-Force-Outcome-Data-Analysis/LabourForceOutcome_data.csv')\n",
    "Data_dir"
   ]
  },
  {
   "cell_type": "code",
   "execution_count": 301,
   "metadata": {},
   "outputs": [],
   "source": [
    "Tot_data = pd.read_csv(Data_dir)"
   ]
  },
  {
   "cell_type": "markdown",
   "metadata": {},
   "source": [
    "How does our data look like?"
   ]
  },
  {
   "cell_type": "code",
   "execution_count": 302,
   "metadata": {},
   "outputs": [
    {
     "data": {
      "text/html": [
       "<div>\n",
       "<style scoped>\n",
       "    .dataframe tbody tr th:only-of-type {\n",
       "        vertical-align: middle;\n",
       "    }\n",
       "\n",
       "    .dataframe tbody tr th {\n",
       "        vertical-align: top;\n",
       "    }\n",
       "\n",
       "    .dataframe thead th {\n",
       "        text-align: right;\n",
       "    }\n",
       "</style>\n",
       "<table border=\"1\" class=\"dataframe\">\n",
       "  <thead>\n",
       "    <tr style=\"text-align: right;\">\n",
       "      <th></th>\n",
       "      <th>CENSUS_YEAR</th>\n",
       "      <th>GEO_CODE (POR)</th>\n",
       "      <th>GEO_LEVEL</th>\n",
       "      <th>GEO_NAME</th>\n",
       "      <th>GNR</th>\n",
       "      <th>DATA_QUALITY_FLAG</th>\n",
       "      <th>ALT_GEO_CODE</th>\n",
       "      <th>DIM: Highest certificate, diploma or degree (11)</th>\n",
       "      <th>Member ID: Highest certificate, diploma or degree (11)</th>\n",
       "      <th>Notes: Highest certificate, diploma or degree (11)</th>\n",
       "      <th>...</th>\n",
       "      <th>Member ID: Major field of study - Classification of Instructional Programs (CIP) 2016 (43)</th>\n",
       "      <th>Notes: Major field of study - Classification of Instructional Programs (CIP) 2016 (43)</th>\n",
       "      <th>Dim: Labour force status (8): Member ID: [1]: Total - Labour force status (Note: 7)</th>\n",
       "      <th>Dim: Labour force status (8): Member ID: [2]: In the labour force</th>\n",
       "      <th>Dim: Labour force status (8): Member ID: [3]: Employed</th>\n",
       "      <th>Dim: Labour force status (8): Member ID: [4]: Unemployed</th>\n",
       "      <th>Dim: Labour force status (8): Member ID: [5]: Not in the labour force</th>\n",
       "      <th>Dim: Labour force status (8): Member ID: [6]: Participation rate</th>\n",
       "      <th>Dim: Labour force status (8): Member ID: [7]: Employment rate</th>\n",
       "      <th>Dim: Labour force status (8): Member ID: [8]: Unemployment rate</th>\n",
       "    </tr>\n",
       "  </thead>\n",
       "  <tbody>\n",
       "    <tr>\n",
       "      <th>0</th>\n",
       "      <td>2016</td>\n",
       "      <td>1</td>\n",
       "      <td>0</td>\n",
       "      <td>Canada</td>\n",
       "      <td>5.1</td>\n",
       "      <td>20000</td>\n",
       "      <td>1</td>\n",
       "      <td>Total - Highest certificate, diploma or degree</td>\n",
       "      <td>1</td>\n",
       "      <td>1.0</td>\n",
       "      <td>...</td>\n",
       "      <td>1</td>\n",
       "      <td>6.0</td>\n",
       "      <td>28643015</td>\n",
       "      <td>18672470</td>\n",
       "      <td>17230035</td>\n",
       "      <td>1442430</td>\n",
       "      <td>9970545</td>\n",
       "      <td>65.2</td>\n",
       "      <td>60.2</td>\n",
       "      <td>7.7</td>\n",
       "    </tr>\n",
       "    <tr>\n",
       "      <th>1</th>\n",
       "      <td>2016</td>\n",
       "      <td>1</td>\n",
       "      <td>0</td>\n",
       "      <td>Canada</td>\n",
       "      <td>5.1</td>\n",
       "      <td>20000</td>\n",
       "      <td>1</td>\n",
       "      <td>Total - Highest certificate, diploma or degree</td>\n",
       "      <td>1</td>\n",
       "      <td>1.0</td>\n",
       "      <td>...</td>\n",
       "      <td>2</td>\n",
       "      <td>NaN</td>\n",
       "      <td>12815975</td>\n",
       "      <td>6825825</td>\n",
       "      <td>6098850</td>\n",
       "      <td>726975</td>\n",
       "      <td>5990155</td>\n",
       "      <td>53.3</td>\n",
       "      <td>47.6</td>\n",
       "      <td>10.7</td>\n",
       "    </tr>\n",
       "    <tr>\n",
       "      <th>2</th>\n",
       "      <td>2016</td>\n",
       "      <td>1</td>\n",
       "      <td>0</td>\n",
       "      <td>Canada</td>\n",
       "      <td>5.1</td>\n",
       "      <td>20000</td>\n",
       "      <td>1</td>\n",
       "      <td>Total - Highest certificate, diploma or degree</td>\n",
       "      <td>1</td>\n",
       "      <td>1.0</td>\n",
       "      <td>...</td>\n",
       "      <td>3</td>\n",
       "      <td>NaN</td>\n",
       "      <td>205930</td>\n",
       "      <td>161910</td>\n",
       "      <td>154270</td>\n",
       "      <td>7635</td>\n",
       "      <td>44020</td>\n",
       "      <td>78.6</td>\n",
       "      <td>74.9</td>\n",
       "      <td>4.7</td>\n",
       "    </tr>\n",
       "  </tbody>\n",
       "</table>\n",
       "<p>3 rows × 27 columns</p>\n",
       "</div>"
      ],
      "text/plain": [
       "   CENSUS_YEAR  GEO_CODE (POR)  GEO_LEVEL GEO_NAME  GNR  DATA_QUALITY_FLAG  \\\n",
       "0         2016               1          0   Canada  5.1              20000   \n",
       "1         2016               1          0   Canada  5.1              20000   \n",
       "2         2016               1          0   Canada  5.1              20000   \n",
       "\n",
       "   ALT_GEO_CODE DIM: Highest certificate, diploma or degree (11)  \\\n",
       "0             1   Total - Highest certificate, diploma or degree   \n",
       "1             1   Total - Highest certificate, diploma or degree   \n",
       "2             1   Total - Highest certificate, diploma or degree   \n",
       "\n",
       "   Member ID: Highest certificate, diploma or degree (11)  \\\n",
       "0                                                  1        \n",
       "1                                                  1        \n",
       "2                                                  1        \n",
       "\n",
       "   Notes: Highest certificate, diploma or degree (11)  \\\n",
       "0                                                1.0    \n",
       "1                                                1.0    \n",
       "2                                                1.0    \n",
       "\n",
       "                                ...                                 \\\n",
       "0                               ...                                  \n",
       "1                               ...                                  \n",
       "2                               ...                                  \n",
       "\n",
       "  Member ID: Major field of study - Classification of Instructional Programs (CIP) 2016 (43)  \\\n",
       "0                                                  1                                           \n",
       "1                                                  2                                           \n",
       "2                                                  3                                           \n",
       "\n",
       "   Notes: Major field of study - Classification of Instructional Programs (CIP) 2016 (43)  \\\n",
       "0                                                6.0                                        \n",
       "1                                                NaN                                        \n",
       "2                                                NaN                                        \n",
       "\n",
       "   Dim: Labour force status (8): Member ID: [1]: Total - Labour force status (Note: 7)  \\\n",
       "0                                           28643015                                     \n",
       "1                                           12815975                                     \n",
       "2                                             205930                                     \n",
       "\n",
       "  Dim: Labour force status (8): Member ID: [2]: In the labour force  \\\n",
       "0                                           18672470                  \n",
       "1                                            6825825                  \n",
       "2                                             161910                  \n",
       "\n",
       "   Dim: Labour force status (8): Member ID: [3]: Employed  \\\n",
       "0                                           17230035        \n",
       "1                                            6098850        \n",
       "2                                             154270        \n",
       "\n",
       "   Dim: Labour force status (8): Member ID: [4]: Unemployed  \\\n",
       "0                                            1442430          \n",
       "1                                             726975          \n",
       "2                                               7635          \n",
       "\n",
       "  Dim: Labour force status (8): Member ID: [5]: Not in the labour force  \\\n",
       "0                                            9970545                      \n",
       "1                                            5990155                      \n",
       "2                                              44020                      \n",
       "\n",
       "   Dim: Labour force status (8): Member ID: [6]: Participation rate  \\\n",
       "0                                               65.2                  \n",
       "1                                               53.3                  \n",
       "2                                               78.6                  \n",
       "\n",
       "   Dim: Labour force status (8): Member ID: [7]: Employment rate  \\\n",
       "0                                               60.2               \n",
       "1                                               47.6               \n",
       "2                                               74.9               \n",
       "\n",
       "   Dim: Labour force status (8): Member ID: [8]: Unemployment rate  \n",
       "0                                                7.7                \n",
       "1                                               10.7                \n",
       "2                                                4.7                \n",
       "\n",
       "[3 rows x 27 columns]"
      ]
     },
     "execution_count": 302,
     "metadata": {},
     "output_type": "execute_result"
    }
   ],
   "source": [
    "Tot_data.head(3)"
   ]
  },
  {
   "cell_type": "markdown",
   "metadata": {},
   "source": [
    "## Data Cleaning"
   ]
  },
  {
   "cell_type": "code",
   "execution_count": 421,
   "metadata": {},
   "outputs": [
    {
     "data": {
      "text/plain": [
       "3280"
      ]
     },
     "execution_count": 421,
     "metadata": {},
     "output_type": "execute_result"
    }
   ],
   "source": [
    "len(Canada_data_final['DIM: Sex (3)']=='Male')"
   ]
  },
  {
   "cell_type": "code",
   "execution_count": 425,
   "metadata": {},
   "outputs": [
    {
     "data": {
      "text/plain": [
       "(3280, 27)"
      ]
     },
     "execution_count": 425,
     "metadata": {},
     "output_type": "execute_result"
    }
   ],
   "source": [
    "Canada_data_final.shape"
   ]
  },
  {
   "cell_type": "code",
   "execution_count": 426,
   "metadata": {},
   "outputs": [
    {
     "data": {
      "text/plain": [
       "3280"
      ]
     },
     "execution_count": 426,
     "metadata": {},
     "output_type": "execute_result"
    }
   ],
   "source": [
    "len(Canada_data_final['DIM: Sex (3)']=='Female')"
   ]
  },
  {
   "cell_type": "code",
   "execution_count": 428,
   "metadata": {},
   "outputs": [
    {
     "data": {
      "text/plain": [
       "array(['Male', 'Female'], dtype=object)"
      ]
     },
     "execution_count": 428,
     "metadata": {},
     "output_type": "execute_result"
    }
   ],
   "source": [
    "Canada_data_final['DIM: Sex (3)'].unique()"
   ]
  },
  {
   "cell_type": "markdown",
   "metadata": {},
   "source": [
    "## What features/variables do we have here?"
   ]
  },
  {
   "cell_type": "code",
   "execution_count": 303,
   "metadata": {},
   "outputs": [
    {
     "data": {
      "text/plain": [
       "Index(['CENSUS_YEAR', 'GEO_CODE (POR)', 'GEO_LEVEL', 'GEO_NAME', 'GNR',\n",
       "       'DATA_QUALITY_FLAG', 'ALT_GEO_CODE',\n",
       "       'DIM: Highest certificate, diploma or degree (11)',\n",
       "       'Member ID: Highest certificate, diploma or degree (11)',\n",
       "       'Notes: Highest certificate, diploma or degree (11)', 'DIM: Age (9)',\n",
       "       'Member ID: Age (9)', 'Notes: Age (9)', 'DIM: Sex (3)',\n",
       "       'Member ID: Sex (3)', 'Notes: Sex (3)',\n",
       "       'DIM: Major field of study - Classification of Instructional Programs (CIP) 2016 (43)',\n",
       "       'Member ID: Major field of study - Classification of Instructional Programs (CIP) 2016 (43)',\n",
       "       'Notes: Major field of study - Classification of Instructional Programs (CIP) 2016 (43)',\n",
       "       'Dim: Labour force status (8): Member ID: [1]: Total - Labour force status (Note: 7)',\n",
       "       'Dim: Labour force status (8): Member ID: [2]: In the labour force',\n",
       "       'Dim: Labour force status (8): Member ID: [3]: Employed',\n",
       "       'Dim: Labour force status (8): Member ID: [4]: Unemployed',\n",
       "       'Dim: Labour force status (8): Member ID: [5]: Not in the labour force',\n",
       "       'Dim: Labour force status (8): Member ID: [6]: Participation rate',\n",
       "       'Dim: Labour force status (8): Member ID: [7]: Employment rate',\n",
       "       'Dim: Labour force status (8): Member ID: [8]: Unemployment rate'],\n",
       "      dtype='object')"
      ]
     },
     "execution_count": 303,
     "metadata": {},
     "output_type": "execute_result"
    }
   ],
   "source": [
    "Tot_data.columns"
   ]
  },
  {
   "cell_type": "code",
   "execution_count": 304,
   "metadata": {},
   "outputs": [
    {
     "data": {
      "text/plain": [
       "array(['Canada', 'Newfoundland and Labrador', 'Division No. 1',\n",
       "       'Division No. 2', 'Division No. 3', 'Division No. 4',\n",
       "       'Division No. 5', 'Division No. 6', 'Division No. 7',\n",
       "       'Division No. 8', 'Division No. 9', 'Division No. 10',\n",
       "       'Division No. 11', 'Prince Edward Island', 'Kings', 'Queens',\n",
       "       'Prince', 'Nova Scotia', 'Shelburne', 'Yarmouth', 'Digby',\n",
       "       'Annapolis', 'Lunenburg', 'Hants', 'Halifax', 'Colchester',\n",
       "       'Cumberland', 'Pictou', 'Guysborough', 'Antigonish', 'Inverness',\n",
       "       'Richmond', 'Cape Breton', 'Victoria', 'New Brunswick',\n",
       "       'Saint John', 'Charlotte', 'Sunbury', 'Albert', 'Westmorland',\n",
       "       'Kent', 'Northumberland', 'York', 'Carleton', 'Madawaska',\n",
       "       'Restigouche', 'Gloucester', 'Quebec', 'Les Îles-de-la-Madeleine',\n",
       "       'Le Rocher-Percé', 'La Côte-de-Gaspé', 'La Haute-Gaspésie',\n",
       "       'Bonaventure', 'Avignon', 'La Matapédia', 'Matane', 'La Mitis',\n",
       "       'Rimouski-Neigette', 'Les Basques', 'Rivière-du-Loup',\n",
       "       'Témiscouata', 'Kamouraska', 'Charlevoix-Est', 'Charlevoix',\n",
       "       \"L'Islet\", 'Montmagny', 'Bellechasse', \"L'Île-d'Orléans\",\n",
       "       'La Côte-de-Beaupré', 'La Jacques-Cartier', 'Québec', 'Lévis',\n",
       "       'La Nouvelle-Beauce', 'Robert-Cliche', 'Les Etchemins',\n",
       "       'Beauce-Sartigan', 'Le Granit', 'Les Appalaches', \"L'Érable\",\n",
       "       'Lotbinière', 'Portneuf', 'Mékinac', 'Shawinigan', 'Francheville',\n",
       "       'Bécancour', 'Arthabaska', 'Les Sources', 'Le Haut-Saint-François',\n",
       "       'Le Val-Saint-François', 'Sherbrooke', 'Coaticook', 'Memphrémagog',\n",
       "       'Brome-Missisquoi', 'La Haute-Yamaska', 'Acton', 'Drummond',\n",
       "       'Nicolet-Yamaska', 'Maskinongé', \"D'Autray\", 'Pierre-De Saurel',\n",
       "       'Les Maskoutains', 'Rouville', 'Le Haut-Richelieu',\n",
       "       'La Vallée-du-Richelieu', 'Longueuil', \"Marguerite-D'Youville\",\n",
       "       \"L'Assomption\", 'Joliette', 'Matawinie', 'Montcalm', 'Les Moulins',\n",
       "       'Laval', 'Montréal', 'Roussillon', 'Les Jardins-de-Napierville',\n",
       "       'Le Haut-Saint-Laurent', 'Beauharnois-Salaberry',\n",
       "       'Vaudreuil-Soulanges', 'Deux-Montagnes', 'Thérèse-De Blainville',\n",
       "       'Mirabel', 'La Rivière-du-Nord', 'Argenteuil',\n",
       "       \"Les Pays-d'en-Haut\", 'Les Laurentides', 'Antoine-Labelle',\n",
       "       'Papineau', 'Gatineau', \"Les Collines-de-l'Outaouais\",\n",
       "       'La Vallée-de-la-Gatineau', 'Pontiac', 'Témiscamingue',\n",
       "       'Rouyn-Noranda', 'Abitibi-Ouest', 'Abitibi', \"La Vallée-de-l'Or\",\n",
       "       'La Tuque', 'Le Domaine-du-Roy', 'Maria-Chapdelaine',\n",
       "       'Lac-Saint-Jean-Est', 'Le Saguenay-et-son-Fjord',\n",
       "       'La Haute-Côte-Nord', 'Manicouagan', 'Sept-Rivières--Caniapiscau',\n",
       "       'Minganie--Le Golfe-du-Saint-Laurent', 'Nord-du-Québec', 'Ontario',\n",
       "       'Stormont, Dundas and Glengarry', 'Prescott and Russell', 'Ottawa',\n",
       "       'Leeds and Grenville', 'Lanark', 'Frontenac',\n",
       "       'Lennox and Addington', 'Hastings', 'Prince Edward',\n",
       "       'Peterborough', 'Kawartha Lakes', 'Durham', 'Toronto', 'Peel',\n",
       "       'Dufferin', 'Wellington', 'Halton', 'Hamilton', 'Niagara',\n",
       "       'Haldimand-Norfolk', 'Brant', 'Waterloo', 'Perth', 'Oxford',\n",
       "       'Elgin', 'Chatham-Kent', 'Essex', 'Lambton', 'Middlesex', 'Huron',\n",
       "       'Bruce', 'Grey', 'Simcoe', 'Muskoka', 'Haliburton', 'Renfrew',\n",
       "       'Nipissing', 'Parry Sound', 'Manitoulin', 'Sudbury',\n",
       "       'Greater Sudbury / Grand Sudbury', 'Timiskaming', 'Cochrane',\n",
       "       'Algoma', 'Thunder Bay', 'Rainy River', 'Kenora', 'Manitoba',\n",
       "       'Division No. 12', 'Division No. 13', 'Division No. 14',\n",
       "       'Division No. 15', 'Division No. 16', 'Division No. 17',\n",
       "       'Division No. 18', 'Division No. 19', 'Division No. 20',\n",
       "       'Division No. 21', 'Division No. 22', 'Division No. 23',\n",
       "       'Saskatchewan', 'Alberta', 'British Columbia', 'East Kootenay',\n",
       "       'Central Kootenay', 'Kootenay Boundary', 'Okanagan-Similkameen',\n",
       "       'Fraser Valley', 'Greater Vancouver', 'Capital', 'Cowichan Valley',\n",
       "       'Nanaimo', 'Alberni-Clayoquot', 'Strathcona', 'Comox Valley',\n",
       "       'Powell River', 'Sunshine Coast', 'Squamish-Lillooet',\n",
       "       'Thompson-Nicola', 'Central Okanagan', 'North Okanagan',\n",
       "       'Columbia-Shuswap', 'Cariboo', 'Mount Waddington', 'Central Coast',\n",
       "       'Skeena-Queen Charlotte', 'Kitimat-Stikine', 'Bulkley-Nechako',\n",
       "       'Fraser-Fort George', 'Peace River', 'Stikine', 'Northern Rockies',\n",
       "       'Yukon', 'Northwest Territories', 'Region 1', 'Region 2',\n",
       "       'Region 3', 'Region 4', 'Region 5', 'Region 6', 'Nunavut',\n",
       "       'Baffin', 'Keewatin', 'Kitikmeot'], dtype=object)"
      ]
     },
     "execution_count": 304,
     "metadata": {},
     "output_type": "execute_result"
    }
   ],
   "source": [
    "Tot_data.GEO_NAME.unique()"
   ]
  },
  {
   "cell_type": "markdown",
   "metadata": {},
   "source": [
    "I can see that we have various hierarchies of the geographic areas, so it is more logical to compare data of the same category (e.g., Canada only,provinces only, devisions only, regions only,etc). I would start first with the samples that do not specify the geographic area inside Canada(i.e., GEO_NAME='Canada'). Nevertheless, we can later have another part that studies the impact of the geographical differences. "
   ]
  },
  {
   "cell_type": "code",
   "execution_count": 305,
   "metadata": {},
   "outputs": [],
   "source": [
    "Canada_data = Tot_data[Tot_data.GEO_NAME=='Canada']"
   ]
  },
  {
   "cell_type": "code",
   "execution_count": 306,
   "metadata": {},
   "outputs": [
    {
     "data": {
      "text/plain": [
       "(12771, 27)"
      ]
     },
     "execution_count": 306,
     "metadata": {},
     "output_type": "execute_result"
    }
   ],
   "source": [
    "Canada_data.shape"
   ]
  },
  {
   "cell_type": "markdown",
   "metadata": {},
   "source": [
    "We have a total of 12771 samples characterized by 27 features."
   ]
  },
  {
   "cell_type": "markdown",
   "metadata": {},
   "source": [
    "## Missing Data"
   ]
  },
  {
   "cell_type": "code",
   "execution_count": 307,
   "metadata": {},
   "outputs": [
    {
     "data": {
      "text/plain": [
       "CENSUS_YEAR                                                                                       0\n",
       "GEO_CODE (POR)                                                                                    0\n",
       "GEO_LEVEL                                                                                         0\n",
       "GEO_NAME                                                                                          0\n",
       "GNR                                                                                               0\n",
       "DATA_QUALITY_FLAG                                                                                 0\n",
       "ALT_GEO_CODE                                                                                      0\n",
       "DIM: Highest certificate, diploma or degree (11)                                                  0\n",
       "Member ID: Highest certificate, diploma or degree (11)                                            0\n",
       "Notes: Highest certificate, diploma or degree (11)                                             6966\n",
       "DIM: Age (9)                                                                                      0\n",
       "Member ID: Age (9)                                                                                0\n",
       "Notes: Age (9)                                                                                12771\n",
       "DIM: Sex (3)                                                                                      0\n",
       "Member ID: Sex (3)                                                                                0\n",
       "Notes: Sex (3)                                                                                12771\n",
       "DIM: Major field of study - Classification of Instructional Programs (CIP) 2016 (43)              0\n",
       "Member ID: Major field of study - Classification of Instructional Programs (CIP) 2016 (43)        0\n",
       "Notes: Major field of study - Classification of Instructional Programs (CIP) 2016 (43)        12474\n",
       "Dim: Labour force status (8): Member ID: [1]: Total - Labour force status (Note: 7)               0\n",
       "Dim: Labour force status (8): Member ID: [2]: In the labour force                                 0\n",
       "Dim: Labour force status (8): Member ID: [3]: Employed                                            0\n",
       "Dim: Labour force status (8): Member ID: [4]: Unemployed                                          0\n",
       "Dim: Labour force status (8): Member ID: [5]: Not in the labour force                             0\n",
       "Dim: Labour force status (8): Member ID: [6]: Participation rate                                  0\n",
       "Dim: Labour force status (8): Member ID: [7]: Employment rate                                     0\n",
       "Dim: Labour force status (8): Member ID: [8]: Unemployment rate                                   0\n",
       "dtype: int64"
      ]
     },
     "execution_count": 307,
     "metadata": {},
     "output_type": "execute_result"
    }
   ],
   "source": [
    "Canada_data.isnull().sum()"
   ]
  },
  {
   "cell_type": "markdown",
   "metadata": {},
   "source": [
    "Thus, we don't really have missing data. Instead, those missing entires are within the notes section of the data. No harm then!"
   ]
  },
  {
   "cell_type": "markdown",
   "metadata": {},
   "source": [
    "## Census Year"
   ]
  },
  {
   "cell_type": "code",
   "execution_count": 308,
   "metadata": {},
   "outputs": [
    {
     "data": {
      "text/plain": [
       "array([2016], dtype=int64)"
      ]
     },
     "execution_count": 308,
     "metadata": {},
     "output_type": "execute_result"
    }
   ],
   "source": [
    "Canada_data.CENSUS_YEAR.unique()"
   ]
  },
  {
   "cell_type": "markdown",
   "metadata": {},
   "source": [
    "All the data we have are collected in the same year, 2016. "
   ]
  },
  {
   "cell_type": "markdown",
   "metadata": {},
   "source": [
    "## Geographical Features"
   ]
  },
  {
   "cell_type": "code",
   "execution_count": 309,
   "metadata": {},
   "outputs": [],
   "source": [
    "Geo_features = ['GEO_CODE (POR)', 'GEO_LEVEL','ALT_GEO_CODE','GEO_NAME']"
   ]
  },
  {
   "cell_type": "code",
   "execution_count": 310,
   "metadata": {},
   "outputs": [
    {
     "name": "stdout",
     "output_type": "stream",
     "text": [
      "[1]\n",
      "[0]\n",
      "[1]\n",
      "['Canada']\n"
     ]
    }
   ],
   "source": [
    "for col in Geo_features:\n",
    "    print(Canada_data[col].unique())"
   ]
  },
  {
   "cell_type": "markdown",
   "metadata": {},
   "source": [
    "The three variables represents the geographic area. "
   ]
  },
  {
   "cell_type": "markdown",
   "metadata": {},
   "source": [
    "## GNR"
   ]
  },
  {
   "cell_type": "code",
   "execution_count": 311,
   "metadata": {},
   "outputs": [
    {
     "data": {
      "text/plain": [
       "array([5.1])"
      ]
     },
     "execution_count": 311,
     "metadata": {},
     "output_type": "execute_result"
    }
   ],
   "source": [
    "Canada_data.GNR.unique()"
   ]
  },
  {
   "cell_type": "markdown",
   "metadata": {},
   "source": [
    "## Data Quality Flag"
   ]
  },
  {
   "cell_type": "code",
   "execution_count": 312,
   "metadata": {},
   "outputs": [
    {
     "data": {
      "text/plain": [
       "array([20000], dtype=int64)"
      ]
     },
     "execution_count": 312,
     "metadata": {},
     "output_type": "execute_result"
    }
   ],
   "source": [
    "Canada_data.DATA_QUALITY_FLAG.unique()"
   ]
  },
  {
   "cell_type": "markdown",
   "metadata": {},
   "source": [
    "## Highest certificate, diploma or degree"
   ]
  },
  {
   "cell_type": "code",
   "execution_count": 313,
   "metadata": {},
   "outputs": [],
   "source": [
    "EducationalLevels_features = ['DIM: Highest certificate, diploma or degree (11)','Member ID: Highest certificate, diploma or degree (11)','Notes: Highest certificate, diploma or degree (11)']"
   ]
  },
  {
   "cell_type": "code",
   "execution_count": 314,
   "metadata": {},
   "outputs": [
    {
     "name": "stdout",
     "output_type": "stream",
     "text": [
      "['Total - Highest certificate, diploma or degree'\n",
      " 'No certificate, diploma or degree'\n",
      " 'Secondary (high) school diploma or equivalency certificate'\n",
      " 'Apprenticeship or trades certificate or diploma'\n",
      " 'Trades certificate or diploma other than Certificate of Apprenticeship or Certificate of Qualification'\n",
      " 'Certificate of Apprenticeship or Certificate of Qualification'\n",
      " 'College, CEGEP or other non-university certificate or diploma'\n",
      " 'University certificate or diploma below bachelor level'\n",
      " 'University certificate, diploma or degree at bachelor level or above'\n",
      " \"Bachelor's degree\"\n",
      " 'University certificate, diploma or degree above bachelor level']\n",
      "[ 1  2  3  4  5  6  7  8  9 10 11]\n",
      "[ 1. nan  2.  3.  4.  5.]\n"
     ]
    }
   ],
   "source": [
    "for col in EducationalLevels_features:\n",
    "    print(Canada_data[col].unique())"
   ]
  },
  {
   "cell_type": "markdown",
   "metadata": {},
   "source": [
    "We are interested in only those graduates from a collage or university!\n",
    "\n",
    "- College, CEGEP or other non-university certificate or diploma.\n",
    "\n",
    "- University certificate or diploma below bachelor level.\n",
    "\n",
    "- University certificate, diploma or degree at bachelor level or above.\n",
    "\n",
    "- Bachelor's degree.\n",
    "\n",
    "- University certificate, diploma or degree above bachelor level.\n"
   ]
  },
  {
   "cell_type": "code",
   "execution_count": 456,
   "metadata": {},
   "outputs": [],
   "source": [
    "Degrees_of_interest = [3,7,8,9,10,11]"
   ]
  },
  {
   "cell_type": "code",
   "execution_count": 457,
   "metadata": {},
   "outputs": [
    {
     "data": {
      "text/html": [
       "<div>\n",
       "<style scoped>\n",
       "    .dataframe tbody tr th:only-of-type {\n",
       "        vertical-align: middle;\n",
       "    }\n",
       "\n",
       "    .dataframe tbody tr th {\n",
       "        vertical-align: top;\n",
       "    }\n",
       "\n",
       "    .dataframe thead th {\n",
       "        text-align: right;\n",
       "    }\n",
       "</style>\n",
       "<table border=\"1\" class=\"dataframe\">\n",
       "  <thead>\n",
       "    <tr style=\"text-align: right;\">\n",
       "      <th></th>\n",
       "      <th>CENSUS_YEAR</th>\n",
       "      <th>GEO_CODE (POR)</th>\n",
       "      <th>GEO_LEVEL</th>\n",
       "      <th>GEO_NAME</th>\n",
       "      <th>GNR</th>\n",
       "      <th>DATA_QUALITY_FLAG</th>\n",
       "      <th>ALT_GEO_CODE</th>\n",
       "      <th>DIM: Highest certificate, diploma or degree (11)</th>\n",
       "      <th>Member ID: Highest certificate, diploma or degree (11)</th>\n",
       "      <th>Notes: Highest certificate, diploma or degree (11)</th>\n",
       "      <th>...</th>\n",
       "      <th>Member ID: Major field of study - Classification of Instructional Programs (CIP) 2016 (43)</th>\n",
       "      <th>Notes: Major field of study - Classification of Instructional Programs (CIP) 2016 (43)</th>\n",
       "      <th>Dim: Labour force status (8): Member ID: [1]: Total - Labour force status (Note: 7)</th>\n",
       "      <th>Dim: Labour force status (8): Member ID: [2]: In the labour force</th>\n",
       "      <th>Dim: Labour force status (8): Member ID: [3]: Employed</th>\n",
       "      <th>Dim: Labour force status (8): Member ID: [4]: Unemployed</th>\n",
       "      <th>Dim: Labour force status (8): Member ID: [5]: Not in the labour force</th>\n",
       "      <th>Dim: Labour force status (8): Member ID: [6]: Participation rate</th>\n",
       "      <th>Dim: Labour force status (8): Member ID: [7]: Employment rate</th>\n",
       "      <th>Dim: Labour force status (8): Member ID: [8]: Unemployment rate</th>\n",
       "    </tr>\n",
       "  </thead>\n",
       "  <tbody>\n",
       "    <tr>\n",
       "      <th>2322</th>\n",
       "      <td>2016</td>\n",
       "      <td>1</td>\n",
       "      <td>0</td>\n",
       "      <td>Canada</td>\n",
       "      <td>5.1</td>\n",
       "      <td>20000</td>\n",
       "      <td>1</td>\n",
       "      <td>Secondary (high) school diploma or equivalency...</td>\n",
       "      <td>3</td>\n",
       "      <td>2.0</td>\n",
       "      <td>...</td>\n",
       "      <td>1</td>\n",
       "      <td>6.0</td>\n",
       "      <td>7576400</td>\n",
       "      <td>4818200</td>\n",
       "      <td>4362260</td>\n",
       "      <td>455940</td>\n",
       "      <td>2758195</td>\n",
       "      <td>63.6</td>\n",
       "      <td>57.6</td>\n",
       "      <td>9.5</td>\n",
       "    </tr>\n",
       "    <tr>\n",
       "      <th>2323</th>\n",
       "      <td>2016</td>\n",
       "      <td>1</td>\n",
       "      <td>0</td>\n",
       "      <td>Canada</td>\n",
       "      <td>5.1</td>\n",
       "      <td>20000</td>\n",
       "      <td>1</td>\n",
       "      <td>Secondary (high) school diploma or equivalency...</td>\n",
       "      <td>3</td>\n",
       "      <td>2.0</td>\n",
       "      <td>...</td>\n",
       "      <td>2</td>\n",
       "      <td>NaN</td>\n",
       "      <td>7576400</td>\n",
       "      <td>4818200</td>\n",
       "      <td>4362260</td>\n",
       "      <td>455940</td>\n",
       "      <td>2758195</td>\n",
       "      <td>63.6</td>\n",
       "      <td>57.6</td>\n",
       "      <td>9.5</td>\n",
       "    </tr>\n",
       "    <tr>\n",
       "      <th>2324</th>\n",
       "      <td>2016</td>\n",
       "      <td>1</td>\n",
       "      <td>0</td>\n",
       "      <td>Canada</td>\n",
       "      <td>5.1</td>\n",
       "      <td>20000</td>\n",
       "      <td>1</td>\n",
       "      <td>Secondary (high) school diploma or equivalency...</td>\n",
       "      <td>3</td>\n",
       "      <td>2.0</td>\n",
       "      <td>...</td>\n",
       "      <td>3</td>\n",
       "      <td>NaN</td>\n",
       "      <td>0</td>\n",
       "      <td>0</td>\n",
       "      <td>0</td>\n",
       "      <td>0</td>\n",
       "      <td>0</td>\n",
       "      <td>0.0</td>\n",
       "      <td>0.0</td>\n",
       "      <td>0.0</td>\n",
       "    </tr>\n",
       "  </tbody>\n",
       "</table>\n",
       "<p>3 rows × 27 columns</p>\n",
       "</div>"
      ],
      "text/plain": [
       "      CENSUS_YEAR  GEO_CODE (POR)  GEO_LEVEL GEO_NAME  GNR  DATA_QUALITY_FLAG  \\\n",
       "2322         2016               1          0   Canada  5.1              20000   \n",
       "2323         2016               1          0   Canada  5.1              20000   \n",
       "2324         2016               1          0   Canada  5.1              20000   \n",
       "\n",
       "      ALT_GEO_CODE   DIM: Highest certificate, diploma or degree (11)  \\\n",
       "2322             1  Secondary (high) school diploma or equivalency...   \n",
       "2323             1  Secondary (high) school diploma or equivalency...   \n",
       "2324             1  Secondary (high) school diploma or equivalency...   \n",
       "\n",
       "      Member ID: Highest certificate, diploma or degree (11)  \\\n",
       "2322                                                  3        \n",
       "2323                                                  3        \n",
       "2324                                                  3        \n",
       "\n",
       "      Notes: Highest certificate, diploma or degree (11)  \\\n",
       "2322                                                2.0    \n",
       "2323                                                2.0    \n",
       "2324                                                2.0    \n",
       "\n",
       "                                   ...                                 \\\n",
       "2322                               ...                                  \n",
       "2323                               ...                                  \n",
       "2324                               ...                                  \n",
       "\n",
       "     Member ID: Major field of study - Classification of Instructional Programs (CIP) 2016 (43)  \\\n",
       "2322                                                  1                                           \n",
       "2323                                                  2                                           \n",
       "2324                                                  3                                           \n",
       "\n",
       "      Notes: Major field of study - Classification of Instructional Programs (CIP) 2016 (43)  \\\n",
       "2322                                                6.0                                        \n",
       "2323                                                NaN                                        \n",
       "2324                                                NaN                                        \n",
       "\n",
       "      Dim: Labour force status (8): Member ID: [1]: Total - Labour force status (Note: 7)  \\\n",
       "2322                                            7576400                                     \n",
       "2323                                            7576400                                     \n",
       "2324                                                  0                                     \n",
       "\n",
       "     Dim: Labour force status (8): Member ID: [2]: In the labour force  \\\n",
       "2322                                            4818200                  \n",
       "2323                                            4818200                  \n",
       "2324                                                  0                  \n",
       "\n",
       "      Dim: Labour force status (8): Member ID: [3]: Employed  \\\n",
       "2322                                            4362260        \n",
       "2323                                            4362260        \n",
       "2324                                                  0        \n",
       "\n",
       "      Dim: Labour force status (8): Member ID: [4]: Unemployed  \\\n",
       "2322                                             455940          \n",
       "2323                                             455940          \n",
       "2324                                                  0          \n",
       "\n",
       "     Dim: Labour force status (8): Member ID: [5]: Not in the labour force  \\\n",
       "2322                                            2758195                      \n",
       "2323                                            2758195                      \n",
       "2324                                                  0                      \n",
       "\n",
       "      Dim: Labour force status (8): Member ID: [6]: Participation rate  \\\n",
       "2322                                               63.6                  \n",
       "2323                                               63.6                  \n",
       "2324                                                0.0                  \n",
       "\n",
       "      Dim: Labour force status (8): Member ID: [7]: Employment rate  \\\n",
       "2322                                               57.6               \n",
       "2323                                               57.6               \n",
       "2324                                                0.0               \n",
       "\n",
       "      Dim: Labour force status (8): Member ID: [8]: Unemployment rate  \n",
       "2322                                                9.5                \n",
       "2323                                                9.5                \n",
       "2324                                                0.0                \n",
       "\n",
       "[3 rows x 27 columns]"
      ]
     },
     "execution_count": 457,
     "metadata": {},
     "output_type": "execute_result"
    }
   ],
   "source": [
    "## select only rows with the passed educational lavels \n",
    "Canada_data[Canada_data['Member ID: Highest certificate, diploma or degree (11)'].isin(Degrees_of_interest)].head(3)"
   ]
  },
  {
   "cell_type": "markdown",
   "metadata": {},
   "source": [
    "## Age"
   ]
  },
  {
   "cell_type": "markdown",
   "metadata": {},
   "source": [
    "'Age' refers to the age of a person (or subject) of interest at last birthday (or relative to a specified, well-defined reference date)."
   ]
  },
  {
   "cell_type": "code",
   "execution_count": 358,
   "metadata": {},
   "outputs": [],
   "source": [
    "Age_features =['DIM: Age (9)','Member ID: Age (9)','Notes: Age (9)']"
   ]
  },
  {
   "cell_type": "code",
   "execution_count": 318,
   "metadata": {},
   "outputs": [
    {
     "name": "stdout",
     "output_type": "stream",
     "text": [
      "['Total - Age' '15 to 24 years' '25 to 64 years' '25 to 54 years'\n",
      " '25 to 34 years' '35 to 44 years' '45 to 54 years' '55 to 64 years'\n",
      " '65 years and over']\n",
      "[1 2 3 4 5 6 7 8 9]\n",
      "[nan]\n"
     ]
    }
   ],
   "source": [
    "for col in Age_features:\n",
    "    print(Canada_data[col].unique())"
   ]
  },
  {
   "cell_type": "markdown",
   "metadata": {},
   "source": [
    "We can filter the age groups to the only ones that may add a value to our analysis."
   ]
  },
  {
   "cell_type": "code",
   "execution_count": 321,
   "metadata": {},
   "outputs": [
    {
     "data": {
      "text/plain": [
       "array([2, 3, 4, 5, 6, 7, 8, 9], dtype=int64)"
      ]
     },
     "execution_count": 321,
     "metadata": {},
     "output_type": "execute_result"
    }
   ],
   "source": [
    "Canada_data['Member ID: Age (9)'].unique()[1:]"
   ]
  },
  {
   "cell_type": "code",
   "execution_count": 322,
   "metadata": {},
   "outputs": [],
   "source": [
    "SelectedAgeGroups= [2, 3, 4, 5, 6, 7, 8, 9]"
   ]
  },
  {
   "cell_type": "markdown",
   "metadata": {},
   "source": [
    "That is only what we need from the available groups of ages."
   ]
  },
  {
   "cell_type": "markdown",
   "metadata": {},
   "source": [
    "## Sex"
   ]
  },
  {
   "cell_type": "code",
   "execution_count": 250,
   "metadata": {},
   "outputs": [],
   "source": [
    "Sex_features = ['DIM: Sex (3)','Member ID: Sex (3)', 'Notes: Sex (3)']"
   ]
  },
  {
   "cell_type": "code",
   "execution_count": 251,
   "metadata": {},
   "outputs": [
    {
     "name": "stdout",
     "output_type": "stream",
     "text": [
      "['Total - Sex' 'Male' 'Female']\n",
      "[1 2 3]\n",
      "[nan]\n"
     ]
    }
   ],
   "source": [
    "for col in Sex_features:\n",
    "    print(Canada_data[col].unique())"
   ]
  },
  {
   "cell_type": "code",
   "execution_count": 491,
   "metadata": {},
   "outputs": [
    {
     "data": {
      "text/html": [
       "<div>\n",
       "<style scoped>\n",
       "    .dataframe tbody tr th:only-of-type {\n",
       "        vertical-align: middle;\n",
       "    }\n",
       "\n",
       "    .dataframe tbody tr th {\n",
       "        vertical-align: top;\n",
       "    }\n",
       "\n",
       "    .dataframe thead th {\n",
       "        text-align: right;\n",
       "    }\n",
       "</style>\n",
       "<table border=\"1\" class=\"dataframe\">\n",
       "  <thead>\n",
       "    <tr style=\"text-align: right;\">\n",
       "      <th></th>\n",
       "      <th>CENSUS_YEAR</th>\n",
       "      <th>GEO_CODE (POR)</th>\n",
       "      <th>GEO_LEVEL</th>\n",
       "      <th>GEO_NAME</th>\n",
       "      <th>GNR</th>\n",
       "      <th>DATA_QUALITY_FLAG</th>\n",
       "      <th>ALT_GEO_CODE</th>\n",
       "      <th>DIM: Highest certificate, diploma or degree (11)</th>\n",
       "      <th>Member ID: Highest certificate, diploma or degree (11)</th>\n",
       "      <th>Notes: Highest certificate, diploma or degree (11)</th>\n",
       "      <th>...</th>\n",
       "      <th>Member ID: Major field of study - Classification of Instructional Programs (CIP) 2016 (43)</th>\n",
       "      <th>Notes: Major field of study - Classification of Instructional Programs (CIP) 2016 (43)</th>\n",
       "      <th>Dim: Labour force status (8): Member ID: [1]: Total - Labour force status (Note: 7)</th>\n",
       "      <th>Dim: Labour force status (8): Member ID: [2]: In the labour force</th>\n",
       "      <th>Dim: Labour force status (8): Member ID: [3]: Employed</th>\n",
       "      <th>Dim: Labour force status (8): Member ID: [4]: Unemployed</th>\n",
       "      <th>Dim: Labour force status (8): Member ID: [5]: Not in the labour force</th>\n",
       "      <th>Dim: Labour force status (8): Member ID: [6]: Participation rate</th>\n",
       "      <th>Dim: Labour force status (8): Member ID: [7]: Employment rate</th>\n",
       "      <th>Dim: Labour force status (8): Member ID: [8]: Unemployment rate</th>\n",
       "    </tr>\n",
       "  </thead>\n",
       "  <tbody>\n",
       "    <tr>\n",
       "      <th>43</th>\n",
       "      <td>2016</td>\n",
       "      <td>1</td>\n",
       "      <td>0</td>\n",
       "      <td>Canada</td>\n",
       "      <td>5.1</td>\n",
       "      <td>20000</td>\n",
       "      <td>1</td>\n",
       "      <td>Total - Highest certificate, diploma or degree</td>\n",
       "      <td>1</td>\n",
       "      <td>1.0</td>\n",
       "      <td>...</td>\n",
       "      <td>1</td>\n",
       "      <td>6.0</td>\n",
       "      <td>13990430</td>\n",
       "      <td>9731825</td>\n",
       "      <td>8923545</td>\n",
       "      <td>808285</td>\n",
       "      <td>4258605</td>\n",
       "      <td>69.6</td>\n",
       "      <td>63.8</td>\n",
       "      <td>8.3</td>\n",
       "    </tr>\n",
       "    <tr>\n",
       "      <th>44</th>\n",
       "      <td>2016</td>\n",
       "      <td>1</td>\n",
       "      <td>0</td>\n",
       "      <td>Canada</td>\n",
       "      <td>5.1</td>\n",
       "      <td>20000</td>\n",
       "      <td>1</td>\n",
       "      <td>Total - Highest certificate, diploma or degree</td>\n",
       "      <td>1</td>\n",
       "      <td>1.0</td>\n",
       "      <td>...</td>\n",
       "      <td>2</td>\n",
       "      <td>NaN</td>\n",
       "      <td>6354625</td>\n",
       "      <td>3841265</td>\n",
       "      <td>3413835</td>\n",
       "      <td>427430</td>\n",
       "      <td>2513360</td>\n",
       "      <td>60.4</td>\n",
       "      <td>53.7</td>\n",
       "      <td>11.1</td>\n",
       "    </tr>\n",
       "    <tr>\n",
       "      <th>45</th>\n",
       "      <td>2016</td>\n",
       "      <td>1</td>\n",
       "      <td>0</td>\n",
       "      <td>Canada</td>\n",
       "      <td>5.1</td>\n",
       "      <td>20000</td>\n",
       "      <td>1</td>\n",
       "      <td>Total - Highest certificate, diploma or degree</td>\n",
       "      <td>1</td>\n",
       "      <td>1.0</td>\n",
       "      <td>...</td>\n",
       "      <td>3</td>\n",
       "      <td>NaN</td>\n",
       "      <td>127925</td>\n",
       "      <td>101735</td>\n",
       "      <td>97545</td>\n",
       "      <td>4190</td>\n",
       "      <td>26190</td>\n",
       "      <td>79.5</td>\n",
       "      <td>76.3</td>\n",
       "      <td>4.1</td>\n",
       "    </tr>\n",
       "  </tbody>\n",
       "</table>\n",
       "<p>3 rows × 27 columns</p>\n",
       "</div>"
      ],
      "text/plain": [
       "    CENSUS_YEAR  GEO_CODE (POR)  GEO_LEVEL GEO_NAME  GNR  DATA_QUALITY_FLAG  \\\n",
       "43         2016               1          0   Canada  5.1              20000   \n",
       "44         2016               1          0   Canada  5.1              20000   \n",
       "45         2016               1          0   Canada  5.1              20000   \n",
       "\n",
       "    ALT_GEO_CODE DIM: Highest certificate, diploma or degree (11)  \\\n",
       "43             1   Total - Highest certificate, diploma or degree   \n",
       "44             1   Total - Highest certificate, diploma or degree   \n",
       "45             1   Total - Highest certificate, diploma or degree   \n",
       "\n",
       "    Member ID: Highest certificate, diploma or degree (11)  \\\n",
       "43                                                  1        \n",
       "44                                                  1        \n",
       "45                                                  1        \n",
       "\n",
       "    Notes: Highest certificate, diploma or degree (11)  \\\n",
       "43                                                1.0    \n",
       "44                                                1.0    \n",
       "45                                                1.0    \n",
       "\n",
       "                                 ...                                 \\\n",
       "43                               ...                                  \n",
       "44                               ...                                  \n",
       "45                               ...                                  \n",
       "\n",
       "   Member ID: Major field of study - Classification of Instructional Programs (CIP) 2016 (43)  \\\n",
       "43                                                  1                                           \n",
       "44                                                  2                                           \n",
       "45                                                  3                                           \n",
       "\n",
       "    Notes: Major field of study - Classification of Instructional Programs (CIP) 2016 (43)  \\\n",
       "43                                                6.0                                        \n",
       "44                                                NaN                                        \n",
       "45                                                NaN                                        \n",
       "\n",
       "    Dim: Labour force status (8): Member ID: [1]: Total - Labour force status (Note: 7)  \\\n",
       "43                                           13990430                                     \n",
       "44                                            6354625                                     \n",
       "45                                             127925                                     \n",
       "\n",
       "   Dim: Labour force status (8): Member ID: [2]: In the labour force  \\\n",
       "43                                            9731825                  \n",
       "44                                            3841265                  \n",
       "45                                             101735                  \n",
       "\n",
       "    Dim: Labour force status (8): Member ID: [3]: Employed  \\\n",
       "43                                            8923545        \n",
       "44                                            3413835        \n",
       "45                                              97545        \n",
       "\n",
       "    Dim: Labour force status (8): Member ID: [4]: Unemployed  \\\n",
       "43                                             808285          \n",
       "44                                             427430          \n",
       "45                                               4190          \n",
       "\n",
       "   Dim: Labour force status (8): Member ID: [5]: Not in the labour force  \\\n",
       "43                                            4258605                      \n",
       "44                                            2513360                      \n",
       "45                                              26190                      \n",
       "\n",
       "    Dim: Labour force status (8): Member ID: [6]: Participation rate  \\\n",
       "43                                               69.6                  \n",
       "44                                               60.4                  \n",
       "45                                               79.5                  \n",
       "\n",
       "    Dim: Labour force status (8): Member ID: [7]: Employment rate  \\\n",
       "43                                               63.8               \n",
       "44                                               53.7               \n",
       "45                                               76.3               \n",
       "\n",
       "    Dim: Labour force status (8): Member ID: [8]: Unemployment rate  \n",
       "43                                                8.3                \n",
       "44                                               11.1                \n",
       "45                                                4.1                \n",
       "\n",
       "[3 rows x 27 columns]"
      ]
     },
     "execution_count": 491,
     "metadata": {},
     "output_type": "execute_result"
    }
   ],
   "source": [
    "Canada_data[(Canada_data['Member ID: Sex (3)']==2) | (Canada_data['Member ID: Sex (3)']==3)].head(3)\n"
   ]
  },
  {
   "cell_type": "markdown",
   "metadata": {},
   "source": [
    "## Major Field of Study"
   ]
  },
  {
   "cell_type": "code",
   "execution_count": 323,
   "metadata": {},
   "outputs": [],
   "source": [
    "StudyField_features = ['DIM: Major field of study - Classification of Instructional Programs (CIP) 2016 (43)','Member ID: Major field of study - Classification of Instructional Programs (CIP) 2016 (43)','Notes: Major field of study - Classification of Instructional Programs (CIP) 2016 (43)']"
   ]
  },
  {
   "cell_type": "code",
   "execution_count": 324,
   "metadata": {},
   "outputs": [
    {
     "name": "stdout",
     "output_type": "stream",
     "text": [
      "['Total - Major field of study - Classification of Instructional Programs (CIP) 2016'\n",
      " 'No postsecondary certificate, diploma or degree'\n",
      " '01. Agriculture, agriculture operations and related sciences'\n",
      " '03. Natural resources and conservation'\n",
      " '04. Architecture and related services'\n",
      " '05. Area, ethnic, cultural, gender, and group studies'\n",
      " '09. Communication, journalism and related programs'\n",
      " '10. Communications technologies/technicians and support services'\n",
      " '11. Computer and information sciences and support services'\n",
      " '12. Personal and culinary services' '13. Education' '14. Engineering'\n",
      " '15. Engineering technologies and engineering-related fields'\n",
      " '16. Aboriginal and foreign languages, literatures and linguistics'\n",
      " '19. Family and consumer sciences/human sciences'\n",
      " '22. Legal professions and studies'\n",
      " '23. English language and literature/letters'\n",
      " '24. Liberal arts and sciences, general studies and humanities'\n",
      " '25. Library science' '26. Biological and biomedical sciences'\n",
      " '27. Mathematics and statistics'\n",
      " '28. Military science, leadership and operational art'\n",
      " '29. Military technologies and applied sciences'\n",
      " '30. Multidisciplinary/interdisciplinary studies'\n",
      " '31. Parks, recreation, leisure and fitness studies'\n",
      " '38. Philosophy and religious studies'\n",
      " '39. Theology and religious vocations' '40. Physical sciences'\n",
      " '41. Science technologies/technicians' '42. Psychology'\n",
      " '43. Security and protective services'\n",
      " '44. Public administration and social service professions'\n",
      " '45. Social sciences' '46. Construction trades'\n",
      " '47. Mechanic and repair technologies/technicians'\n",
      " '48. Precision production' '49. Transportation and materials moving'\n",
      " '50. Visual and performing arts'\n",
      " '51. Health professions and related programs'\n",
      " '52. Business, management, marketing and related support services'\n",
      " '54. History' '55. French language and literature/letters'\n",
      " '60. Dental, medical and veterinary residency programs']\n",
      "[ 1  2  3  4  5  6  7  8  9 10 11 12 13 14 15 16 17 18 19 20 21 22 23 24\n",
      " 25 26 27 28 29 30 31 32 33 34 35 36 37 38 39 40 41 42 43]\n",
      "[ 6. nan]\n"
     ]
    }
   ],
   "source": [
    "for col in StudyField_features:\n",
    "    print(Canada_data[col].unique())"
   ]
  },
  {
   "cell_type": "markdown",
   "metadata": {},
   "source": [
    "## Labour Force Outcome"
   ]
  },
  {
   "cell_type": "code",
   "execution_count": 325,
   "metadata": {},
   "outputs": [],
   "source": [
    "LabourFeatures = ['Dim: Labour force status (8): Member ID: [1]: Total - Labour force status (Note: 7)','Dim: Labour force status (8): Member ID: [2]: In the labour force','Dim: Labour force status (8): Member ID: [3]: Employed','Dim: Labour force status (8): Member ID: [4]: Unemployed','Dim: Labour force status (8): Member ID: [5]: Not in the labour force','Dim: Labour force status (8): Member ID: [6]: Participation rate','Dim: Labour force status (8): Member ID: [7]: Employment rate','Dim: Labour force status (8): Member ID: [8]: Unemployment rate']"
   ]
  },
  {
   "cell_type": "code",
   "execution_count": 326,
   "metadata": {},
   "outputs": [
    {
     "name": "stdout",
     "output_type": "stream",
     "text": [
      "Dim: Labour force status (8): Member ID: [1]: Total - Labour force status (Note: 7) [28643015 12815975   205930   133120   114315]\n",
      "Dim: Labour force status (8): Member ID: [2]: In the labour force [18672470  6825825   161910   107035    93250]\n",
      "Dim: Labour force status (8): Member ID: [3]: Employed [17230035  6098850   154270    97935    87810]\n",
      "Dim: Labour force status (8): Member ID: [4]: Unemployed [1442430  726975    7635    9100    5445]\n",
      "Dim: Labour force status (8): Member ID: [5]: Not in the labour force [9970545 5990155   44020   26085   21065]\n",
      "Dim: Labour force status (8): Member ID: [6]: Participation rate [65.2 53.3 78.6 80.4 81.6]\n",
      "Dim: Labour force status (8): Member ID: [7]: Employment rate [60.2 47.6 74.9 73.6 76.8]\n",
      "Dim: Labour force status (8): Member ID: [8]: Unemployment rate [ 7.7 10.7  4.7  8.5  5.8]\n"
     ]
    }
   ],
   "source": [
    "for col in LabourFeatures:\n",
    "    print(col, Canada_data[col].unique()[:5])"
   ]
  },
  {
   "cell_type": "markdown",
   "metadata": {},
   "source": [
    "### Going back to our main question we would answer: how major fields of study impact labour force outcomes for Canadians?"
   ]
  },
  {
   "cell_type": "markdown",
   "metadata": {},
   "source": [
    "As we can see from the previous analysis, we have groups of features that every group represents one variable or feature. Thus, we can reduce the features to only the unique ones we need for our analysis. \n",
    "\n",
    "Also, for some categorical data, we are interested in only some categories (e.g., the educational level). "
   ]
  },
  {
   "cell_type": "markdown",
   "metadata": {},
   "source": [
    "1- Select only the educational levels of interest."
   ]
  },
  {
   "cell_type": "code",
   "execution_count": 458,
   "metadata": {},
   "outputs": [],
   "source": [
    "Canada_data_final = Canada_data[Canada_data['Member ID: Highest certificate, diploma or degree (11)'].isin(Degrees_of_interest)]"
   ]
  },
  {
   "cell_type": "code",
   "execution_count": 459,
   "metadata": {},
   "outputs": [
    {
     "data": {
      "text/plain": [
       "2322    Secondary (high) school diploma or equivalency...\n",
       "2323    Secondary (high) school diploma or equivalency...\n",
       "2324    Secondary (high) school diploma or equivalency...\n",
       "2325    Secondary (high) school diploma or equivalency...\n",
       "2326    Secondary (high) school diploma or equivalency...\n",
       "Name: DIM: Highest certificate, diploma or degree (11), dtype: object"
      ]
     },
     "execution_count": 459,
     "metadata": {},
     "output_type": "execute_result"
    }
   ],
   "source": [
    "Canada_data_final['DIM: Highest certificate, diploma or degree (11)'].head()"
   ]
  },
  {
   "cell_type": "markdown",
   "metadata": {},
   "source": [
    "2- Filter only the required fields of study."
   ]
  },
  {
   "cell_type": "code",
   "execution_count": 460,
   "metadata": {},
   "outputs": [],
   "source": [
    "SelectedStudyFields_features= [3,4,5,6,7,8,9, 10, 11, 12, 13, 14, 15, 16, 17, 18, 19, 20, 21, 22, 23, 24, 25, 26, 27, 28, 29, 30, 31, 32, 33, 34, 35, 36, 37, 38, 39,40, 41,42,43]"
   ]
  },
  {
   "cell_type": "code",
   "execution_count": 461,
   "metadata": {},
   "outputs": [],
   "source": [
    "Canada_data_final = Canada_data_final[Canada_data_final['Member ID: Major field of study - Classification of Instructional Programs (CIP) 2016 (43)'].isin(SelectedStudyFields_features)]"
   ]
  },
  {
   "cell_type": "markdown",
   "metadata": {},
   "source": [
    "3- Filter the age groups. "
   ]
  },
  {
   "cell_type": "code",
   "execution_count": 462,
   "metadata": {},
   "outputs": [],
   "source": [
    "Canada_data_final = Canada_data_final[Canada_data_final['Member ID: Age (9)'].isin(SelectedAgeGroups)]\n",
    "\n"
   ]
  },
  {
   "cell_type": "markdown",
   "metadata": {},
   "source": [
    "4- Filter sex with only Male or Female."
   ]
  },
  {
   "cell_type": "code",
   "execution_count": 463,
   "metadata": {},
   "outputs": [],
   "source": [
    "Canada_data_final = Canada_data_final[(Canada_data_final['Member ID: Sex (3)']==2) | (Canada_data_final['Member ID: Sex (3)']==3)]"
   ]
  },
  {
   "cell_type": "code",
   "execution_count": 464,
   "metadata": {},
   "outputs": [
    {
     "data": {
      "text/plain": [
       "array([2, 3], dtype=int64)"
      ]
     },
     "execution_count": 464,
     "metadata": {},
     "output_type": "execute_result"
    }
   ],
   "source": [
    "Canada_data_final['Member ID: Sex (3)'].unique()"
   ]
  },
  {
   "cell_type": "markdown",
   "metadata": {},
   "source": [
    "## Labour Force Outcome"
   ]
  },
  {
   "cell_type": "markdown",
   "metadata": {},
   "source": [
    "Labour Force Outcome is an elastic term that can be represented by several metrics. For our particular data, we have few variables that reflect(directly or implicitly) the status of the labour force outcome as following:\n",
    "\n",
    "1- In the labour force\n",
    "\n",
    "2- Not in the labour force \n",
    "\n",
    "3- Employment rate  \n",
    "\n",
    "4- Unemployment rate\n",
    "\n",
    "3- Employed\n",
    "\n",
    "4- Unemployed                                          \n",
    "                           \n",
    "5- Participation rate                                  \n"
   ]
  },
  {
   "cell_type": "code",
   "execution_count": 362,
   "metadata": {},
   "outputs": [
    {
     "data": {
      "text/html": [
       "<div>\n",
       "<style scoped>\n",
       "    .dataframe tbody tr th:only-of-type {\n",
       "        vertical-align: middle;\n",
       "    }\n",
       "\n",
       "    .dataframe tbody tr th {\n",
       "        vertical-align: top;\n",
       "    }\n",
       "\n",
       "    .dataframe thead th {\n",
       "        text-align: right;\n",
       "    }\n",
       "</style>\n",
       "<table border=\"1\" class=\"dataframe\">\n",
       "  <thead>\n",
       "    <tr style=\"text-align: right;\">\n",
       "      <th></th>\n",
       "      <th>Dim: Labour force status (8): Member ID: [1]: Total - Labour force status (Note: 7)</th>\n",
       "      <th>Dim: Labour force status (8): Member ID: [2]: In the labour force</th>\n",
       "      <th>Dim: Labour force status (8): Member ID: [3]: Employed</th>\n",
       "      <th>Dim: Labour force status (8): Member ID: [4]: Unemployed</th>\n",
       "      <th>Dim: Labour force status (8): Member ID: [5]: Not in the labour force</th>\n",
       "      <th>Dim: Labour force status (8): Member ID: [6]: Participation rate</th>\n",
       "      <th>Dim: Labour force status (8): Member ID: [7]: Employment rate</th>\n",
       "      <th>Dim: Labour force status (8): Member ID: [8]: Unemployment rate</th>\n",
       "    </tr>\n",
       "  </thead>\n",
       "  <tbody>\n",
       "    <tr>\n",
       "      <th>count</th>\n",
       "      <td>3280.000000</td>\n",
       "      <td>3280.000000</td>\n",
       "      <td>3280.000000</td>\n",
       "      <td>3280.000000</td>\n",
       "      <td>3280.000000</td>\n",
       "      <td>3280.000000</td>\n",
       "      <td>3280.000000</td>\n",
       "      <td>3280.000000</td>\n",
       "    </tr>\n",
       "    <tr>\n",
       "      <th>mean</th>\n",
       "      <td>14576.006098</td>\n",
       "      <td>12128.448171</td>\n",
       "      <td>11493.175305</td>\n",
       "      <td>635.292683</td>\n",
       "      <td>2447.551829</td>\n",
       "      <td>67.595305</td>\n",
       "      <td>63.140091</td>\n",
       "      <td>5.887988</td>\n",
       "    </tr>\n",
       "    <tr>\n",
       "      <th>std</th>\n",
       "      <td>44357.654732</td>\n",
       "      <td>38590.981210</td>\n",
       "      <td>36755.912660</td>\n",
       "      <td>1899.963978</td>\n",
       "      <td>8039.284738</td>\n",
       "      <td>32.002412</td>\n",
       "      <td>30.239070</td>\n",
       "      <td>5.404247</td>\n",
       "    </tr>\n",
       "    <tr>\n",
       "      <th>min</th>\n",
       "      <td>0.000000</td>\n",
       "      <td>0.000000</td>\n",
       "      <td>0.000000</td>\n",
       "      <td>0.000000</td>\n",
       "      <td>0.000000</td>\n",
       "      <td>0.000000</td>\n",
       "      <td>0.000000</td>\n",
       "      <td>0.000000</td>\n",
       "    </tr>\n",
       "    <tr>\n",
       "      <th>25%</th>\n",
       "      <td>300.000000</td>\n",
       "      <td>185.000000</td>\n",
       "      <td>170.000000</td>\n",
       "      <td>10.000000</td>\n",
       "      <td>60.000000</td>\n",
       "      <td>62.700000</td>\n",
       "      <td>56.675000</td>\n",
       "      <td>3.200000</td>\n",
       "    </tr>\n",
       "    <tr>\n",
       "      <th>50%</th>\n",
       "      <td>2247.500000</td>\n",
       "      <td>1540.000000</td>\n",
       "      <td>1440.000000</td>\n",
       "      <td>95.000000</td>\n",
       "      <td>385.000000</td>\n",
       "      <td>82.500000</td>\n",
       "      <td>76.100000</td>\n",
       "      <td>5.300000</td>\n",
       "    </tr>\n",
       "    <tr>\n",
       "      <th>75%</th>\n",
       "      <td>10043.750000</td>\n",
       "      <td>7955.000000</td>\n",
       "      <td>7422.500000</td>\n",
       "      <td>450.000000</td>\n",
       "      <td>1735.000000</td>\n",
       "      <td>89.400000</td>\n",
       "      <td>84.300000</td>\n",
       "      <td>7.300000</td>\n",
       "    </tr>\n",
       "    <tr>\n",
       "      <th>max</th>\n",
       "      <td>772045.000000</td>\n",
       "      <td>627705.000000</td>\n",
       "      <td>593050.000000</td>\n",
       "      <td>34655.000000</td>\n",
       "      <td>153605.000000</td>\n",
       "      <td>100.000000</td>\n",
       "      <td>100.000000</td>\n",
       "      <td>100.000000</td>\n",
       "    </tr>\n",
       "  </tbody>\n",
       "</table>\n",
       "</div>"
      ],
      "text/plain": [
       "       Dim: Labour force status (8): Member ID: [1]: Total - Labour force status (Note: 7)  \\\n",
       "count                                        3280.000000                                     \n",
       "mean                                        14576.006098                                     \n",
       "std                                         44357.654732                                     \n",
       "min                                             0.000000                                     \n",
       "25%                                           300.000000                                     \n",
       "50%                                          2247.500000                                     \n",
       "75%                                         10043.750000                                     \n",
       "max                                        772045.000000                                     \n",
       "\n",
       "       Dim: Labour force status (8): Member ID: [2]: In the labour force  \\\n",
       "count                                        3280.000000                   \n",
       "mean                                        12128.448171                   \n",
       "std                                         38590.981210                   \n",
       "min                                             0.000000                   \n",
       "25%                                           185.000000                   \n",
       "50%                                          1540.000000                   \n",
       "75%                                          7955.000000                   \n",
       "max                                        627705.000000                   \n",
       "\n",
       "       Dim: Labour force status (8): Member ID: [3]: Employed  \\\n",
       "count                                        3280.000000        \n",
       "mean                                        11493.175305        \n",
       "std                                         36755.912660        \n",
       "min                                             0.000000        \n",
       "25%                                           170.000000        \n",
       "50%                                          1440.000000        \n",
       "75%                                          7422.500000        \n",
       "max                                        593050.000000        \n",
       "\n",
       "       Dim: Labour force status (8): Member ID: [4]: Unemployed  \\\n",
       "count                                        3280.000000          \n",
       "mean                                          635.292683          \n",
       "std                                          1899.963978          \n",
       "min                                             0.000000          \n",
       "25%                                            10.000000          \n",
       "50%                                            95.000000          \n",
       "75%                                           450.000000          \n",
       "max                                         34655.000000          \n",
       "\n",
       "       Dim: Labour force status (8): Member ID: [5]: Not in the labour force  \\\n",
       "count                                        3280.000000                       \n",
       "mean                                         2447.551829                       \n",
       "std                                          8039.284738                       \n",
       "min                                             0.000000                       \n",
       "25%                                            60.000000                       \n",
       "50%                                           385.000000                       \n",
       "75%                                          1735.000000                       \n",
       "max                                        153605.000000                       \n",
       "\n",
       "       Dim: Labour force status (8): Member ID: [6]: Participation rate  \\\n",
       "count                                        3280.000000                  \n",
       "mean                                           67.595305                  \n",
       "std                                            32.002412                  \n",
       "min                                             0.000000                  \n",
       "25%                                            62.700000                  \n",
       "50%                                            82.500000                  \n",
       "75%                                            89.400000                  \n",
       "max                                           100.000000                  \n",
       "\n",
       "       Dim: Labour force status (8): Member ID: [7]: Employment rate  \\\n",
       "count                                        3280.000000               \n",
       "mean                                           63.140091               \n",
       "std                                            30.239070               \n",
       "min                                             0.000000               \n",
       "25%                                            56.675000               \n",
       "50%                                            76.100000               \n",
       "75%                                            84.300000               \n",
       "max                                           100.000000               \n",
       "\n",
       "       Dim: Labour force status (8): Member ID: [8]: Unemployment rate  \n",
       "count                                        3280.000000                \n",
       "mean                                            5.887988                \n",
       "std                                             5.404247                \n",
       "min                                             0.000000                \n",
       "25%                                             3.200000                \n",
       "50%                                             5.300000                \n",
       "75%                                             7.300000                \n",
       "max                                           100.000000                "
      ]
     },
     "execution_count": 362,
     "metadata": {},
     "output_type": "execute_result"
    }
   ],
   "source": [
    "LaborData = Canada_data_final[LabourFeatures]\n",
    "LaborData.describe()"
   ]
  },
  {
   "cell_type": "markdown",
   "metadata": {},
   "source": [
    "### How strong these labour features are correlated with each other?"
   ]
  },
  {
   "cell_type": "code",
   "execution_count": 367,
   "metadata": {},
   "outputs": [],
   "source": [
    "LaborForce_corr= LaborData[['Dim: Labour force status (8): Member ID: [1]: Total - Labour force status (Note: 7)','Dim: Labour force status (8): Member ID: [2]: In the labour force','Dim: Labour force status (8): Member ID: [3]: Employed','Dim: Labour force status (8): Member ID: [4]: Unemployed','Dim: Labour force status (8): Member ID: [5]: Not in the labour force']].corr()"
   ]
  },
  {
   "cell_type": "code",
   "execution_count": 368,
   "metadata": {},
   "outputs": [
    {
     "data": {
      "image/png": "[encoded data removed]",
      "text/plain": [
       "<Figure size 1296x1296 with 2 Axes>"
      ]
     },
     "metadata": {
      "needs_background": "light"
     },
     "output_type": "display_data"
    }
   ],
   "source": [
    "plt.figure(figsize=(18, 18))\n",
    "sns.heatmap(LaborForce_corr, cmap='viridis', vmax=1.0, vmin=-1.0, linewidths=0.1, annot=True, annot_kws={\"size\": 8}, square=True);"
   ]
  },
  {
   "cell_type": "markdown",
   "metadata": {},
   "source": [
    "### Which labour-related features that impact the total labour force status the most \" stronger correlation values\"?"
   ]
  },
  {
   "cell_type": "code",
   "execution_count": 369,
   "metadata": {},
   "outputs": [
    {
     "data": {
      "text/plain": [
       "Dim: Labour force status (8): Member ID: [1]: Total - Labour force status (Note: 7)    1.000000\n",
       "Dim: Labour force status (8): Member ID: [2]: In the labour force                      0.990836\n",
       "Dim: Labour force status (8): Member ID: [3]: Employed                                 0.990641\n",
       "Dim: Labour force status (8): Member ID: [4]: Unemployed                               0.960767\n",
       "Dim: Labour force status (8): Member ID: [5]: Not in the labour force                  0.761298\n",
       "Name: Dim: Labour force status (8): Member ID: [1]: Total - Labour force status (Note: 7), dtype: float64"
      ]
     },
     "execution_count": 369,
     "metadata": {},
     "output_type": "execute_result"
    }
   ],
   "source": [
    "LaborForce_corr['Dim: Labour force status (8): Member ID: [1]: Total - Labour force status (Note: 7)'][abs(LaborForce_corr['Dim: Labour force status (8): Member ID: [1]: Total - Labour force status (Note: 7)']) > 0.5]"
   ]
  },
  {
   "cell_type": "markdown",
   "metadata": {},
   "source": [
    "Thus, the labour force status is highly correlated to those features that represent the individuals who are employed, unemployed, or actively looking for a job. "
   ]
  },
  {
   "cell_type": "markdown",
   "metadata": {},
   "source": [
    "### Let's check the distribution of the employment rate for Canadian graduates at the given year without considering any other factors."
   ]
  },
  {
   "cell_type": "code",
   "execution_count": 192,
   "metadata": {},
   "outputs": [
    {
     "name": "stdout",
     "output_type": "stream",
     "text": [
      "Average: 71.708780\n"
     ]
    },
    {
     "data": {
      "image/png": "[encoded data removed]",
      "text/plain": [
       "<Figure size 432x288 with 1 Axes>"
      ]
     },
     "metadata": {
      "needs_background": "light"
     },
     "output_type": "display_data"
    }
   ],
   "source": [
    "from scipy import stats\n",
    "sns.distplot(Canada_data_final['Dim: Labour force status (8): Member ID: [7]: Employment rate']);\n",
    "#skewness and kurtosis\n",
    "print(\"Average: %f\" % Canada_data_final['Dim: Labour force status (8): Member ID: [7]: Employment rate'].mean())"
   ]
  },
  {
   "cell_type": "markdown",
   "metadata": {},
   "source": [
    "As we see in the plot, we have the larger portion of our samples are concentrated around %72 of the employment rate among the Canadian graduates from a collage or university. However, we can't ignore that there are some outliers reflecting some degree of unemployment. Let's check it out."
   ]
  },
  {
   "cell_type": "markdown",
   "metadata": {},
   "source": [
    "### First, does having a degree (after finishing the high school) affect the labour force outcome?"
   ]
  },
  {
   "cell_type": "code",
   "execution_count": 479,
   "metadata": {},
   "outputs": [],
   "source": [
    "DF3 = Canada_data_final[['Dim: Labour force status (8): Member ID: [7]: Employment rate','DIM: Highest certificate, diploma or degree (11)','DIM: Sex (3)']]\n"
   ]
  },
  {
   "cell_type": "code",
   "execution_count": 480,
   "metadata": {},
   "outputs": [],
   "source": [
    "DF3.columns=['Employment rate','Highest degree','Sex']"
   ]
  },
  {
   "cell_type": "code",
   "execution_count": 481,
   "metadata": {},
   "outputs": [],
   "source": [
    "Employment_Sex_Degree = pd.pivot_table(DF3,index=['Highest degree'],values= 'Employment rate',columns= 'Sex', aggfunc=np.mean)"
   ]
  },
  {
   "cell_type": "markdown",
   "metadata": {},
   "source": [
    "#### The following table shows the average employment rate for males/females according to their highest degree."
   ]
  },
  {
   "cell_type": "code",
   "execution_count": 482,
   "metadata": {},
   "outputs": [
    {
     "data": {
      "text/html": [
       "<div>\n",
       "<style scoped>\n",
       "    .dataframe tbody tr th:only-of-type {\n",
       "        vertical-align: middle;\n",
       "    }\n",
       "\n",
       "    .dataframe tbody tr th {\n",
       "        vertical-align: top;\n",
       "    }\n",
       "\n",
       "    .dataframe thead th {\n",
       "        text-align: right;\n",
       "    }\n",
       "</style>\n",
       "<table border=\"1\" class=\"dataframe\">\n",
       "  <thead>\n",
       "    <tr style=\"text-align: right;\">\n",
       "      <th>Sex</th>\n",
       "      <th>Female</th>\n",
       "      <th>Male</th>\n",
       "    </tr>\n",
       "    <tr>\n",
       "      <th>Highest degree</th>\n",
       "      <th></th>\n",
       "      <th></th>\n",
       "    </tr>\n",
       "  </thead>\n",
       "  <tbody>\n",
       "    <tr>\n",
       "      <th>Bachelor's degree</th>\n",
       "      <td>57.612805</td>\n",
       "      <td>66.014634</td>\n",
       "    </tr>\n",
       "    <tr>\n",
       "      <th>College, CEGEP or other non-university certificate or diploma</th>\n",
       "      <td>62.540854</td>\n",
       "      <td>69.439939</td>\n",
       "    </tr>\n",
       "    <tr>\n",
       "      <th>Secondary (high) school diploma or equivalency certificate</th>\n",
       "      <td>0.000000</td>\n",
       "      <td>0.000000</td>\n",
       "    </tr>\n",
       "    <tr>\n",
       "      <th>University certificate or diploma below bachelor level</th>\n",
       "      <td>54.696951</td>\n",
       "      <td>61.413415</td>\n",
       "    </tr>\n",
       "    <tr>\n",
       "      <th>University certificate, diploma or degree above bachelor level</th>\n",
       "      <td>62.512805</td>\n",
       "      <td>65.898476</td>\n",
       "    </tr>\n",
       "    <tr>\n",
       "      <th>University certificate, diploma or degree at bachelor level or above</th>\n",
       "      <td>62.000610</td>\n",
       "      <td>69.270427</td>\n",
       "    </tr>\n",
       "  </tbody>\n",
       "</table>\n",
       "</div>"
      ],
      "text/plain": [
       "Sex                                                    Female       Male\n",
       "Highest degree                                                          \n",
       "Bachelor's degree                                   57.612805  66.014634\n",
       "College, CEGEP or other non-university certific...  62.540854  69.439939\n",
       "Secondary (high) school diploma or equivalency ...   0.000000   0.000000\n",
       "University certificate or diploma below bachelo...  54.696951  61.413415\n",
       "University certificate, diploma or degree above...  62.512805  65.898476\n",
       "University certificate, diploma or degree at ba...  62.000610  69.270427"
      ]
     },
     "execution_count": 482,
     "metadata": {},
     "output_type": "execute_result"
    }
   ],
   "source": [
    "Employment_Sex_Degree"
   ]
  },
  {
   "cell_type": "code",
   "execution_count": 483,
   "metadata": {},
   "outputs": [
    {
     "data": {
      "text/plain": [
       "<matplotlib.axes._subplots.AxesSubplot at 0x1f01d61acf8>"
      ]
     },
     "execution_count": 483,
     "metadata": {},
     "output_type": "execute_result"
    },
    {
     "data": {
      "image/png": "[encoded data removed]",
      "text/plain": [
       "<Figure size 432x288 with 1 Axes>"
      ]
     },
     "metadata": {
      "needs_background": "light"
     },
     "output_type": "display_data"
    }
   ],
   "source": [
    "Employment_Sex_Degree.plot(kind='barh')"
   ]
  },
  {
   "cell_type": "markdown",
   "metadata": {},
   "source": [
    "### Is there particular fields of study that contribute much stronger in the employment patterns than other fields?"
   ]
  },
  {
   "cell_type": "code",
   "execution_count": 384,
   "metadata": {},
   "outputs": [],
   "source": [
    "DF1 = Canada_data_final[['DIM: Major field of study - Classification of Instructional Programs (CIP) 2016 (43)','Dim: Labour force status (8): Member ID: [7]: Employment rate']]\n",
    "DF1.columns=['Field of Study', 'Average Employment Rate']"
   ]
  },
  {
   "cell_type": "code",
   "execution_count": 385,
   "metadata": {},
   "outputs": [],
   "source": [
    "AvgEmplymentRate_field = pd.pivot_table(DF1, values= 'Average Employment Rate', index=['Field of Study'], aggfunc=np.mean)"
   ]
  },
  {
   "cell_type": "code",
   "execution_count": 388,
   "metadata": {},
   "outputs": [
    {
     "data": {
      "text/html": [
       "<div>\n",
       "<style scoped>\n",
       "    .dataframe tbody tr th:only-of-type {\n",
       "        vertical-align: middle;\n",
       "    }\n",
       "\n",
       "    .dataframe tbody tr th {\n",
       "        vertical-align: top;\n",
       "    }\n",
       "\n",
       "    .dataframe thead th {\n",
       "        text-align: right;\n",
       "    }\n",
       "</style>\n",
       "<table border=\"1\" class=\"dataframe\">\n",
       "  <thead>\n",
       "    <tr style=\"text-align: right;\">\n",
       "      <th></th>\n",
       "      <th>Average Employment Rate</th>\n",
       "    </tr>\n",
       "    <tr>\n",
       "      <th>Field of Study</th>\n",
       "      <th></th>\n",
       "    </tr>\n",
       "  </thead>\n",
       "  <tbody>\n",
       "    <tr>\n",
       "      <th>46. Construction trades</th>\n",
       "      <td>13.76125</td>\n",
       "    </tr>\n",
       "    <tr>\n",
       "      <th>47. Mechanic and repair technologies/technicians</th>\n",
       "      <td>14.49125</td>\n",
       "    </tr>\n",
       "    <tr>\n",
       "      <th>12. Personal and culinary services</th>\n",
       "      <td>18.88000</td>\n",
       "    </tr>\n",
       "    <tr>\n",
       "      <th>60. Dental, medical and veterinary residency programs</th>\n",
       "      <td>30.34500</td>\n",
       "    </tr>\n",
       "    <tr>\n",
       "      <th>15. Engineering technologies and engineering-related fields</th>\n",
       "      <td>33.55000</td>\n",
       "    </tr>\n",
       "    <tr>\n",
       "      <th>29. Military technologies and applied sciences</th>\n",
       "      <td>41.05500</td>\n",
       "    </tr>\n",
       "    <tr>\n",
       "      <th>14. Engineering</th>\n",
       "      <td>57.14875</td>\n",
       "    </tr>\n",
       "    <tr>\n",
       "      <th>28. Military science, leadership and operational art</th>\n",
       "      <td>59.90250</td>\n",
       "    </tr>\n",
       "    <tr>\n",
       "      <th>48. Precision production</th>\n",
       "      <td>62.39875</td>\n",
       "    </tr>\n",
       "    <tr>\n",
       "      <th>41. Science technologies/technicians</th>\n",
       "      <td>62.86375</td>\n",
       "    </tr>\n",
       "    <tr>\n",
       "      <th>27. Mathematics and statistics</th>\n",
       "      <td>65.62875</td>\n",
       "    </tr>\n",
       "    <tr>\n",
       "      <th>25. Library science</th>\n",
       "      <td>66.70625</td>\n",
       "    </tr>\n",
       "    <tr>\n",
       "      <th>16. Aboriginal and foreign languages, literatures and linguistics</th>\n",
       "      <td>66.71375</td>\n",
       "    </tr>\n",
       "    <tr>\n",
       "      <th>40. Physical sciences</th>\n",
       "      <td>66.93500</td>\n",
       "    </tr>\n",
       "    <tr>\n",
       "      <th>23. English language and literature/letters</th>\n",
       "      <td>67.01750</td>\n",
       "    </tr>\n",
       "    <tr>\n",
       "      <th>38. Philosophy and religious studies</th>\n",
       "      <td>67.26250</td>\n",
       "    </tr>\n",
       "    <tr>\n",
       "      <th>24. Liberal arts and sciences, general studies and humanities</th>\n",
       "      <td>68.11500</td>\n",
       "    </tr>\n",
       "    <tr>\n",
       "      <th>05. Area, ethnic, cultural, gender, and group studies</th>\n",
       "      <td>68.11875</td>\n",
       "    </tr>\n",
       "    <tr>\n",
       "      <th>30. Multidisciplinary/interdisciplinary studies</th>\n",
       "      <td>68.41125</td>\n",
       "    </tr>\n",
       "    <tr>\n",
       "      <th>55. French language and literature/letters</th>\n",
       "      <td>68.48375</td>\n",
       "    </tr>\n",
       "    <tr>\n",
       "      <th>54. History</th>\n",
       "      <td>68.87000</td>\n",
       "    </tr>\n",
       "    <tr>\n",
       "      <th>49. Transportation and materials moving</th>\n",
       "      <td>68.91750</td>\n",
       "    </tr>\n",
       "    <tr>\n",
       "      <th>26. Biological and biomedical sciences</th>\n",
       "      <td>69.41250</td>\n",
       "    </tr>\n",
       "    <tr>\n",
       "      <th>10. Communications technologies/technicians and support services</th>\n",
       "      <td>70.74750</td>\n",
       "    </tr>\n",
       "    <tr>\n",
       "      <th>39. Theology and religious vocations</th>\n",
       "      <td>70.90375</td>\n",
       "    </tr>\n",
       "    <tr>\n",
       "      <th>45. Social sciences</th>\n",
       "      <td>71.02250</td>\n",
       "    </tr>\n",
       "    <tr>\n",
       "      <th>42. Psychology</th>\n",
       "      <td>71.05750</td>\n",
       "    </tr>\n",
       "    <tr>\n",
       "      <th>11. Computer and information sciences and support services</th>\n",
       "      <td>71.09250</td>\n",
       "    </tr>\n",
       "    <tr>\n",
       "      <th>50. Visual and performing arts</th>\n",
       "      <td>72.28875</td>\n",
       "    </tr>\n",
       "    <tr>\n",
       "      <th>19. Family and consumer sciences/human sciences</th>\n",
       "      <td>72.40625</td>\n",
       "    </tr>\n",
       "    <tr>\n",
       "      <th>04. Architecture and related services</th>\n",
       "      <td>73.18625</td>\n",
       "    </tr>\n",
       "    <tr>\n",
       "      <th>22. Legal professions and studies</th>\n",
       "      <td>73.20000</td>\n",
       "    </tr>\n",
       "    <tr>\n",
       "      <th>03. Natural resources and conservation</th>\n",
       "      <td>73.20875</td>\n",
       "    </tr>\n",
       "    <tr>\n",
       "      <th>51. Health professions and related programs</th>\n",
       "      <td>73.28500</td>\n",
       "    </tr>\n",
       "    <tr>\n",
       "      <th>44. Public administration and social service professions</th>\n",
       "      <td>73.46625</td>\n",
       "    </tr>\n",
       "    <tr>\n",
       "      <th>31. Parks, recreation, leisure and fitness studies</th>\n",
       "      <td>73.76875</td>\n",
       "    </tr>\n",
       "    <tr>\n",
       "      <th>13. Education</th>\n",
       "      <td>73.90875</td>\n",
       "    </tr>\n",
       "    <tr>\n",
       "      <th>52. Business, management, marketing and related support services</th>\n",
       "      <td>74.07500</td>\n",
       "    </tr>\n",
       "    <tr>\n",
       "      <th>09. Communication, journalism and related programs</th>\n",
       "      <td>74.41000</td>\n",
       "    </tr>\n",
       "    <tr>\n",
       "      <th>01. Agriculture, agriculture operations and related sciences</th>\n",
       "      <td>75.66125</td>\n",
       "    </tr>\n",
       "    <tr>\n",
       "      <th>43. Security and protective services</th>\n",
       "      <td>76.06625</td>\n",
       "    </tr>\n",
       "  </tbody>\n",
       "</table>\n",
       "</div>"
      ],
      "text/plain": [
       "                                                    Average Employment Rate\n",
       "Field of Study                                                             \n",
       "46. Construction trades                                            13.76125\n",
       "47. Mechanic and repair technologies/technicians                   14.49125\n",
       "12. Personal and culinary services                                 18.88000\n",
       "60. Dental, medical and veterinary residency pr...                 30.34500\n",
       "15. Engineering technologies and engineering-re...                 33.55000\n",
       "29. Military technologies and applied sciences                     41.05500\n",
       "14. Engineering                                                    57.14875\n",
       "28. Military science, leadership and operationa...                 59.90250\n",
       "48. Precision production                                           62.39875\n",
       "41. Science technologies/technicians                               62.86375\n",
       "27. Mathematics and statistics                                     65.62875\n",
       "25. Library science                                                66.70625\n",
       "16. Aboriginal and foreign languages, literatur...                 66.71375\n",
       "40. Physical sciences                                              66.93500\n",
       "23. English language and literature/letters                        67.01750\n",
       "38. Philosophy and religious studies                               67.26250\n",
       "24. Liberal arts and sciences, general studies ...                 68.11500\n",
       "05. Area, ethnic, cultural, gender, and group s...                 68.11875\n",
       "30. Multidisciplinary/interdisciplinary studies                    68.41125\n",
       "55. French language and literature/letters                         68.48375\n",
       "54. History                                                        68.87000\n",
       "49. Transportation and materials moving                            68.91750\n",
       "26. Biological and biomedical sciences                             69.41250\n",
       "10. Communications technologies/technicians and...                 70.74750\n",
       "39. Theology and religious vocations                               70.90375\n",
       "45. Social sciences                                                71.02250\n",
       "42. Psychology                                                     71.05750\n",
       "11. Computer and information sciences and suppo...                 71.09250\n",
       "50. Visual and performing arts                                     72.28875\n",
       "19. Family and consumer sciences/human sciences                    72.40625\n",
       "04. Architecture and related services                              73.18625\n",
       "22. Legal professions and studies                                  73.20000\n",
       "03. Natural resources and conservation                             73.20875\n",
       "51. Health professions and related programs                        73.28500\n",
       "44. Public administration and social service pr...                 73.46625\n",
       "31. Parks, recreation, leisure and fitness studies                 73.76875\n",
       "13. Education                                                      73.90875\n",
       "52. Business, management, marketing and related...                 74.07500\n",
       "09. Communication, journalism and related programs                 74.41000\n",
       "01. Agriculture, agriculture operations and rel...                 75.66125\n",
       "43. Security and protective services                               76.06625"
      ]
     },
     "execution_count": 388,
     "metadata": {},
     "output_type": "execute_result"
    }
   ],
   "source": [
    "AvgEmplymentRate_field.sort_values('Average Employment Rate')"
   ]
  },
  {
   "cell_type": "code",
   "execution_count": 437,
   "metadata": {},
   "outputs": [
    {
     "data": {
      "text/plain": [
       "<matplotlib.axes._subplots.AxesSubplot at 0x1f00c7226d8>"
      ]
     },
     "execution_count": 437,
     "metadata": {},
     "output_type": "execute_result"
    },
    {
     "data": {
      "image/png": "[encoded data removed]",
      "text/plain": [
       "<Figure size 432x288 with 1 Axes>"
      ]
     },
     "metadata": {
      "needs_background": "light"
     },
     "output_type": "display_data"
    }
   ],
   "source": [
    "AvgEmplymentRate_field.plot(kind = 'bar')"
   ]
  },
  {
   "cell_type": "markdown",
   "metadata": {},
   "source": [
    "It looks like that we have some disparities of the employment rate for the different fields of study. "
   ]
  },
  {
   "cell_type": "markdown",
   "metadata": {},
   "source": [
    "### What is the impact of the gender differences on the rate of employment/unemployment for Canadian graduates (regardless the geographical areas) ?"
   ]
  },
  {
   "cell_type": "code",
   "execution_count": 446,
   "metadata": {},
   "outputs": [
    {
     "name": "stdout",
     "output_type": "stream",
     "text": [
      "Average employment rate for women who have graduated from a collage or university is: 59.872805\n",
      "Average employment rate for men who have graduated from a collage or university is: 66.407378\n"
     ]
    }
   ],
   "source": [
    "print(\"Average employment rate for women who have graduated from a collage or university is: %f\" % Canada_data_final[Canada_data_final['DIM: Sex (3)']=='Female']['Dim: Labour force status (8): Member ID: [7]: Employment rate'].mean())\n",
    "print(\"Average employment rate for men who have graduated from a collage or university is: %f\" % Canada_data_final[Canada_data_final['DIM: Sex (3)']=='Male']['Dim: Labour force status (8): Member ID: [7]: Employment rate'].mean())"
   ]
  },
  {
   "cell_type": "code",
   "execution_count": 450,
   "metadata": {},
   "outputs": [
    {
     "data": {
      "text/plain": [
       "<matplotlib.axes._subplots.AxesSubplot at 0x1f0035cbe48>"
      ]
     },
     "execution_count": 450,
     "metadata": {},
     "output_type": "execute_result"
    },
    {
     "data": {
      "image/png": "[encoded data removed]",
      "text/plain": [
       "<Figure size 432x288 with 1 Axes>"
      ]
     },
     "metadata": {
      "needs_background": "light"
     },
     "output_type": "display_data"
    }
   ],
   "source": [
    "sns.boxplot(y=Canada_data_final['Dim: Labour force status (8): Member ID: [7]: Employment rate'], x= Canada_data_final['DIM: Sex (3)'],showmeans=True)\n"
   ]
  },
  {
   "cell_type": "markdown",
   "metadata": {},
   "source": [
    "### Are the gender differences impact the formation of a field of study choice set?"
   ]
  },
  {
   "cell_type": "code",
   "execution_count": 443,
   "metadata": {},
   "outputs": [],
   "source": [
    "DF2= Canada_data_final[['DIM: Major field of study - Classification of Instructional Programs (CIP) 2016 (43)','DIM: Sex (3)']]"
   ]
  },
  {
   "cell_type": "code",
   "execution_count": 444,
   "metadata": {},
   "outputs": [],
   "source": [
    "DF2.columns= ['Field of Study','Sex']"
   ]
  },
  {
   "cell_type": "code",
   "execution_count": 445,
   "metadata": {},
   "outputs": [
    {
     "data": {
      "text/html": [
       "<div>\n",
       "<style scoped>\n",
       "    .dataframe tbody tr th:only-of-type {\n",
       "        vertical-align: middle;\n",
       "    }\n",
       "\n",
       "    .dataframe tbody tr th {\n",
       "        vertical-align: top;\n",
       "    }\n",
       "\n",
       "    .dataframe thead th {\n",
       "        text-align: right;\n",
       "    }\n",
       "</style>\n",
       "<table border=\"1\" class=\"dataframe\">\n",
       "  <thead>\n",
       "    <tr style=\"text-align: right;\">\n",
       "      <th>Sex</th>\n",
       "      <th>Field of Study</th>\n",
       "      <th>Female</th>\n",
       "      <th>Male</th>\n",
       "    </tr>\n",
       "  </thead>\n",
       "  <tbody>\n",
       "    <tr>\n",
       "      <th>0</th>\n",
       "      <td>01. Agriculture, agriculture operations and re...</td>\n",
       "      <td>80</td>\n",
       "      <td>80</td>\n",
       "    </tr>\n",
       "    <tr>\n",
       "      <th>1</th>\n",
       "      <td>03. Natural resources and conservation</td>\n",
       "      <td>80</td>\n",
       "      <td>80</td>\n",
       "    </tr>\n",
       "    <tr>\n",
       "      <th>2</th>\n",
       "      <td>04. Architecture and related services</td>\n",
       "      <td>80</td>\n",
       "      <td>80</td>\n",
       "    </tr>\n",
       "    <tr>\n",
       "      <th>3</th>\n",
       "      <td>05. Area, ethnic, cultural, gender, and group ...</td>\n",
       "      <td>80</td>\n",
       "      <td>80</td>\n",
       "    </tr>\n",
       "    <tr>\n",
       "      <th>4</th>\n",
       "      <td>09. Communication, journalism and related prog...</td>\n",
       "      <td>80</td>\n",
       "      <td>80</td>\n",
       "    </tr>\n",
       "    <tr>\n",
       "      <th>5</th>\n",
       "      <td>10. Communications technologies/technicians an...</td>\n",
       "      <td>80</td>\n",
       "      <td>80</td>\n",
       "    </tr>\n",
       "    <tr>\n",
       "      <th>6</th>\n",
       "      <td>11. Computer and information sciences and supp...</td>\n",
       "      <td>80</td>\n",
       "      <td>80</td>\n",
       "    </tr>\n",
       "    <tr>\n",
       "      <th>7</th>\n",
       "      <td>12. Personal and culinary services</td>\n",
       "      <td>80</td>\n",
       "      <td>80</td>\n",
       "    </tr>\n",
       "    <tr>\n",
       "      <th>8</th>\n",
       "      <td>13. Education</td>\n",
       "      <td>80</td>\n",
       "      <td>80</td>\n",
       "    </tr>\n",
       "    <tr>\n",
       "      <th>9</th>\n",
       "      <td>14. Engineering</td>\n",
       "      <td>80</td>\n",
       "      <td>80</td>\n",
       "    </tr>\n",
       "    <tr>\n",
       "      <th>10</th>\n",
       "      <td>15. Engineering technologies and engineering-r...</td>\n",
       "      <td>80</td>\n",
       "      <td>80</td>\n",
       "    </tr>\n",
       "    <tr>\n",
       "      <th>11</th>\n",
       "      <td>16. Aboriginal and foreign languages, literatu...</td>\n",
       "      <td>80</td>\n",
       "      <td>80</td>\n",
       "    </tr>\n",
       "    <tr>\n",
       "      <th>12</th>\n",
       "      <td>19. Family and consumer sciences/human sciences</td>\n",
       "      <td>80</td>\n",
       "      <td>80</td>\n",
       "    </tr>\n",
       "    <tr>\n",
       "      <th>13</th>\n",
       "      <td>22. Legal professions and studies</td>\n",
       "      <td>80</td>\n",
       "      <td>80</td>\n",
       "    </tr>\n",
       "    <tr>\n",
       "      <th>14</th>\n",
       "      <td>23. English language and literature/letters</td>\n",
       "      <td>80</td>\n",
       "      <td>80</td>\n",
       "    </tr>\n",
       "    <tr>\n",
       "      <th>15</th>\n",
       "      <td>24. Liberal arts and sciences, general studies...</td>\n",
       "      <td>80</td>\n",
       "      <td>80</td>\n",
       "    </tr>\n",
       "    <tr>\n",
       "      <th>16</th>\n",
       "      <td>25. Library science</td>\n",
       "      <td>80</td>\n",
       "      <td>80</td>\n",
       "    </tr>\n",
       "    <tr>\n",
       "      <th>17</th>\n",
       "      <td>26. Biological and biomedical sciences</td>\n",
       "      <td>80</td>\n",
       "      <td>80</td>\n",
       "    </tr>\n",
       "    <tr>\n",
       "      <th>18</th>\n",
       "      <td>27. Mathematics and statistics</td>\n",
       "      <td>80</td>\n",
       "      <td>80</td>\n",
       "    </tr>\n",
       "    <tr>\n",
       "      <th>19</th>\n",
       "      <td>28. Military science, leadership and operation...</td>\n",
       "      <td>80</td>\n",
       "      <td>80</td>\n",
       "    </tr>\n",
       "    <tr>\n",
       "      <th>20</th>\n",
       "      <td>29. Military technologies and applied sciences</td>\n",
       "      <td>80</td>\n",
       "      <td>80</td>\n",
       "    </tr>\n",
       "    <tr>\n",
       "      <th>21</th>\n",
       "      <td>30. Multidisciplinary/interdisciplinary studies</td>\n",
       "      <td>80</td>\n",
       "      <td>80</td>\n",
       "    </tr>\n",
       "    <tr>\n",
       "      <th>22</th>\n",
       "      <td>31. Parks, recreation, leisure and fitness stu...</td>\n",
       "      <td>80</td>\n",
       "      <td>80</td>\n",
       "    </tr>\n",
       "    <tr>\n",
       "      <th>23</th>\n",
       "      <td>38. Philosophy and religious studies</td>\n",
       "      <td>80</td>\n",
       "      <td>80</td>\n",
       "    </tr>\n",
       "    <tr>\n",
       "      <th>24</th>\n",
       "      <td>39. Theology and religious vocations</td>\n",
       "      <td>80</td>\n",
       "      <td>80</td>\n",
       "    </tr>\n",
       "    <tr>\n",
       "      <th>25</th>\n",
       "      <td>40. Physical sciences</td>\n",
       "      <td>80</td>\n",
       "      <td>80</td>\n",
       "    </tr>\n",
       "    <tr>\n",
       "      <th>26</th>\n",
       "      <td>41. Science technologies/technicians</td>\n",
       "      <td>80</td>\n",
       "      <td>80</td>\n",
       "    </tr>\n",
       "    <tr>\n",
       "      <th>27</th>\n",
       "      <td>42. Psychology</td>\n",
       "      <td>80</td>\n",
       "      <td>80</td>\n",
       "    </tr>\n",
       "    <tr>\n",
       "      <th>28</th>\n",
       "      <td>43. Security and protective services</td>\n",
       "      <td>80</td>\n",
       "      <td>80</td>\n",
       "    </tr>\n",
       "    <tr>\n",
       "      <th>29</th>\n",
       "      <td>44. Public administration and social service p...</td>\n",
       "      <td>80</td>\n",
       "      <td>80</td>\n",
       "    </tr>\n",
       "    <tr>\n",
       "      <th>30</th>\n",
       "      <td>45. Social sciences</td>\n",
       "      <td>80</td>\n",
       "      <td>80</td>\n",
       "    </tr>\n",
       "    <tr>\n",
       "      <th>31</th>\n",
       "      <td>46. Construction trades</td>\n",
       "      <td>80</td>\n",
       "      <td>80</td>\n",
       "    </tr>\n",
       "    <tr>\n",
       "      <th>32</th>\n",
       "      <td>47. Mechanic and repair technologies/technicians</td>\n",
       "      <td>80</td>\n",
       "      <td>80</td>\n",
       "    </tr>\n",
       "    <tr>\n",
       "      <th>33</th>\n",
       "      <td>48. Precision production</td>\n",
       "      <td>80</td>\n",
       "      <td>80</td>\n",
       "    </tr>\n",
       "    <tr>\n",
       "      <th>34</th>\n",
       "      <td>49. Transportation and materials moving</td>\n",
       "      <td>80</td>\n",
       "      <td>80</td>\n",
       "    </tr>\n",
       "    <tr>\n",
       "      <th>35</th>\n",
       "      <td>50. Visual and performing arts</td>\n",
       "      <td>80</td>\n",
       "      <td>80</td>\n",
       "    </tr>\n",
       "    <tr>\n",
       "      <th>36</th>\n",
       "      <td>51. Health professions and related programs</td>\n",
       "      <td>80</td>\n",
       "      <td>80</td>\n",
       "    </tr>\n",
       "    <tr>\n",
       "      <th>37</th>\n",
       "      <td>52. Business, management, marketing and relate...</td>\n",
       "      <td>80</td>\n",
       "      <td>80</td>\n",
       "    </tr>\n",
       "    <tr>\n",
       "      <th>38</th>\n",
       "      <td>54. History</td>\n",
       "      <td>80</td>\n",
       "      <td>80</td>\n",
       "    </tr>\n",
       "    <tr>\n",
       "      <th>39</th>\n",
       "      <td>55. French language and literature/letters</td>\n",
       "      <td>80</td>\n",
       "      <td>80</td>\n",
       "    </tr>\n",
       "    <tr>\n",
       "      <th>40</th>\n",
       "      <td>60. Dental, medical and veterinary residency p...</td>\n",
       "      <td>80</td>\n",
       "      <td>80</td>\n",
       "    </tr>\n",
       "  </tbody>\n",
       "</table>\n",
       "</div>"
      ],
      "text/plain": [
       "Sex                                     Field of Study  Female  Male\n",
       "0    01. Agriculture, agriculture operations and re...      80    80\n",
       "1               03. Natural resources and conservation      80    80\n",
       "2                04. Architecture and related services      80    80\n",
       "3    05. Area, ethnic, cultural, gender, and group ...      80    80\n",
       "4    09. Communication, journalism and related prog...      80    80\n",
       "5    10. Communications technologies/technicians an...      80    80\n",
       "6    11. Computer and information sciences and supp...      80    80\n",
       "7                   12. Personal and culinary services      80    80\n",
       "8                                        13. Education      80    80\n",
       "9                                      14. Engineering      80    80\n",
       "10   15. Engineering technologies and engineering-r...      80    80\n",
       "11   16. Aboriginal and foreign languages, literatu...      80    80\n",
       "12     19. Family and consumer sciences/human sciences      80    80\n",
       "13                   22. Legal professions and studies      80    80\n",
       "14         23. English language and literature/letters      80    80\n",
       "15   24. Liberal arts and sciences, general studies...      80    80\n",
       "16                                 25. Library science      80    80\n",
       "17              26. Biological and biomedical sciences      80    80\n",
       "18                      27. Mathematics and statistics      80    80\n",
       "19   28. Military science, leadership and operation...      80    80\n",
       "20      29. Military technologies and applied sciences      80    80\n",
       "21     30. Multidisciplinary/interdisciplinary studies      80    80\n",
       "22   31. Parks, recreation, leisure and fitness stu...      80    80\n",
       "23                38. Philosophy and religious studies      80    80\n",
       "24                39. Theology and religious vocations      80    80\n",
       "25                               40. Physical sciences      80    80\n",
       "26                41. Science technologies/technicians      80    80\n",
       "27                                      42. Psychology      80    80\n",
       "28                43. Security and protective services      80    80\n",
       "29   44. Public administration and social service p...      80    80\n",
       "30                                 45. Social sciences      80    80\n",
       "31                             46. Construction trades      80    80\n",
       "32    47. Mechanic and repair technologies/technicians      80    80\n",
       "33                            48. Precision production      80    80\n",
       "34             49. Transportation and materials moving      80    80\n",
       "35                      50. Visual and performing arts      80    80\n",
       "36         51. Health professions and related programs      80    80\n",
       "37   52. Business, management, marketing and relate...      80    80\n",
       "38                                         54. History      80    80\n",
       "39          55. French language and literature/letters      80    80\n",
       "40   60. Dental, medical and veterinary residency p...      80    80"
      ]
     },
     "execution_count": 445,
     "metadata": {},
     "output_type": "execute_result"
    }
   ],
   "source": [
    "DF2.pivot_table(index = ['Field of Study'],columns='Sex',aggfunc=np.count_nonzero).reset_index()"
   ]
  },
  {
   "cell_type": "markdown",
   "metadata": {},
   "source": [
    "So, it is clear that this data reflects equal opportunities of participation among men and women. That's can be explained that this data was collected to answer a question (e.g., impact of field of study on the labour force outcome) with uniform participation from both groups of the gender!"
   ]
  },
  {
   "cell_type": "markdown",
   "metadata": {},
   "source": [
    "### Within major fields of study are there different employment rates for men/women?"
   ]
  },
  {
   "cell_type": "code",
   "execution_count": 433,
   "metadata": {},
   "outputs": [],
   "source": [
    "Employment_Sex_field = pd.pivot_table(Canada_data_final,index=['DIM: Major field of study - Classification of Instructional Programs (CIP) 2016 (43)'],values= 'Dim: Labour force status (8): Member ID: [7]: Employment rate',columns= 'DIM: Sex (3)', aggfunc=np.mean)"
   ]
  },
  {
   "cell_type": "code",
   "execution_count": 436,
   "metadata": {},
   "outputs": [
    {
     "data": {
      "text/html": [
       "<div>\n",
       "<style scoped>\n",
       "    .dataframe tbody tr th:only-of-type {\n",
       "        vertical-align: middle;\n",
       "    }\n",
       "\n",
       "    .dataframe tbody tr th {\n",
       "        vertical-align: top;\n",
       "    }\n",
       "\n",
       "    .dataframe thead th {\n",
       "        text-align: right;\n",
       "    }\n",
       "</style>\n",
       "<table border=\"1\" class=\"dataframe\">\n",
       "  <thead>\n",
       "    <tr style=\"text-align: right;\">\n",
       "      <th>DIM: Sex (3)</th>\n",
       "      <th>Female</th>\n",
       "      <th>Male</th>\n",
       "    </tr>\n",
       "    <tr>\n",
       "      <th>DIM: Major field of study - Classification of Instructional Programs (CIP) 2016 (43)</th>\n",
       "      <th></th>\n",
       "      <th></th>\n",
       "    </tr>\n",
       "  </thead>\n",
       "  <tbody>\n",
       "    <tr>\n",
       "      <th>01. Agriculture, agriculture operations and related sciences</th>\n",
       "      <td>70.9325</td>\n",
       "      <td>80.3900</td>\n",
       "    </tr>\n",
       "    <tr>\n",
       "      <th>03. Natural resources and conservation</th>\n",
       "      <td>71.7575</td>\n",
       "      <td>74.6600</td>\n",
       "    </tr>\n",
       "    <tr>\n",
       "      <th>04. Architecture and related services</th>\n",
       "      <td>69.4650</td>\n",
       "      <td>76.9075</td>\n",
       "    </tr>\n",
       "    <tr>\n",
       "      <th>05. Area, ethnic, cultural, gender, and group studies</th>\n",
       "      <td>66.5125</td>\n",
       "      <td>69.7250</td>\n",
       "    </tr>\n",
       "    <tr>\n",
       "      <th>09. Communication, journalism and related programs</th>\n",
       "      <td>73.2125</td>\n",
       "      <td>75.6075</td>\n",
       "    </tr>\n",
       "    <tr>\n",
       "      <th>10. Communications technologies/technicians and support services</th>\n",
       "      <td>67.3875</td>\n",
       "      <td>74.1075</td>\n",
       "    </tr>\n",
       "    <tr>\n",
       "      <th>11. Computer and information sciences and support services</th>\n",
       "      <td>66.0525</td>\n",
       "      <td>76.1325</td>\n",
       "    </tr>\n",
       "    <tr>\n",
       "      <th>12. Personal and culinary services</th>\n",
       "      <td>15.2675</td>\n",
       "      <td>22.4925</td>\n",
       "    </tr>\n",
       "    <tr>\n",
       "      <th>13. Education</th>\n",
       "      <td>72.0500</td>\n",
       "      <td>75.7675</td>\n",
       "    </tr>\n",
       "    <tr>\n",
       "      <th>14. Engineering</th>\n",
       "      <td>52.8325</td>\n",
       "      <td>61.4650</td>\n",
       "    </tr>\n",
       "    <tr>\n",
       "      <th>15. Engineering technologies and engineering-related fields</th>\n",
       "      <td>28.8100</td>\n",
       "      <td>38.2900</td>\n",
       "    </tr>\n",
       "    <tr>\n",
       "      <th>16. Aboriginal and foreign languages, literatures and linguistics</th>\n",
       "      <td>63.6900</td>\n",
       "      <td>69.7375</td>\n",
       "    </tr>\n",
       "    <tr>\n",
       "      <th>19. Family and consumer sciences/human sciences</th>\n",
       "      <td>70.0525</td>\n",
       "      <td>74.7600</td>\n",
       "    </tr>\n",
       "    <tr>\n",
       "      <th>22. Legal professions and studies</th>\n",
       "      <td>70.4250</td>\n",
       "      <td>75.9750</td>\n",
       "    </tr>\n",
       "    <tr>\n",
       "      <th>23. English language and literature/letters</th>\n",
       "      <td>63.2100</td>\n",
       "      <td>70.8250</td>\n",
       "    </tr>\n",
       "    <tr>\n",
       "      <th>24. Liberal arts and sciences, general studies and humanities</th>\n",
       "      <td>64.1575</td>\n",
       "      <td>72.0725</td>\n",
       "    </tr>\n",
       "    <tr>\n",
       "      <th>25. Library science</th>\n",
       "      <td>66.7425</td>\n",
       "      <td>66.6700</td>\n",
       "    </tr>\n",
       "    <tr>\n",
       "      <th>26. Biological and biomedical sciences</th>\n",
       "      <td>67.2400</td>\n",
       "      <td>71.5850</td>\n",
       "    </tr>\n",
       "    <tr>\n",
       "      <th>27. Mathematics and statistics</th>\n",
       "      <td>62.9875</td>\n",
       "      <td>68.2700</td>\n",
       "    </tr>\n",
       "    <tr>\n",
       "      <th>28. Military science, leadership and operational art</th>\n",
       "      <td>48.5400</td>\n",
       "      <td>71.2650</td>\n",
       "    </tr>\n",
       "    <tr>\n",
       "      <th>29. Military technologies and applied sciences</th>\n",
       "      <td>19.9900</td>\n",
       "      <td>62.1200</td>\n",
       "    </tr>\n",
       "    <tr>\n",
       "      <th>30. Multidisciplinary/interdisciplinary studies</th>\n",
       "      <td>66.5625</td>\n",
       "      <td>70.2600</td>\n",
       "    </tr>\n",
       "    <tr>\n",
       "      <th>31. Parks, recreation, leisure and fitness studies</th>\n",
       "      <td>71.7825</td>\n",
       "      <td>75.7550</td>\n",
       "    </tr>\n",
       "    <tr>\n",
       "      <th>38. Philosophy and religious studies</th>\n",
       "      <td>63.5600</td>\n",
       "      <td>70.9650</td>\n",
       "    </tr>\n",
       "    <tr>\n",
       "      <th>39. Theology and religious vocations</th>\n",
       "      <td>64.8350</td>\n",
       "      <td>76.9725</td>\n",
       "    </tr>\n",
       "    <tr>\n",
       "      <th>40. Physical sciences</th>\n",
       "      <td>63.5925</td>\n",
       "      <td>70.2775</td>\n",
       "    </tr>\n",
       "    <tr>\n",
       "      <th>41. Science technologies/technicians</th>\n",
       "      <td>64.0575</td>\n",
       "      <td>61.6700</td>\n",
       "    </tr>\n",
       "    <tr>\n",
       "      <th>42. Psychology</th>\n",
       "      <td>69.8400</td>\n",
       "      <td>72.2750</td>\n",
       "    </tr>\n",
       "    <tr>\n",
       "      <th>43. Security and protective services</th>\n",
       "      <td>75.0150</td>\n",
       "      <td>77.1175</td>\n",
       "    </tr>\n",
       "    <tr>\n",
       "      <th>44. Public administration and social service professions</th>\n",
       "      <td>72.9150</td>\n",
       "      <td>74.0175</td>\n",
       "    </tr>\n",
       "    <tr>\n",
       "      <th>45. Social sciences</th>\n",
       "      <td>67.7725</td>\n",
       "      <td>74.2725</td>\n",
       "    </tr>\n",
       "    <tr>\n",
       "      <th>46. Construction trades</th>\n",
       "      <td>12.7950</td>\n",
       "      <td>14.7275</td>\n",
       "    </tr>\n",
       "    <tr>\n",
       "      <th>47. Mechanic and repair technologies/technicians</th>\n",
       "      <td>13.6825</td>\n",
       "      <td>15.3000</td>\n",
       "    </tr>\n",
       "    <tr>\n",
       "      <th>48. Precision production</th>\n",
       "      <td>58.1350</td>\n",
       "      <td>66.6625</td>\n",
       "    </tr>\n",
       "    <tr>\n",
       "      <th>49. Transportation and materials moving</th>\n",
       "      <td>65.1650</td>\n",
       "      <td>72.6700</td>\n",
       "    </tr>\n",
       "    <tr>\n",
       "      <th>50. Visual and performing arts</th>\n",
       "      <td>69.0250</td>\n",
       "      <td>75.5525</td>\n",
       "    </tr>\n",
       "    <tr>\n",
       "      <th>51. Health professions and related programs</th>\n",
       "      <td>71.6400</td>\n",
       "      <td>74.9300</td>\n",
       "    </tr>\n",
       "    <tr>\n",
       "      <th>52. Business, management, marketing and related support services</th>\n",
       "      <td>71.0875</td>\n",
       "      <td>77.0625</td>\n",
       "    </tr>\n",
       "    <tr>\n",
       "      <th>54. History</th>\n",
       "      <td>65.3875</td>\n",
       "      <td>72.3525</td>\n",
       "    </tr>\n",
       "    <tr>\n",
       "      <th>55. French language and literature/letters</th>\n",
       "      <td>67.8550</td>\n",
       "      <td>69.1125</td>\n",
       "    </tr>\n",
       "    <tr>\n",
       "      <th>60. Dental, medical and veterinary residency programs</th>\n",
       "      <td>28.7650</td>\n",
       "      <td>31.9250</td>\n",
       "    </tr>\n",
       "  </tbody>\n",
       "</table>\n",
       "</div>"
      ],
      "text/plain": [
       "DIM: Sex (3)                                         Female     Male\n",
       "DIM: Major field of study - Classification of I...                  \n",
       "01. Agriculture, agriculture operations and rel...  70.9325  80.3900\n",
       "03. Natural resources and conservation              71.7575  74.6600\n",
       "04. Architecture and related services               69.4650  76.9075\n",
       "05. Area, ethnic, cultural, gender, and group s...  66.5125  69.7250\n",
       "09. Communication, journalism and related programs  73.2125  75.6075\n",
       "10. Communications technologies/technicians and...  67.3875  74.1075\n",
       "11. Computer and information sciences and suppo...  66.0525  76.1325\n",
       "12. Personal and culinary services                  15.2675  22.4925\n",
       "13. Education                                       72.0500  75.7675\n",
       "14. Engineering                                     52.8325  61.4650\n",
       "15. Engineering technologies and engineering-re...  28.8100  38.2900\n",
       "16. Aboriginal and foreign languages, literatur...  63.6900  69.7375\n",
       "19. Family and consumer sciences/human sciences     70.0525  74.7600\n",
       "22. Legal professions and studies                   70.4250  75.9750\n",
       "23. English language and literature/letters         63.2100  70.8250\n",
       "24. Liberal arts and sciences, general studies ...  64.1575  72.0725\n",
       "25. Library science                                 66.7425  66.6700\n",
       "26. Biological and biomedical sciences              67.2400  71.5850\n",
       "27. Mathematics and statistics                      62.9875  68.2700\n",
       "28. Military science, leadership and operationa...  48.5400  71.2650\n",
       "29. Military technologies and applied sciences      19.9900  62.1200\n",
       "30. Multidisciplinary/interdisciplinary studies     66.5625  70.2600\n",
       "31. Parks, recreation, leisure and fitness studies  71.7825  75.7550\n",
       "38. Philosophy and religious studies                63.5600  70.9650\n",
       "39. Theology and religious vocations                64.8350  76.9725\n",
       "40. Physical sciences                               63.5925  70.2775\n",
       "41. Science technologies/technicians                64.0575  61.6700\n",
       "42. Psychology                                      69.8400  72.2750\n",
       "43. Security and protective services                75.0150  77.1175\n",
       "44. Public administration and social service pr...  72.9150  74.0175\n",
       "45. Social sciences                                 67.7725  74.2725\n",
       "46. Construction trades                             12.7950  14.7275\n",
       "47. Mechanic and repair technologies/technicians    13.6825  15.3000\n",
       "48. Precision production                            58.1350  66.6625\n",
       "49. Transportation and materials moving             65.1650  72.6700\n",
       "50. Visual and performing arts                      69.0250  75.5525\n",
       "51. Health professions and related programs         71.6400  74.9300\n",
       "52. Business, management, marketing and related...  71.0875  77.0625\n",
       "54. History                                         65.3875  72.3525\n",
       "55. French language and literature/letters          67.8550  69.1125\n",
       "60. Dental, medical and veterinary residency pr...  28.7650  31.9250"
      ]
     },
     "execution_count": 436,
     "metadata": {},
     "output_type": "execute_result"
    }
   ],
   "source": [
    "Employment_Sex_field"
   ]
  },
  {
   "cell_type": "code",
   "execution_count": 478,
   "metadata": {},
   "outputs": [
    {
     "data": {
      "text/plain": [
       "<matplotlib.axes._subplots.AxesSubplot at 0x1f01cc69438>"
      ]
     },
     "execution_count": 478,
     "metadata": {},
     "output_type": "execute_result"
    },
    {
     "data": {
      "image/png": "[encoded data removed]",
      "text/plain": [
       "<Figure size 432x288 with 1 Axes>"
      ]
     },
     "metadata": {
      "needs_background": "light"
     },
     "output_type": "display_data"
    }
   ],
   "source": [
    "Employment_Sex_field.plot(kind = 'bar')"
   ]
  },
  {
   "cell_type": "markdown",
   "metadata": {},
   "source": [
    "### How about the age, does the age affect the employment rate for different fields of study? "
   ]
  },
  {
   "cell_type": "code",
   "execution_count": 484,
   "metadata": {},
   "outputs": [],
   "source": [
    "DF5= Canada_data_final[['DIM: Major field of study - Classification of Instructional Programs (CIP) 2016 (43)','DIM: Age (9)','Dim: Labour force status (8): Member ID: [7]: Employment rate']]"
   ]
  },
  {
   "cell_type": "code",
   "execution_count": 485,
   "metadata": {},
   "outputs": [],
   "source": [
    "DF5.columns=['Field of Study','Age' ,'Average Employment Rate']"
   ]
  },
  {
   "cell_type": "code",
   "execution_count": 487,
   "metadata": {},
   "outputs": [
    {
     "data": {
      "text/html": [
       "<div>\n",
       "<style scoped>\n",
       "    .dataframe tbody tr th:only-of-type {\n",
       "        vertical-align: middle;\n",
       "    }\n",
       "\n",
       "    .dataframe tbody tr th {\n",
       "        vertical-align: top;\n",
       "    }\n",
       "\n",
       "    .dataframe thead th {\n",
       "        text-align: right;\n",
       "    }\n",
       "</style>\n",
       "<table border=\"1\" class=\"dataframe\">\n",
       "  <thead>\n",
       "    <tr style=\"text-align: right;\">\n",
       "      <th>Age</th>\n",
       "      <th>15 to 24 years</th>\n",
       "      <th>25 to 34 years</th>\n",
       "      <th>25 to 54 years</th>\n",
       "      <th>25 to 64 years</th>\n",
       "      <th>35 to 44 years</th>\n",
       "      <th>45 to 54 years</th>\n",
       "      <th>55 to 64 years</th>\n",
       "      <th>65 years and over</th>\n",
       "    </tr>\n",
       "    <tr>\n",
       "      <th>Field of Study</th>\n",
       "      <th></th>\n",
       "      <th></th>\n",
       "      <th></th>\n",
       "      <th></th>\n",
       "      <th></th>\n",
       "      <th></th>\n",
       "      <th></th>\n",
       "      <th></th>\n",
       "    </tr>\n",
       "  </thead>\n",
       "  <tbody>\n",
       "    <tr>\n",
       "      <th>01. Agriculture, agriculture operations and related sciences</th>\n",
       "      <td>63.066667</td>\n",
       "      <td>71.775000</td>\n",
       "      <td>72.366667</td>\n",
       "      <td>69.766667</td>\n",
       "      <td>72.466667</td>\n",
       "      <td>72.691667</td>\n",
       "      <td>62.175000</td>\n",
       "      <td>20.100000</td>\n",
       "    </tr>\n",
       "    <tr>\n",
       "      <th>03. Natural resources and conservation</th>\n",
       "      <td>58.991667</td>\n",
       "      <td>68.958333</td>\n",
       "      <td>71.391667</td>\n",
       "      <td>68.150000</td>\n",
       "      <td>73.050000</td>\n",
       "      <td>72.908333</td>\n",
       "      <td>55.333333</td>\n",
       "      <td>19.275000</td>\n",
       "    </tr>\n",
       "    <tr>\n",
       "      <th>04. Architecture and related services</th>\n",
       "      <td>52.925000</td>\n",
       "      <td>69.291667</td>\n",
       "      <td>70.741667</td>\n",
       "      <td>68.816667</td>\n",
       "      <td>70.975000</td>\n",
       "      <td>71.616667</td>\n",
       "      <td>61.025000</td>\n",
       "      <td>22.516667</td>\n",
       "    </tr>\n",
       "    <tr>\n",
       "      <th>05. Area, ethnic, cultural, gender, and group studies</th>\n",
       "      <td>52.625000</td>\n",
       "      <td>64.666667</td>\n",
       "      <td>66.591667</td>\n",
       "      <td>64.075000</td>\n",
       "      <td>68.391667</td>\n",
       "      <td>66.100000</td>\n",
       "      <td>52.475000</td>\n",
       "      <td>19.200000</td>\n",
       "    </tr>\n",
       "    <tr>\n",
       "      <th>09. Communication, journalism and related programs</th>\n",
       "      <td>60.716667</td>\n",
       "      <td>72.258333</td>\n",
       "      <td>72.083333</td>\n",
       "      <td>69.716667</td>\n",
       "      <td>72.308333</td>\n",
       "      <td>71.391667</td>\n",
       "      <td>56.866667</td>\n",
       "      <td>20.725000</td>\n",
       "    </tr>\n",
       "    <tr>\n",
       "      <th>10. Communications technologies/technicians and support services</th>\n",
       "      <td>54.600000</td>\n",
       "      <td>71.766667</td>\n",
       "      <td>71.591667</td>\n",
       "      <td>69.033333</td>\n",
       "      <td>70.741667</td>\n",
       "      <td>71.058333</td>\n",
       "      <td>50.783333</td>\n",
       "      <td>12.075000</td>\n",
       "    </tr>\n",
       "    <tr>\n",
       "      <th>11. Computer and information sciences and support services</th>\n",
       "      <td>54.133333</td>\n",
       "      <td>66.333333</td>\n",
       "      <td>69.358333</td>\n",
       "      <td>67.366667</td>\n",
       "      <td>70.091667</td>\n",
       "      <td>71.308333</td>\n",
       "      <td>55.858333</td>\n",
       "      <td>19.500000</td>\n",
       "    </tr>\n",
       "    <tr>\n",
       "      <th>12. Personal and culinary services</th>\n",
       "      <td>13.233333</td>\n",
       "      <td>13.675000</td>\n",
       "      <td>21.800000</td>\n",
       "      <td>35.891667</td>\n",
       "      <td>13.450000</td>\n",
       "      <td>13.241667</td>\n",
       "      <td>10.866667</td>\n",
       "      <td>3.708333</td>\n",
       "    </tr>\n",
       "    <tr>\n",
       "      <th>13. Education</th>\n",
       "      <td>65.025000</td>\n",
       "      <td>73.483333</td>\n",
       "      <td>74.508333</td>\n",
       "      <td>67.950000</td>\n",
       "      <td>74.866667</td>\n",
       "      <td>74.708333</td>\n",
       "      <td>50.216667</td>\n",
       "      <td>11.966667</td>\n",
       "    </tr>\n",
       "    <tr>\n",
       "      <th>14. Engineering</th>\n",
       "      <td>45.408333</td>\n",
       "      <td>52.891667</td>\n",
       "      <td>54.675000</td>\n",
       "      <td>58.741667</td>\n",
       "      <td>55.583333</td>\n",
       "      <td>55.516667</td>\n",
       "      <td>46.175000</td>\n",
       "      <td>12.000000</td>\n",
       "    </tr>\n",
       "    <tr>\n",
       "      <th>15. Engineering technologies and engineering-related fields</th>\n",
       "      <td>36.508333</td>\n",
       "      <td>44.308333</td>\n",
       "      <td>44.675000</td>\n",
       "      <td>43.725000</td>\n",
       "      <td>27.083333</td>\n",
       "      <td>14.033333</td>\n",
       "      <td>10.600000</td>\n",
       "      <td>2.733333</td>\n",
       "    </tr>\n",
       "    <tr>\n",
       "      <th>16. Aboriginal and foreign languages, literatures and linguistics</th>\n",
       "      <td>53.025000</td>\n",
       "      <td>62.425000</td>\n",
       "      <td>65.083333</td>\n",
       "      <td>62.541667</td>\n",
       "      <td>66.075000</td>\n",
       "      <td>66.275000</td>\n",
       "      <td>54.216667</td>\n",
       "      <td>15.116667</td>\n",
       "    </tr>\n",
       "    <tr>\n",
       "      <th>19. Family and consumer sciences/human sciences</th>\n",
       "      <td>61.966667</td>\n",
       "      <td>70.066667</td>\n",
       "      <td>69.933333</td>\n",
       "      <td>67.300000</td>\n",
       "      <td>70.425000</td>\n",
       "      <td>69.425000</td>\n",
       "      <td>56.258333</td>\n",
       "      <td>17.333333</td>\n",
       "    </tr>\n",
       "    <tr>\n",
       "      <th>22. Legal professions and studies</th>\n",
       "      <td>53.833333</td>\n",
       "      <td>67.550000</td>\n",
       "      <td>69.958333</td>\n",
       "      <td>67.991667</td>\n",
       "      <td>71.075000</td>\n",
       "      <td>71.533333</td>\n",
       "      <td>60.016667</td>\n",
       "      <td>26.041667</td>\n",
       "    </tr>\n",
       "    <tr>\n",
       "      <th>23. English language and literature/letters</th>\n",
       "      <td>53.283333</td>\n",
       "      <td>62.283333</td>\n",
       "      <td>64.750000</td>\n",
       "      <td>62.541667</td>\n",
       "      <td>66.216667</td>\n",
       "      <td>66.191667</td>\n",
       "      <td>54.216667</td>\n",
       "      <td>17.300000</td>\n",
       "    </tr>\n",
       "    <tr>\n",
       "      <th>24. Liberal arts and sciences, general studies and humanities</th>\n",
       "      <td>54.941667</td>\n",
       "      <td>64.550000</td>\n",
       "      <td>67.150000</td>\n",
       "      <td>64.133333</td>\n",
       "      <td>68.441667</td>\n",
       "      <td>68.683333</td>\n",
       "      <td>51.791667</td>\n",
       "      <td>14.408333</td>\n",
       "    </tr>\n",
       "    <tr>\n",
       "      <th>25. Library science</th>\n",
       "      <td>42.333333</td>\n",
       "      <td>68.041667</td>\n",
       "      <td>69.983333</td>\n",
       "      <td>63.550000</td>\n",
       "      <td>72.200000</td>\n",
       "      <td>68.975000</td>\n",
       "      <td>50.116667</td>\n",
       "      <td>9.508333</td>\n",
       "    </tr>\n",
       "    <tr>\n",
       "      <th>26. Biological and biomedical sciences</th>\n",
       "      <td>44.975000</td>\n",
       "      <td>63.750000</td>\n",
       "      <td>68.700000</td>\n",
       "      <td>66.491667</td>\n",
       "      <td>72.008333</td>\n",
       "      <td>71.550000</td>\n",
       "      <td>56.175000</td>\n",
       "      <td>19.100000</td>\n",
       "    </tr>\n",
       "    <tr>\n",
       "      <th>27. Mathematics and statistics</th>\n",
       "      <td>43.850000</td>\n",
       "      <td>63.691667</td>\n",
       "      <td>66.108333</td>\n",
       "      <td>62.766667</td>\n",
       "      <td>65.991667</td>\n",
       "      <td>68.583333</td>\n",
       "      <td>52.116667</td>\n",
       "      <td>14.416667</td>\n",
       "    </tr>\n",
       "    <tr>\n",
       "      <th>28. Military science, leadership and operational art</th>\n",
       "      <td>21.666667</td>\n",
       "      <td>52.333333</td>\n",
       "      <td>71.641667</td>\n",
       "      <td>71.241667</td>\n",
       "      <td>61.833333</td>\n",
       "      <td>62.625000</td>\n",
       "      <td>48.566667</td>\n",
       "      <td>9.441667</td>\n",
       "    </tr>\n",
       "    <tr>\n",
       "      <th>29. Military technologies and applied sciences</th>\n",
       "      <td>6.408333</td>\n",
       "      <td>20.766667</td>\n",
       "      <td>56.333333</td>\n",
       "      <td>50.325000</td>\n",
       "      <td>44.375000</td>\n",
       "      <td>58.491667</td>\n",
       "      <td>31.583333</td>\n",
       "      <td>5.416667</td>\n",
       "    </tr>\n",
       "    <tr>\n",
       "      <th>30. Multidisciplinary/interdisciplinary studies</th>\n",
       "      <td>45.900000</td>\n",
       "      <td>63.308333</td>\n",
       "      <td>68.233333</td>\n",
       "      <td>65.191667</td>\n",
       "      <td>71.058333</td>\n",
       "      <td>71.091667</td>\n",
       "      <td>54.183333</td>\n",
       "      <td>17.108333</td>\n",
       "    </tr>\n",
       "    <tr>\n",
       "      <th>31. Parks, recreation, leisure and fitness studies</th>\n",
       "      <td>59.258333</td>\n",
       "      <td>70.775000</td>\n",
       "      <td>72.708333</td>\n",
       "      <td>69.558333</td>\n",
       "      <td>74.391667</td>\n",
       "      <td>73.841667</td>\n",
       "      <td>55.016667</td>\n",
       "      <td>16.241667</td>\n",
       "    </tr>\n",
       "    <tr>\n",
       "      <th>38. Philosophy and religious studies</th>\n",
       "      <td>51.650000</td>\n",
       "      <td>61.725000</td>\n",
       "      <td>65.308333</td>\n",
       "      <td>63.191667</td>\n",
       "      <td>66.241667</td>\n",
       "      <td>67.666667</td>\n",
       "      <td>54.850000</td>\n",
       "      <td>17.783333</td>\n",
       "    </tr>\n",
       "    <tr>\n",
       "      <th>39. Theology and religious vocations</th>\n",
       "      <td>56.016667</td>\n",
       "      <td>61.266667</td>\n",
       "      <td>67.966667</td>\n",
       "      <td>65.408333</td>\n",
       "      <td>67.825000</td>\n",
       "      <td>71.266667</td>\n",
       "      <td>61.000000</td>\n",
       "      <td>21.941667</td>\n",
       "    </tr>\n",
       "    <tr>\n",
       "      <th>40. Physical sciences</th>\n",
       "      <td>46.575000</td>\n",
       "      <td>63.758333</td>\n",
       "      <td>66.925000</td>\n",
       "      <td>63.641667</td>\n",
       "      <td>68.200000</td>\n",
       "      <td>68.425000</td>\n",
       "      <td>54.141667</td>\n",
       "      <td>14.566667</td>\n",
       "    </tr>\n",
       "    <tr>\n",
       "      <th>41. Science technologies/technicians</th>\n",
       "      <td>36.008333</td>\n",
       "      <td>53.991667</td>\n",
       "      <td>68.166667</td>\n",
       "      <td>64.850000</td>\n",
       "      <td>68.425000</td>\n",
       "      <td>65.516667</td>\n",
       "      <td>50.875000</td>\n",
       "      <td>11.258333</td>\n",
       "    </tr>\n",
       "    <tr>\n",
       "      <th>42. Psychology</th>\n",
       "      <td>56.433333</td>\n",
       "      <td>66.533333</td>\n",
       "      <td>69.600000</td>\n",
       "      <td>65.741667</td>\n",
       "      <td>72.041667</td>\n",
       "      <td>70.491667</td>\n",
       "      <td>52.208333</td>\n",
       "      <td>20.666667</td>\n",
       "    </tr>\n",
       "    <tr>\n",
       "      <th>43. Security and protective services</th>\n",
       "      <td>68.283333</td>\n",
       "      <td>74.133333</td>\n",
       "      <td>73.908333</td>\n",
       "      <td>71.958333</td>\n",
       "      <td>75.133333</td>\n",
       "      <td>71.475000</td>\n",
       "      <td>54.483333</td>\n",
       "      <td>17.733333</td>\n",
       "    </tr>\n",
       "    <tr>\n",
       "      <th>44. Public administration and social service professions</th>\n",
       "      <td>63.633333</td>\n",
       "      <td>71.108333</td>\n",
       "      <td>72.141667</td>\n",
       "      <td>67.308333</td>\n",
       "      <td>73.008333</td>\n",
       "      <td>72.425000</td>\n",
       "      <td>52.791667</td>\n",
       "      <td>17.358333</td>\n",
       "    </tr>\n",
       "    <tr>\n",
       "      <th>45. Social sciences</th>\n",
       "      <td>55.841667</td>\n",
       "      <td>68.091667</td>\n",
       "      <td>69.666667</td>\n",
       "      <td>66.758333</td>\n",
       "      <td>70.608333</td>\n",
       "      <td>70.358333</td>\n",
       "      <td>54.491667</td>\n",
       "      <td>17.666667</td>\n",
       "    </tr>\n",
       "    <tr>\n",
       "      <th>46. Construction trades</th>\n",
       "      <td>12.575000</td>\n",
       "      <td>13.425000</td>\n",
       "      <td>13.208333</td>\n",
       "      <td>12.616667</td>\n",
       "      <td>13.183333</td>\n",
       "      <td>13.058333</td>\n",
       "      <td>10.625000</td>\n",
       "      <td>3.050000</td>\n",
       "    </tr>\n",
       "    <tr>\n",
       "      <th>47. Mechanic and repair technologies/technicians</th>\n",
       "      <td>12.883333</td>\n",
       "      <td>14.150000</td>\n",
       "      <td>14.041667</td>\n",
       "      <td>13.350000</td>\n",
       "      <td>14.316667</td>\n",
       "      <td>13.700000</td>\n",
       "      <td>11.250000</td>\n",
       "      <td>2.916667</td>\n",
       "    </tr>\n",
       "    <tr>\n",
       "      <th>48. Precision production</th>\n",
       "      <td>18.866667</td>\n",
       "      <td>63.266667</td>\n",
       "      <td>64.508333</td>\n",
       "      <td>63.883333</td>\n",
       "      <td>69.641667</td>\n",
       "      <td>62.100000</td>\n",
       "      <td>60.183333</td>\n",
       "      <td>13.541667</td>\n",
       "    </tr>\n",
       "    <tr>\n",
       "      <th>49. Transportation and materials moving</th>\n",
       "      <td>54.816667</td>\n",
       "      <td>66.950000</td>\n",
       "      <td>68.075000</td>\n",
       "      <td>66.008333</td>\n",
       "      <td>68.975000</td>\n",
       "      <td>68.858333</td>\n",
       "      <td>56.675000</td>\n",
       "      <td>9.091667</td>\n",
       "    </tr>\n",
       "    <tr>\n",
       "      <th>50. Visual and performing arts</th>\n",
       "      <td>57.975000</td>\n",
       "      <td>69.083333</td>\n",
       "      <td>69.125000</td>\n",
       "      <td>67.083333</td>\n",
       "      <td>69.175000</td>\n",
       "      <td>68.900000</td>\n",
       "      <td>58.000000</td>\n",
       "      <td>22.583333</td>\n",
       "    </tr>\n",
       "    <tr>\n",
       "      <th>51. Health professions and related programs</th>\n",
       "      <td>53.475000</td>\n",
       "      <td>70.241667</td>\n",
       "      <td>72.308333</td>\n",
       "      <td>69.325000</td>\n",
       "      <td>73.341667</td>\n",
       "      <td>73.666667</td>\n",
       "      <td>58.358333</td>\n",
       "      <td>17.850000</td>\n",
       "    </tr>\n",
       "    <tr>\n",
       "      <th>52. Business, management, marketing and related support services</th>\n",
       "      <td>60.791667</td>\n",
       "      <td>70.641667</td>\n",
       "      <td>71.808333</td>\n",
       "      <td>68.791667</td>\n",
       "      <td>72.158333</td>\n",
       "      <td>72.500000</td>\n",
       "      <td>57.275000</td>\n",
       "      <td>19.866667</td>\n",
       "    </tr>\n",
       "    <tr>\n",
       "      <th>54. History</th>\n",
       "      <td>56.125000</td>\n",
       "      <td>68.000000</td>\n",
       "      <td>68.191667</td>\n",
       "      <td>64.200000</td>\n",
       "      <td>67.266667</td>\n",
       "      <td>69.083333</td>\n",
       "      <td>51.100000</td>\n",
       "      <td>15.166667</td>\n",
       "    </tr>\n",
       "    <tr>\n",
       "      <th>55. French language and literature/letters</th>\n",
       "      <td>52.800000</td>\n",
       "      <td>66.016667</td>\n",
       "      <td>69.175000</td>\n",
       "      <td>63.716667</td>\n",
       "      <td>69.925000</td>\n",
       "      <td>70.916667</td>\n",
       "      <td>49.683333</td>\n",
       "      <td>14.325000</td>\n",
       "    </tr>\n",
       "    <tr>\n",
       "      <th>60. Dental, medical and veterinary residency programs</th>\n",
       "      <td>15.858333</td>\n",
       "      <td>28.716667</td>\n",
       "      <td>29.166667</td>\n",
       "      <td>28.950000</td>\n",
       "      <td>29.525000</td>\n",
       "      <td>29.100000</td>\n",
       "      <td>28.141667</td>\n",
       "      <td>12.841667</td>\n",
       "    </tr>\n",
       "  </tbody>\n",
       "</table>\n",
       "</div>"
      ],
      "text/plain": [
       "Age                                                 15 to 24 years  \\\n",
       "Field of Study                                                       \n",
       "01. Agriculture, agriculture operations and rel...       63.066667   \n",
       "03. Natural resources and conservation                   58.991667   \n",
       "04. Architecture and related services                    52.925000   \n",
       "05. Area, ethnic, cultural, gender, and group s...       52.625000   \n",
       "09. Communication, journalism and related programs       60.716667   \n",
       "10. Communications technologies/technicians and...       54.600000   \n",
       "11. Computer and information sciences and suppo...       54.133333   \n",
       "12. Personal and culinary services                       13.233333   \n",
       "13. Education                                            65.025000   \n",
       "14. Engineering                                          45.408333   \n",
       "15. Engineering technologies and engineering-re...       36.508333   \n",
       "16. Aboriginal and foreign languages, literatur...       53.025000   \n",
       "19. Family and consumer sciences/human sciences          61.966667   \n",
       "22. Legal professions and studies                        53.833333   \n",
       "23. English language and literature/letters              53.283333   \n",
       "24. Liberal arts and sciences, general studies ...       54.941667   \n",
       "25. Library science                                      42.333333   \n",
       "26. Biological and biomedical sciences                   44.975000   \n",
       "27. Mathematics and statistics                           43.850000   \n",
       "28. Military science, leadership and operationa...       21.666667   \n",
       "29. Military technologies and applied sciences            6.408333   \n",
       "30. Multidisciplinary/interdisciplinary studies          45.900000   \n",
       "31. Parks, recreation, leisure and fitness studies       59.258333   \n",
       "38. Philosophy and religious studies                     51.650000   \n",
       "39. Theology and religious vocations                     56.016667   \n",
       "40. Physical sciences                                    46.575000   \n",
       "41. Science technologies/technicians                     36.008333   \n",
       "42. Psychology                                           56.433333   \n",
       "43. Security and protective services                     68.283333   \n",
       "44. Public administration and social service pr...       63.633333   \n",
       "45. Social sciences                                      55.841667   \n",
       "46. Construction trades                                  12.575000   \n",
       "47. Mechanic and repair technologies/technicians         12.883333   \n",
       "48. Precision production                                 18.866667   \n",
       "49. Transportation and materials moving                  54.816667   \n",
       "50. Visual and performing arts                           57.975000   \n",
       "51. Health professions and related programs              53.475000   \n",
       "52. Business, management, marketing and related...       60.791667   \n",
       "54. History                                              56.125000   \n",
       "55. French language and literature/letters               52.800000   \n",
       "60. Dental, medical and veterinary residency pr...       15.858333   \n",
       "\n",
       "Age                                                 25 to 34 years  \\\n",
       "Field of Study                                                       \n",
       "01. Agriculture, agriculture operations and rel...       71.775000   \n",
       "03. Natural resources and conservation                   68.958333   \n",
       "04. Architecture and related services                    69.291667   \n",
       "05. Area, ethnic, cultural, gender, and group s...       64.666667   \n",
       "09. Communication, journalism and related programs       72.258333   \n",
       "10. Communications technologies/technicians and...       71.766667   \n",
       "11. Computer and information sciences and suppo...       66.333333   \n",
       "12. Personal and culinary services                       13.675000   \n",
       "13. Education                                            73.483333   \n",
       "14. Engineering                                          52.891667   \n",
       "15. Engineering technologies and engineering-re...       44.308333   \n",
       "16. Aboriginal and foreign languages, literatur...       62.425000   \n",
       "19. Family and consumer sciences/human sciences          70.066667   \n",
       "22. Legal professions and studies                        67.550000   \n",
       "23. English language and literature/letters              62.283333   \n",
       "24. Liberal arts and sciences, general studies ...       64.550000   \n",
       "25. Library science                                      68.041667   \n",
       "26. Biological and biomedical sciences                   63.750000   \n",
       "27. Mathematics and statistics                           63.691667   \n",
       "28. Military science, leadership and operationa...       52.333333   \n",
       "29. Military technologies and applied sciences           20.766667   \n",
       "30. Multidisciplinary/interdisciplinary studies          63.308333   \n",
       "31. Parks, recreation, leisure and fitness studies       70.775000   \n",
       "38. Philosophy and religious studies                     61.725000   \n",
       "39. Theology and religious vocations                     61.266667   \n",
       "40. Physical sciences                                    63.758333   \n",
       "41. Science technologies/technicians                     53.991667   \n",
       "42. Psychology                                           66.533333   \n",
       "43. Security and protective services                     74.133333   \n",
       "44. Public administration and social service pr...       71.108333   \n",
       "45. Social sciences                                      68.091667   \n",
       "46. Construction trades                                  13.425000   \n",
       "47. Mechanic and repair technologies/technicians         14.150000   \n",
       "48. Precision production                                 63.266667   \n",
       "49. Transportation and materials moving                  66.950000   \n",
       "50. Visual and performing arts                           69.083333   \n",
       "51. Health professions and related programs              70.241667   \n",
       "52. Business, management, marketing and related...       70.641667   \n",
       "54. History                                              68.000000   \n",
       "55. French language and literature/letters               66.016667   \n",
       "60. Dental, medical and veterinary residency pr...       28.716667   \n",
       "\n",
       "Age                                                 25 to 54 years  \\\n",
       "Field of Study                                                       \n",
       "01. Agriculture, agriculture operations and rel...       72.366667   \n",
       "03. Natural resources and conservation                   71.391667   \n",
       "04. Architecture and related services                    70.741667   \n",
       "05. Area, ethnic, cultural, gender, and group s...       66.591667   \n",
       "09. Communication, journalism and related programs       72.083333   \n",
       "10. Communications technologies/technicians and...       71.591667   \n",
       "11. Computer and information sciences and suppo...       69.358333   \n",
       "12. Personal and culinary services                       21.800000   \n",
       "13. Education                                            74.508333   \n",
       "14. Engineering                                          54.675000   \n",
       "15. Engineering technologies and engineering-re...       44.675000   \n",
       "16. Aboriginal and foreign languages, literatur...       65.083333   \n",
       "19. Family and consumer sciences/human sciences          69.933333   \n",
       "22. Legal professions and studies                        69.958333   \n",
       "23. English language and literature/letters              64.750000   \n",
       "24. Liberal arts and sciences, general studies ...       67.150000   \n",
       "25. Library science                                      69.983333   \n",
       "26. Biological and biomedical sciences                   68.700000   \n",
       "27. Mathematics and statistics                           66.108333   \n",
       "28. Military science, leadership and operationa...       71.641667   \n",
       "29. Military technologies and applied sciences           56.333333   \n",
       "30. Multidisciplinary/interdisciplinary studies          68.233333   \n",
       "31. Parks, recreation, leisure and fitness studies       72.708333   \n",
       "38. Philosophy and religious studies                     65.308333   \n",
       "39. Theology and religious vocations                     67.966667   \n",
       "40. Physical sciences                                    66.925000   \n",
       "41. Science technologies/technicians                     68.166667   \n",
       "42. Psychology                                           69.600000   \n",
       "43. Security and protective services                     73.908333   \n",
       "44. Public administration and social service pr...       72.141667   \n",
       "45. Social sciences                                      69.666667   \n",
       "46. Construction trades                                  13.208333   \n",
       "47. Mechanic and repair technologies/technicians         14.041667   \n",
       "48. Precision production                                 64.508333   \n",
       "49. Transportation and materials moving                  68.075000   \n",
       "50. Visual and performing arts                           69.125000   \n",
       "51. Health professions and related programs              72.308333   \n",
       "52. Business, management, marketing and related...       71.808333   \n",
       "54. History                                              68.191667   \n",
       "55. French language and literature/letters               69.175000   \n",
       "60. Dental, medical and veterinary residency pr...       29.166667   \n",
       "\n",
       "Age                                                 25 to 64 years  \\\n",
       "Field of Study                                                       \n",
       "01. Agriculture, agriculture operations and rel...       69.766667   \n",
       "03. Natural resources and conservation                   68.150000   \n",
       "04. Architecture and related services                    68.816667   \n",
       "05. Area, ethnic, cultural, gender, and group s...       64.075000   \n",
       "09. Communication, journalism and related programs       69.716667   \n",
       "10. Communications technologies/technicians and...       69.033333   \n",
       "11. Computer and information sciences and suppo...       67.366667   \n",
       "12. Personal and culinary services                       35.891667   \n",
       "13. Education                                            67.950000   \n",
       "14. Engineering                                          58.741667   \n",
       "15. Engineering technologies and engineering-re...       43.725000   \n",
       "16. Aboriginal and foreign languages, literatur...       62.541667   \n",
       "19. Family and consumer sciences/human sciences          67.300000   \n",
       "22. Legal professions and studies                        67.991667   \n",
       "23. English language and literature/letters              62.541667   \n",
       "24. Liberal arts and sciences, general studies ...       64.133333   \n",
       "25. Library science                                      63.550000   \n",
       "26. Biological and biomedical sciences                   66.491667   \n",
       "27. Mathematics and statistics                           62.766667   \n",
       "28. Military science, leadership and operationa...       71.241667   \n",
       "29. Military technologies and applied sciences           50.325000   \n",
       "30. Multidisciplinary/interdisciplinary studies          65.191667   \n",
       "31. Parks, recreation, leisure and fitness studies       69.558333   \n",
       "38. Philosophy and religious studies                     63.191667   \n",
       "39. Theology and religious vocations                     65.408333   \n",
       "40. Physical sciences                                    63.641667   \n",
       "41. Science technologies/technicians                     64.850000   \n",
       "42. Psychology                                           65.741667   \n",
       "43. Security and protective services                     71.958333   \n",
       "44. Public administration and social service pr...       67.308333   \n",
       "45. Social sciences                                      66.758333   \n",
       "46. Construction trades                                  12.616667   \n",
       "47. Mechanic and repair technologies/technicians         13.350000   \n",
       "48. Precision production                                 63.883333   \n",
       "49. Transportation and materials moving                  66.008333   \n",
       "50. Visual and performing arts                           67.083333   \n",
       "51. Health professions and related programs              69.325000   \n",
       "52. Business, management, marketing and related...       68.791667   \n",
       "54. History                                              64.200000   \n",
       "55. French language and literature/letters               63.716667   \n",
       "60. Dental, medical and veterinary residency pr...       28.950000   \n",
       "\n",
       "Age                                                 35 to 44 years  \\\n",
       "Field of Study                                                       \n",
       "01. Agriculture, agriculture operations and rel...       72.466667   \n",
       "03. Natural resources and conservation                   73.050000   \n",
       "04. Architecture and related services                    70.975000   \n",
       "05. Area, ethnic, cultural, gender, and group s...       68.391667   \n",
       "09. Communication, journalism and related programs       72.308333   \n",
       "10. Communications technologies/technicians and...       70.741667   \n",
       "11. Computer and information sciences and suppo...       70.091667   \n",
       "12. Personal and culinary services                       13.450000   \n",
       "13. Education                                            74.866667   \n",
       "14. Engineering                                          55.583333   \n",
       "15. Engineering technologies and engineering-re...       27.083333   \n",
       "16. Aboriginal and foreign languages, literatur...       66.075000   \n",
       "19. Family and consumer sciences/human sciences          70.425000   \n",
       "22. Legal professions and studies                        71.075000   \n",
       "23. English language and literature/letters              66.216667   \n",
       "24. Liberal arts and sciences, general studies ...       68.441667   \n",
       "25. Library science                                      72.200000   \n",
       "26. Biological and biomedical sciences                   72.008333   \n",
       "27. Mathematics and statistics                           65.991667   \n",
       "28. Military science, leadership and operationa...       61.833333   \n",
       "29. Military technologies and applied sciences           44.375000   \n",
       "30. Multidisciplinary/interdisciplinary studies          71.058333   \n",
       "31. Parks, recreation, leisure and fitness studies       74.391667   \n",
       "38. Philosophy and religious studies                     66.241667   \n",
       "39. Theology and religious vocations                     67.825000   \n",
       "40. Physical sciences                                    68.200000   \n",
       "41. Science technologies/technicians                     68.425000   \n",
       "42. Psychology                                           72.041667   \n",
       "43. Security and protective services                     75.133333   \n",
       "44. Public administration and social service pr...       73.008333   \n",
       "45. Social sciences                                      70.608333   \n",
       "46. Construction trades                                  13.183333   \n",
       "47. Mechanic and repair technologies/technicians         14.316667   \n",
       "48. Precision production                                 69.641667   \n",
       "49. Transportation and materials moving                  68.975000   \n",
       "50. Visual and performing arts                           69.175000   \n",
       "51. Health professions and related programs              73.341667   \n",
       "52. Business, management, marketing and related...       72.158333   \n",
       "54. History                                              67.266667   \n",
       "55. French language and literature/letters               69.925000   \n",
       "60. Dental, medical and veterinary residency pr...       29.525000   \n",
       "\n",
       "Age                                                 45 to 54 years  \\\n",
       "Field of Study                                                       \n",
       "01. Agriculture, agriculture operations and rel...       72.691667   \n",
       "03. Natural resources and conservation                   72.908333   \n",
       "04. Architecture and related services                    71.616667   \n",
       "05. Area, ethnic, cultural, gender, and group s...       66.100000   \n",
       "09. Communication, journalism and related programs       71.391667   \n",
       "10. Communications technologies/technicians and...       71.058333   \n",
       "11. Computer and information sciences and suppo...       71.308333   \n",
       "12. Personal and culinary services                       13.241667   \n",
       "13. Education                                            74.708333   \n",
       "14. Engineering                                          55.516667   \n",
       "15. Engineering technologies and engineering-re...       14.033333   \n",
       "16. Aboriginal and foreign languages, literatur...       66.275000   \n",
       "19. Family and consumer sciences/human sciences          69.425000   \n",
       "22. Legal professions and studies                        71.533333   \n",
       "23. English language and literature/letters              66.191667   \n",
       "24. Liberal arts and sciences, general studies ...       68.683333   \n",
       "25. Library science                                      68.975000   \n",
       "26. Biological and biomedical sciences                   71.550000   \n",
       "27. Mathematics and statistics                           68.583333   \n",
       "28. Military science, leadership and operationa...       62.625000   \n",
       "29. Military technologies and applied sciences           58.491667   \n",
       "30. Multidisciplinary/interdisciplinary studies          71.091667   \n",
       "31. Parks, recreation, leisure and fitness studies       73.841667   \n",
       "38. Philosophy and religious studies                     67.666667   \n",
       "39. Theology and religious vocations                     71.266667   \n",
       "40. Physical sciences                                    68.425000   \n",
       "41. Science technologies/technicians                     65.516667   \n",
       "42. Psychology                                           70.491667   \n",
       "43. Security and protective services                     71.475000   \n",
       "44. Public administration and social service pr...       72.425000   \n",
       "45. Social sciences                                      70.358333   \n",
       "46. Construction trades                                  13.058333   \n",
       "47. Mechanic and repair technologies/technicians         13.700000   \n",
       "48. Precision production                                 62.100000   \n",
       "49. Transportation and materials moving                  68.858333   \n",
       "50. Visual and performing arts                           68.900000   \n",
       "51. Health professions and related programs              73.666667   \n",
       "52. Business, management, marketing and related...       72.500000   \n",
       "54. History                                              69.083333   \n",
       "55. French language and literature/letters               70.916667   \n",
       "60. Dental, medical and veterinary residency pr...       29.100000   \n",
       "\n",
       "Age                                                 55 to 64 years  \\\n",
       "Field of Study                                                       \n",
       "01. Agriculture, agriculture operations and rel...       62.175000   \n",
       "03. Natural resources and conservation                   55.333333   \n",
       "04. Architecture and related services                    61.025000   \n",
       "05. Area, ethnic, cultural, gender, and group s...       52.475000   \n",
       "09. Communication, journalism and related programs       56.866667   \n",
       "10. Communications technologies/technicians and...       50.783333   \n",
       "11. Computer and information sciences and suppo...       55.858333   \n",
       "12. Personal and culinary services                       10.866667   \n",
       "13. Education                                            50.216667   \n",
       "14. Engineering                                          46.175000   \n",
       "15. Engineering technologies and engineering-re...       10.600000   \n",
       "16. Aboriginal and foreign languages, literatur...       54.216667   \n",
       "19. Family and consumer sciences/human sciences          56.258333   \n",
       "22. Legal professions and studies                        60.016667   \n",
       "23. English language and literature/letters              54.216667   \n",
       "24. Liberal arts and sciences, general studies ...       51.791667   \n",
       "25. Library science                                      50.116667   \n",
       "26. Biological and biomedical sciences                   56.175000   \n",
       "27. Mathematics and statistics                           52.116667   \n",
       "28. Military science, leadership and operationa...       48.566667   \n",
       "29. Military technologies and applied sciences           31.583333   \n",
       "30. Multidisciplinary/interdisciplinary studies          54.183333   \n",
       "31. Parks, recreation, leisure and fitness studies       55.016667   \n",
       "38. Philosophy and religious studies                     54.850000   \n",
       "39. Theology and religious vocations                     61.000000   \n",
       "40. Physical sciences                                    54.141667   \n",
       "41. Science technologies/technicians                     50.875000   \n",
       "42. Psychology                                           52.208333   \n",
       "43. Security and protective services                     54.483333   \n",
       "44. Public administration and social service pr...       52.791667   \n",
       "45. Social sciences                                      54.491667   \n",
       "46. Construction trades                                  10.625000   \n",
       "47. Mechanic and repair technologies/technicians         11.250000   \n",
       "48. Precision production                                 60.183333   \n",
       "49. Transportation and materials moving                  56.675000   \n",
       "50. Visual and performing arts                           58.000000   \n",
       "51. Health professions and related programs              58.358333   \n",
       "52. Business, management, marketing and related...       57.275000   \n",
       "54. History                                              51.100000   \n",
       "55. French language and literature/letters               49.683333   \n",
       "60. Dental, medical and veterinary residency pr...       28.141667   \n",
       "\n",
       "Age                                                 65 years and over  \n",
       "Field of Study                                                         \n",
       "01. Agriculture, agriculture operations and rel...          20.100000  \n",
       "03. Natural resources and conservation                      19.275000  \n",
       "04. Architecture and related services                       22.516667  \n",
       "05. Area, ethnic, cultural, gender, and group s...          19.200000  \n",
       "09. Communication, journalism and related programs          20.725000  \n",
       "10. Communications technologies/technicians and...          12.075000  \n",
       "11. Computer and information sciences and suppo...          19.500000  \n",
       "12. Personal and culinary services                           3.708333  \n",
       "13. Education                                               11.966667  \n",
       "14. Engineering                                             12.000000  \n",
       "15. Engineering technologies and engineering-re...           2.733333  \n",
       "16. Aboriginal and foreign languages, literatur...          15.116667  \n",
       "19. Family and consumer sciences/human sciences             17.333333  \n",
       "22. Legal professions and studies                           26.041667  \n",
       "23. English language and literature/letters                 17.300000  \n",
       "24. Liberal arts and sciences, general studies ...          14.408333  \n",
       "25. Library science                                          9.508333  \n",
       "26. Biological and biomedical sciences                      19.100000  \n",
       "27. Mathematics and statistics                              14.416667  \n",
       "28. Military science, leadership and operationa...           9.441667  \n",
       "29. Military technologies and applied sciences               5.416667  \n",
       "30. Multidisciplinary/interdisciplinary studies             17.108333  \n",
       "31. Parks, recreation, leisure and fitness studies          16.241667  \n",
       "38. Philosophy and religious studies                        17.783333  \n",
       "39. Theology and religious vocations                        21.941667  \n",
       "40. Physical sciences                                       14.566667  \n",
       "41. Science technologies/technicians                        11.258333  \n",
       "42. Psychology                                              20.666667  \n",
       "43. Security and protective services                        17.733333  \n",
       "44. Public administration and social service pr...          17.358333  \n",
       "45. Social sciences                                         17.666667  \n",
       "46. Construction trades                                      3.050000  \n",
       "47. Mechanic and repair technologies/technicians             2.916667  \n",
       "48. Precision production                                    13.541667  \n",
       "49. Transportation and materials moving                      9.091667  \n",
       "50. Visual and performing arts                              22.583333  \n",
       "51. Health professions and related programs                 17.850000  \n",
       "52. Business, management, marketing and related...          19.866667  \n",
       "54. History                                                 15.166667  \n",
       "55. French language and literature/letters                  14.325000  \n",
       "60. Dental, medical and veterinary residency pr...          12.841667  "
      ]
     },
     "execution_count": 487,
     "metadata": {},
     "output_type": "execute_result"
    }
   ],
   "source": [
    "Employment_Age_field = pd.pivot_table(DF5,index=['Field of Study'],values= 'Average Employment Rate',columns= 'Age', aggfunc=np.mean)\n",
    "Employment_Age_field"
   ]
  },
  {
   "cell_type": "code",
   "execution_count": 490,
   "metadata": {},
   "outputs": [
    {
     "data": {
      "text/plain": [
       "<matplotlib.axes._subplots.AxesSubplot at 0x1f01d5dba58>"
      ]
     },
     "execution_count": 490,
     "metadata": {},
     "output_type": "execute_result"
    },
    {
     "data": {
      "image/png": "[encoded data removed]",
      "text/plain": [
       "<Figure size 432x288 with 1 Axes>"
      ]
     },
     "metadata": {
      "needs_background": "light"
     },
     "output_type": "display_data"
    }
   ],
   "source": [
    "Employment_Age_field.plot(kind='bar')"
   ]
  },
  {
   "cell_type": "markdown",
   "metadata": {},
   "source": [
    "## In another part of analysis, we may compare the impact of the major field of study on the labour force outcome in different provinces or cities in Canada!"
   ]
  },
  {
   "cell_type": "code",
   "execution_count": null,
   "metadata": {},
   "outputs": [],
   "source": []
  }
 ],
 "metadata": {
  "kernelspec": {
   "display_name": "Python 3",
   "language": "python",
   "name": "python3"
  },
  "language_info": {
   "codemirror_mode": {
    "name": "ipython",
    "version": 3
   },
   "file_extension": ".py",
   "mimetype": "text/x-python",
   "name": "python",
   "nbconvert_exporter": "python",
   "pygments_lexer": "ipython3",
   "version": "3.7.1"
  }
 },
 "nbformat": 4,
 "nbformat_minor": 2
}
